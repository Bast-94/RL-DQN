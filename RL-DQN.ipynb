{
  "metadata": {
    "colab": {
      "provenance": [],
      "include_colab_link": true
    },
    "kernelspec": {
      "name": "python3",
      "display_name": "Python 3",
      "language": "python"
    },
    "language_info": {
      "name": "python",
      "version": "3.10.12",
      "mimetype": "text/x-python",
      "codemirror_mode": {
        "name": "ipython",
        "version": 3
      },
      "pygments_lexer": "ipython3",
      "nbconvert_exporter": "python",
      "file_extension": ".py"
    },
    "kaggle": {
      "accelerator": "none",
      "dataSources": [],
      "dockerImageVersionId": 30587,
      "isInternetEnabled": true,
      "language": "python",
      "sourceType": "notebook",
      "isGpuEnabled": false
    }
  },
  "nbformat_minor": 0,
  "nbformat": 4,
  "cells": [
    {
      "cell_type": "markdown",
      "metadata": {
        "id": "view-in-github",
        "colab_type": "text"
      },
      "source": [
        "<a href=\"https://colab.research.google.com/github/Bast-94/RL-DQN/blob/dqn-draft/RL-DQN.ipynb\" target=\"_parent\"><img src=\"https://colab.research.google.com/assets/colab-badge.svg\" alt=\"Open In Colab\"/></a>"
      ]
    },
    {
      "cell_type": "markdown",
      "source": [
        "# Projet de Reinforcement Learning : Deep Q-Learning sur le casse-brique d'Atari"
      ],
      "metadata": {
        "id": "IxUx75ISnaC2"
      }
    },
    {
      "cell_type": "code",
      "source": [
        "! pip install gymnasium[\"accept-rom-license\"]\n",
        "! pip install gymnasium[\"atari\"]\n",
        "! pip install torchviz"
      ],
      "metadata": {
        "id": "IT6J8Qb1nTG4",
        "outputId": "e64dc404-94ee-4e38-9684-98c18ef21579",
        "execution": {
          "iopub.status.busy": "2023-11-20T10:23:01.004589Z",
          "iopub.execute_input": "2023-11-20T10:23:01.004993Z",
          "iopub.status.idle": "2023-11-20T10:23:29.308609Z",
          "shell.execute_reply.started": "2023-11-20T10:23:01.004961Z",
          "shell.execute_reply": "2023-11-20T10:23:29.306590Z"
        },
        "trusted": true,
        "colab": {
          "base_uri": "https://localhost:8080/"
        }
      },
      "execution_count": 102,
      "outputs": [
        {
          "output_type": "stream",
          "name": "stdout",
          "text": [
            "Requirement already satisfied: gymnasium[accept-rom-license] in /usr/local/lib/python3.10/dist-packages (0.29.1)\n",
            "Requirement already satisfied: numpy>=1.21.0 in /usr/local/lib/python3.10/dist-packages (from gymnasium[accept-rom-license]) (1.23.5)\n",
            "Requirement already satisfied: cloudpickle>=1.2.0 in /usr/local/lib/python3.10/dist-packages (from gymnasium[accept-rom-license]) (2.2.1)\n",
            "Requirement already satisfied: typing-extensions>=4.3.0 in /usr/local/lib/python3.10/dist-packages (from gymnasium[accept-rom-license]) (4.5.0)\n",
            "Requirement already satisfied: farama-notifications>=0.0.1 in /usr/local/lib/python3.10/dist-packages (from gymnasium[accept-rom-license]) (0.0.4)\n",
            "Requirement already satisfied: autorom[accept-rom-license]~=0.4.2 in /usr/local/lib/python3.10/dist-packages (from gymnasium[accept-rom-license]) (0.4.2)\n",
            "Requirement already satisfied: click in /usr/local/lib/python3.10/dist-packages (from autorom[accept-rom-license]~=0.4.2->gymnasium[accept-rom-license]) (8.1.7)\n",
            "Requirement already satisfied: requests in /usr/local/lib/python3.10/dist-packages (from autorom[accept-rom-license]~=0.4.2->gymnasium[accept-rom-license]) (2.31.0)\n",
            "Requirement already satisfied: tqdm in /usr/local/lib/python3.10/dist-packages (from autorom[accept-rom-license]~=0.4.2->gymnasium[accept-rom-license]) (4.66.1)\n",
            "Requirement already satisfied: AutoROM.accept-rom-license in /usr/local/lib/python3.10/dist-packages (from autorom[accept-rom-license]~=0.4.2->gymnasium[accept-rom-license]) (0.6.1)\n",
            "Requirement already satisfied: charset-normalizer<4,>=2 in /usr/local/lib/python3.10/dist-packages (from requests->autorom[accept-rom-license]~=0.4.2->gymnasium[accept-rom-license]) (3.3.2)\n",
            "Requirement already satisfied: idna<4,>=2.5 in /usr/local/lib/python3.10/dist-packages (from requests->autorom[accept-rom-license]~=0.4.2->gymnasium[accept-rom-license]) (3.4)\n",
            "Requirement already satisfied: urllib3<3,>=1.21.1 in /usr/local/lib/python3.10/dist-packages (from requests->autorom[accept-rom-license]~=0.4.2->gymnasium[accept-rom-license]) (2.0.7)\n",
            "Requirement already satisfied: certifi>=2017.4.17 in /usr/local/lib/python3.10/dist-packages (from requests->autorom[accept-rom-license]~=0.4.2->gymnasium[accept-rom-license]) (2023.7.22)\n",
            "Requirement already satisfied: gymnasium[atari] in /usr/local/lib/python3.10/dist-packages (0.29.1)\n",
            "Requirement already satisfied: numpy>=1.21.0 in /usr/local/lib/python3.10/dist-packages (from gymnasium[atari]) (1.23.5)\n",
            "Requirement already satisfied: cloudpickle>=1.2.0 in /usr/local/lib/python3.10/dist-packages (from gymnasium[atari]) (2.2.1)\n",
            "Requirement already satisfied: typing-extensions>=4.3.0 in /usr/local/lib/python3.10/dist-packages (from gymnasium[atari]) (4.5.0)\n",
            "Requirement already satisfied: farama-notifications>=0.0.1 in /usr/local/lib/python3.10/dist-packages (from gymnasium[atari]) (0.0.4)\n",
            "Requirement already satisfied: shimmy[atari]<1.0,>=0.1.0 in /usr/local/lib/python3.10/dist-packages (from gymnasium[atari]) (0.2.1)\n",
            "Requirement already satisfied: ale-py~=0.8.1 in /usr/local/lib/python3.10/dist-packages (from shimmy[atari]<1.0,>=0.1.0->gymnasium[atari]) (0.8.1)\n",
            "Requirement already satisfied: importlib-resources in /usr/local/lib/python3.10/dist-packages (from ale-py~=0.8.1->shimmy[atari]<1.0,>=0.1.0->gymnasium[atari]) (6.1.1)\n",
            "Requirement already satisfied: torchviz in /usr/local/lib/python3.10/dist-packages (0.0.2)\n",
            "Requirement already satisfied: torch in /usr/local/lib/python3.10/dist-packages (from torchviz) (2.1.0+cu118)\n",
            "Requirement already satisfied: graphviz in /usr/local/lib/python3.10/dist-packages (from torchviz) (0.20.1)\n",
            "Requirement already satisfied: filelock in /usr/local/lib/python3.10/dist-packages (from torch->torchviz) (3.13.1)\n",
            "Requirement already satisfied: typing-extensions in /usr/local/lib/python3.10/dist-packages (from torch->torchviz) (4.5.0)\n",
            "Requirement already satisfied: sympy in /usr/local/lib/python3.10/dist-packages (from torch->torchviz) (1.12)\n",
            "Requirement already satisfied: networkx in /usr/local/lib/python3.10/dist-packages (from torch->torchviz) (3.2.1)\n",
            "Requirement already satisfied: jinja2 in /usr/local/lib/python3.10/dist-packages (from torch->torchviz) (3.1.2)\n",
            "Requirement already satisfied: fsspec in /usr/local/lib/python3.10/dist-packages (from torch->torchviz) (2023.6.0)\n",
            "Requirement already satisfied: triton==2.1.0 in /usr/local/lib/python3.10/dist-packages (from torch->torchviz) (2.1.0)\n",
            "Requirement already satisfied: MarkupSafe>=2.0 in /usr/local/lib/python3.10/dist-packages (from jinja2->torch->torchviz) (2.1.3)\n",
            "Requirement already satisfied: mpmath>=0.19 in /usr/local/lib/python3.10/dist-packages (from sympy->torch->torchviz) (1.3.0)\n"
          ]
        }
      ]
    },
    {
      "cell_type": "markdown",
      "source": [
        "## Présentation globale du projet"
      ],
      "metadata": {
        "id": "R6RsUvhwom-z"
      }
    },
    {
      "cell_type": "markdown",
      "source": [
        "### Objectifs du projet\n",
        "\n",
        "Le but de ce projet est de mettre en place un algorithme d'apprentissage par renforcement basé sur les réseaux de neurones capable de jouer au Casse Brique d'Atari en maximisant ses gains."
      ],
      "metadata": {
        "id": "NJtQe-8OO2_1"
      }
    },
    {
      "cell_type": "markdown",
      "source": [
        "### Algorithme principal"
      ],
      "metadata": {
        "id": "mdognuOSOxDy"
      }
    },
    {
      "cell_type": "markdown",
      "source": [
        "L'algorithme de l'agent va être quelque peu différent de ceux vus dans les tavaux précédents (Sarsa, Qlearning). Plusieurs éléments vont compléxifier la tâche:\n",
        "- Les états sont sous formes d'images de taille $(210,160,3)$ et non plus sous forme numérique.\n",
        "- La fonction $Q(s,a)$ va faire intervenir un réseaux de neurones $\\theta$ qui devra être entraîné.\n",
        "- Les anciennes expériences devront être stockées dans le but de donner une vérité terrain pour l'entrainement du réseau."
      ],
      "metadata": {
        "id": "Zs_C95Ewndez"
      }
    },
    {
      "cell_type": "markdown",
      "source": [
        "#### Pseudo code de l'algorithme"
      ],
      "metadata": {
        "id": "QTVHA36NPEcA"
      }
    },
    {
      "cell_type": "markdown",
      "source": [
        "Le pseudo-code de l'algorithme ci-dessous provient de la publication"
      ],
      "metadata": {
        "id": "mgyJ9MDNo04q"
      }
    },
    {
      "cell_type": "markdown",
      "source": [
        "\n",
        "$\\text{Algorithme de Q-Leearning profond avec répétition d'expérience}$\n",
        "1. **Initialisation:**\n",
        "   - Initialiser le réseau de neurones $Q$ avec des poids aléatoires.\n",
        "   - Initialiser la mémoire de relecture $D$ avec capacité maximale $N$.\n",
        "   - Initialiser aléatoirement les paramètres d'apprentissage.\n",
        "   - Initialiser la fonction $Q$ avec des $\\theta$ aléatoire.\n",
        "   - Initialiser $\\hat{Q}$ avec $\\theta^⁻ = \\theta$.\n",
        "\n",
        "2. **Pour chaque épisode:**\n",
        "   - Initialiser l'environnement et l'état initial $s_1=\\{x_1\\}$\n",
        "   - Appliquer le prétraitement $\\phi_1 = \\phi(s_1)$\n",
        "   \n",
        "   3. **Pour chaque étape $t$ de l'épisode:**\n",
        "      - Choisir l'action $a_t$ avec la politique $\\varepsilon$-greedy\n",
        "        - $\\mathbb{P}(a_t = argmax_a(Q(s_t,a;\\theta)) = 1 - \\varepsilon$\n",
        "        - $\\mathbb{P}(a_t = \\text{random\\_sample(}A)) = \\varepsilon$\n",
        "      - Exécuter l'action $a_t$, observer la récompense $r_t$ et l'état suivant $s_{t+1}$\n",
        "      - Stocker la transition $(s_t, a_t, r_{t}, s_{t+1})$ dans la mémoire de relecture $D$\n",
        "      - Affecter $s_{t+1}=s_t,a_t,x_{t+1}$\n",
        "      - Prétraitement de $s_{t+1}$ : $\\phi_{t+1}=\\phi(s_{t+1})$\n",
        "      - Échantillonner un lot aléatoire de transitions $(s_i, a_i, r_i, s_{i+1})$ de $D$\n",
        "      - Calculer la vérité terrain $y_i$ pour chaque transition $(s_i, a_i, r_i, s_{i+1})$ en utilisant le réseau $\\hat{Q}$ aux paramètre $\\theta^-$\n",
        "      - Cloner $Q$ dans $\\hat{Q}$ toutes les $C$ étapes\n",
        "      \n"
      ],
      "metadata": {
        "id": "QX8se4unQDDr"
      }
    },
    {
      "cell_type": "markdown",
      "source": [
        "#### Détails des variables\n",
        "- $Q$ : Fonction de qualité qui pour un couple état-action évalue à quel point une action dans un état donné est favorable.\n",
        "- $C$ : Nombre d'étapes à laquelle $\\hat{Q}$ se met à jour sur $Q$.\n",
        "- $\\hat{Q}$ : Target Network , il correspond à une version ancienne de $Q$ avec des paramètres $\\theta^-$ sur les $C$ dernières étapes.\n",
        "- $\\theta$ : Correspond aux paramètres du réseau de neurones.\n",
        "- ${A}$ : L'ensemble des actions possibles.\n",
        "- $a_t$ : L'action faite par l'agent à l'étape $t$.\n",
        "- $x_t$ : Correspond à l'image brut du jeu à l'étape $t$.\n",
        "- $s_t$ : Correspond à une séquence de couples action-image $\\{a_i \\times x_i\\}_{i\\lt t}$ .\n",
        "- $\\phi_t$ : Correspond au pré-traitement de l'état $s_t$ (Plus de détails dans la suite du notebook).\n",
        "- $\\varepsilon \\in [0,1]$ : Probabilité de choisir une action aléatoire.\n",
        "- $r_t$ : Récompense obtenue par la réalisation de l'action $a_t$ à l'instant $s_t$\n",
        "- $D$ : Mémoire de relecture.\n",
        "- $N$ : Nombre de simulations."
      ],
      "metadata": {
        "id": "9Se6OPbaO_cU"
      }
    },
    {
      "cell_type": "markdown",
      "source": [
        "## Démarche de recherche et implémentation"
      ],
      "metadata": {
        "id": "mWhORuoko1v4"
      }
    },
    {
      "cell_type": "code",
      "source": [
        "# Importation pour la création des réseaux de neurones\n",
        "from torch import nn\n",
        "import torch\n",
        "import torchvision.transforms as transforms\n",
        "\n",
        "# Librairie dédiée à la simulation du Casse-Brique\n",
        "import gymnasium as gym\n",
        "\n",
        "import matplotlib.pyplot as plt\n",
        "import numpy as np\n",
        "import random\n",
        "import copy\n",
        "from time import time\n",
        "from collections import namedtuple\n",
        "# Librairie dédiée à la création des gif finaux\n",
        "from PIL import Image"
      ],
      "metadata": {
        "id": "6MpkCLnpoSIw",
        "execution": {
          "iopub.status.busy": "2023-11-20T10:23:29.311654Z",
          "iopub.execute_input": "2023-11-20T10:23:29.312110Z",
          "iopub.status.idle": "2023-11-20T10:23:29.321689Z",
          "shell.execute_reply.started": "2023-11-20T10:23:29.312071Z",
          "shell.execute_reply": "2023-11-20T10:23:29.320349Z"
        },
        "trusted": true
      },
      "execution_count": 103,
      "outputs": []
    },
    {
      "cell_type": "markdown",
      "source": [
        "#### Prétraitement des données"
      ],
      "metadata": {
        "id": "Q78gPWyCXSAQ"
      }
    },
    {
      "cell_type": "markdown",
      "source": [
        "Le prétraitement des données se justifie par le fait que l'entrainement des des réseaux de neurones nécessite d'enregistrer les états précédents. Les états correspondent ici à une image du jeux sous frome de tableau de dimension $\\text{(hauteur,largeur,nombre de canaux)}$. Afin de réduire le coût en mémoire il faut réduire la taille de chaque état en les prétraitant et en conservant l'information. L'interface du casse-brique d'Atari est très pixelisée et redondante en terme de couleurs, il est donc possible de pouvoir faire une réduction de dimension au niveau de la couleur et de la taille de l'image"
      ],
      "metadata": {
        "id": "sXcCJXtob6NO"
      }
    },
    {
      "cell_type": "code",
      "source": [
        "def preprocess_image(img_array:np.array) -> np.array :\n",
        "  transform = transforms.Compose([\n",
        "      transforms.ToPILImage(),\n",
        "      transforms.Resize((84, 84)),\n",
        "      transforms.Grayscale(num_output_channels=1),\n",
        "      transforms.ToTensor()])\n",
        "  return transform(img_array)\n"
      ],
      "metadata": {
        "id": "vvsrhD0sQxqC",
        "execution": {
          "iopub.status.busy": "2023-11-20T10:23:29.325233Z",
          "iopub.execute_input": "2023-11-20T10:23:29.325635Z",
          "iopub.status.idle": "2023-11-20T10:23:29.333531Z",
          "shell.execute_reply.started": "2023-11-20T10:23:29.325593Z",
          "shell.execute_reply": "2023-11-20T10:23:29.332323Z"
        },
        "trusted": true
      },
      "execution_count": 104,
      "outputs": []
    },
    {
      "cell_type": "markdown",
      "source": [
        "Ainsi l'image passera d'une shape $(210,160,3)$ à une shape $(84,84,1)$ réduisant considérablement la taille."
      ],
      "metadata": {
        "id": "I6UE9iZUfVl6"
      }
    },
    {
      "cell_type": "code",
      "source": [
        "env = gym.make('ALE/Breakout-v5', render_mode=\"rgb_array\")\n",
        "state_img = env.reset()[0]\n",
        "print(env.step(1)[1:])\n",
        "fig,axes = plt.subplots(1,2)\n",
        "fig.suptitle('Images comparison')\n",
        "axes[0].set_title('Original image')\n",
        "axes[0].imshow(state_img)\n",
        "axes[0].axis('off')\n",
        "new_img = preprocess_image(state_img)\n",
        "print(f'{new_img.size() = }')\n",
        "axes[1].axis('off')\n",
        "axes[1].set_title('Preprocessed image')\n",
        "axes[1].imshow(new_img.permute(1,2,0))"
      ],
      "metadata": {
        "id": "60aiphhbXCe_",
        "outputId": "09053a52-58b0-4858-f8fc-db3452414bdc",
        "execution": {
          "iopub.status.busy": "2023-11-20T10:23:29.335245Z",
          "iopub.execute_input": "2023-11-20T10:23:29.335574Z",
          "iopub.status.idle": "2023-11-20T10:23:29.918409Z",
          "shell.execute_reply.started": "2023-11-20T10:23:29.335546Z",
          "shell.execute_reply": "2023-11-20T10:23:29.917256Z"
        },
        "trusted": true,
        "colab": {
          "base_uri": "https://localhost:8080/",
          "height": 469
        }
      },
      "execution_count": 105,
      "outputs": [
        {
          "output_type": "stream",
          "name": "stdout",
          "text": [
            "(0.0, False, False, {'lives': 5, 'episode_frame_number': 4, 'frame_number': 4})\n",
            "new_img.size() = torch.Size([1, 84, 84])\n"
          ]
        },
        {
          "output_type": "execute_result",
          "data": {
            "text/plain": [
              "<matplotlib.image.AxesImage at 0x7b978ad6fd30>"
            ]
          },
          "metadata": {},
          "execution_count": 105
        },
        {
          "output_type": "display_data",
          "data": {
            "text/plain": [
              "<Figure size 640x480 with 2 Axes>"
            ],
            "image/png": "[encoded data removed]"
          },
          "metadata": {}
        }
      ]
    },
    {
      "cell_type": "code",
      "source": [
        "Input = namedtuple('input', ('height', 'width', 'n_action'))\n",
        "\n",
        "def get_input_shapes(env:gym.Env):\n",
        "  env_tensor = np.zeros(env.observation_space.shape,dtype=np.uint8)\n",
        "  x = preprocess_image(env_tensor)\n",
        "  _,height, width = x.shape\n",
        "  n_action=env.action_space.n\n",
        "  return Input(height,width,n_action)\n",
        "\n"
      ],
      "metadata": {
        "id": "Uj5w4MoD3dxR",
        "execution": {
          "iopub.status.busy": "2023-11-20T10:23:29.955365Z",
          "iopub.execute_input": "2023-11-20T10:23:29.955754Z",
          "iopub.status.idle": "2023-11-20T10:23:29.970257Z",
          "shell.execute_reply.started": "2023-11-20T10:23:29.955713Z",
          "shell.execute_reply": "2023-11-20T10:23:29.969213Z"
        },
        "trusted": true
      },
      "execution_count": 106,
      "outputs": []
    },
    {
      "cell_type": "code",
      "source": [
        "Action = int\n",
        "from collections import deque\n",
        "class StateGenerator():\n",
        "  def __init__(self,env:gym.Env,seq_len:int):\n",
        "    self.env = env\n",
        "    env_tensor = np.zeros(env.observation_space.shape,dtype=np.uint8)\n",
        "    x = preprocess_image(env_tensor)\n",
        "    _,height, width = x.shape\n",
        "    n_action=env.action_space.n\n",
        "    self.seq_len = seq_len\n",
        "    self.stack = torch.zeros(seq_len,height,width)\n",
        "    self.current_frame = np.ndarray(shape=(height,width,1))\n",
        "\n",
        "  def init_env(self):\n",
        "    self.current_frame  = self.env.reset()[0]\n",
        "    state = preprocess_image(self.current_frame)\n",
        "    self.stack[:] =state\n",
        "    return self.stack, self.current_frame\n",
        "\n",
        "  def make_action(self,action:Action):\n",
        "    next_state,reward,truncated, terminated,info =self.env.step(action)\n",
        "    self.current_frame = next_state\n",
        "    next_state = preprocess_image(next_state)\n",
        "    done = truncated or terminated\n",
        "    self._update_stack(next_state)\n",
        "\n",
        "    return self.stack,reward, done, info, self.current_frame\n",
        "\n",
        "  def _update_stack(self, new_state: torch.Tensor):\n",
        "        self.stack[:-1] = self.stack[1:].clone()\n",
        "        self.stack[-1] = new_state\n",
        "\n",
        "  def reset_stack(self):\n",
        "    self.stack = torch.zeros(self.seq_len, 1, *self.stack.shape[2:])\n",
        "\n",
        "StateGenerator(env,5).init_env()[0].shape"
      ],
      "metadata": {
        "id": "ecO981RXCLVj",
        "outputId": "5cba5934-921d-4981-f7e2-0ac853487db8",
        "colab": {
          "base_uri": "https://localhost:8080/"
        }
      },
      "execution_count": 169,
      "outputs": [
        {
          "output_type": "execute_result",
          "data": {
            "text/plain": [
              "torch.Size([5, 84, 84])"
            ]
          },
          "metadata": {},
          "execution_count": 169
        }
      ]
    },
    {
      "cell_type": "markdown",
      "source": [
        "### Elaboration de modèles de de DQN\n",
        "\n",
        "Ici deux modèles vont être implémentés pour étudier quelle est la stratégie la plus adaptée."
      ],
      "metadata": {
        "id": "0A1YB793pFc2"
      }
    },
    {
      "cell_type": "markdown",
      "source": [
        "#### DQN simple"
      ],
      "metadata": {
        "id": "FxrkcKgrgGX5"
      }
    },
    {
      "cell_type": "code",
      "source": [
        "class DQN(nn.Module):\n",
        "    def __init__(self, n_action, height, width,seq_len=1 ,linear_size=1024, model_name=None,):\n",
        "        super(DQN, self).__init__()\n",
        "        self.input_dimension = seq_len, height, width\n",
        "\n",
        "        self.conv1 = nn.Conv2d(in_channels=seq_len, out_channels=32, kernel_size=8, stride=4)\n",
        "        self.relu1 = nn.ReLU()\n",
        "        self.conv2 = nn.Conv2d(32, 32, kernel_size=4, stride=2, padding=1)\n",
        "        self.relu2 = nn.ReLU()\n",
        "        self.conv3 = nn.Conv2d(32, 32, kernel_size=3, stride=1, padding=1)\n",
        "        self.relu3 = nn.ReLU()\n",
        "\n",
        "        x0 = torch.zeros(1, seq_len, height, width)\n",
        "        x0 = self.convolute(x0)\n",
        "        x0 = self.flatten(x0)\n",
        "        flatten_dim = x0.shape[1]\n",
        "\n",
        "        self.linear1 = nn.Linear(flatten_dim, linear_size)\n",
        "        self.relu4 = nn.ReLU()\n",
        "        self.linear2 = nn.Linear(linear_size, n_action)\n",
        "\n",
        "    def flatten(self, x):\n",
        "        return x.view(x.shape[0], -1)\n",
        "\n",
        "    def convolute(self,x):\n",
        "      x = self.conv1(x)\n",
        "      x = self.relu1(x)\n",
        "      x = self.conv2(x)\n",
        "      x = self.relu2(x)\n",
        "      x = self.conv3(x)\n",
        "      x = self.relu3(x)\n",
        "      return x\n",
        "\n",
        "    def forward(self, x):\n",
        "      x = self.convolute(x)\n",
        "\n",
        "      x = self.flatten(x)\n",
        "\n",
        "      x = self.linear1(x)\n",
        "      x = self.relu4(x)\n",
        "      return self.linear2(x)"
      ],
      "metadata": {
        "id": "G823PH_jIctd",
        "execution": {
          "iopub.status.busy": "2023-11-20T10:23:29.922244Z",
          "iopub.execute_input": "2023-11-20T10:23:29.922613Z",
          "iopub.status.idle": "2023-11-20T10:23:29.937143Z",
          "shell.execute_reply.started": "2023-11-20T10:23:29.922575Z",
          "shell.execute_reply": "2023-11-20T10:23:29.936117Z"
        },
        "trusted": true,
        "colab": {
          "base_uri": "https://localhost:8080/"
        },
        "outputId": "f6fc310e-80d7-471a-e819-064b6e0a5ee2"
      },
      "execution_count": 176,
      "outputs": [
        {
          "output_type": "stream",
          "name": "stderr",
          "text": [
            "/usr/local/lib/python3.10/dist-packages/ipykernel/ipkernel.py:283: DeprecationWarning: `should_run_async` will not call `transform_cell` automatically in the future. Please pass the result to `transformed_cell` argument and any exception that happen during thetransform in `preprocessing_exc_tuple` in IPython 7.17 and above.\n",
            "  and should_run_async(code)\n"
          ]
        }
      ]
    },
    {
      "cell_type": "code",
      "source": [
        "\n",
        "\n",
        "class DuellingDQN(nn.Module):\n",
        "    def __init__(self, n_action, height, width, seq_len =1,linear_size=1024, model_name=None):\n",
        "        super(DuellingDQN, self).__init__()\n",
        "        self.input_dimension = seq_len, height, width\n",
        "        self.model_name = model_name\n",
        "        self.conv1 = nn.Conv2d(in_channels=self.input_dimension[0], out_channels=64, kernel_size=8, stride=4)\n",
        "        self.relu1 = nn.ReLU()\n",
        "        self.conv2 = nn.Conv2d(64, 64, kernel_size=4, stride=2, padding=1)\n",
        "        self.relu2 = nn.ReLU()\n",
        "        self.conv3 = nn.Conv2d(64, 64, kernel_size=3, stride=1, padding=1)\n",
        "        self.relu3 = nn.ReLU()\n",
        "\n",
        "        x0 = torch.zeros(1, seq_len, height, width)\n",
        "        x0 = self.convolute(x0)\n",
        "        x0 = self.flatten(x0)\n",
        "        flatten_dim = x0.shape[1]\n",
        "        self.value = nn.Linear(flatten_dim,1)\n",
        "        self.advantage = nn.Linear(flatten_dim,n_action)\n",
        "\n",
        "\n",
        "\n",
        "    def flatten(self, x):\n",
        "        return x.view(x.shape[0], -1)\n",
        "\n",
        "    def convolute(self,x):\n",
        "      x = self.conv1(x)\n",
        "      x = self.relu1(x)\n",
        "      x = self.conv2(x)\n",
        "      x = self.relu2(x)\n",
        "      x = self.conv3(x)\n",
        "      x = self.relu3(x)\n",
        "      return x\n",
        "\n",
        "    def forward(self, x):\n",
        "      x = self.convolute(x)\n",
        "      x = self.flatten(x)\n",
        "      value = self.value(x)\n",
        "      advantage = self.advantage(x)\n",
        "      q_value = value + (advantage - advantage.mean(dim=1,keepdim=True))\n",
        "      return q_value"
      ],
      "metadata": {
        "id": "ST4yINSA3j76",
        "execution": {
          "iopub.status.busy": "2023-11-20T10:23:29.938443Z",
          "iopub.execute_input": "2023-11-20T10:23:29.939314Z",
          "iopub.status.idle": "2023-11-20T10:23:29.953985Z",
          "shell.execute_reply.started": "2023-11-20T10:23:29.939278Z",
          "shell.execute_reply": "2023-11-20T10:23:29.952408Z"
        },
        "trusted": true
      },
      "execution_count": 177,
      "outputs": []
    },
    {
      "cell_type": "markdown",
      "source": [
        "testons"
      ],
      "metadata": {
        "id": "bfOjRVyt_TRz"
      }
    },
    {
      "cell_type": "code",
      "source": [
        "env = gym.make('ALE/Breakout-v5', render_mode=\"rgb_array\")\n",
        "input_data = get_input_shapes(env)\n",
        "\n",
        "dqn = DQN(input_data.n_action,input_data.height,input_data.width)\n",
        "duelling_dqn = DuellingDQN(input_data.n_action,input_data.height,input_data.width)\n",
        "\n",
        "x = preprocess_image(env.reset()[0])\n",
        "x = x.unsqueeze(0)\n",
        "\n",
        "for model in [dqn, duelling_dqn]:\n",
        "  output = model(x)\n",
        "  assert output.size(1) == env.action_space.n, print(f'{output.size(1)} != {env.action_space.n}')\n",
        "  print(\"Les shapes de sortie du modèle sont cohérentes.\")\n",
        "  print(f'{output.size()}')"
      ],
      "metadata": {
        "id": "bHL5liwk-X3B",
        "outputId": "071263b7-b29d-4af8-9957-8f0803f645d1",
        "execution": {
          "iopub.status.busy": "2023-11-20T10:23:29.971488Z",
          "iopub.execute_input": "2023-11-20T10:23:29.971981Z",
          "iopub.status.idle": "2023-11-20T10:23:30.303758Z",
          "shell.execute_reply.started": "2023-11-20T10:23:29.971936Z",
          "shell.execute_reply": "2023-11-20T10:23:30.302410Z"
        },
        "trusted": true,
        "colab": {
          "base_uri": "https://localhost:8080/"
        }
      },
      "execution_count": 126,
      "outputs": [
        {
          "output_type": "stream",
          "name": "stdout",
          "text": [
            "Les shapes de sortie du modèle sont cohérentes.\n",
            "torch.Size([1, 4])\n",
            "Les shapes de sortie du modèle sont cohérentes.\n",
            "torch.Size([1, 4])\n"
          ]
        }
      ]
    },
    {
      "cell_type": "markdown",
      "source": [
        "#### Gestion de la mémoire des expériences"
      ],
      "metadata": {
        "id": "GkoNo8z40ulV"
      }
    },
    {
      "cell_type": "code",
      "source": [
        "GameTransition = namedtuple('game_transition', ('initial_state', 'action', 'reward','next_state', 'done'))"
      ],
      "metadata": {
        "id": "-EEcI22jgs3u",
        "execution": {
          "iopub.status.busy": "2023-11-20T10:23:30.305395Z",
          "iopub.execute_input": "2023-11-20T10:23:30.305790Z",
          "iopub.status.idle": "2023-11-20T10:23:30.311332Z",
          "shell.execute_reply.started": "2023-11-20T10:23:30.305756Z",
          "shell.execute_reply": "2023-11-20T10:23:30.310446Z"
        },
        "trusted": true
      },
      "execution_count": 111,
      "outputs": []
    },
    {
      "cell_type": "code",
      "source": [
        "class ExpStack(): # D\n",
        "  def __init__(self, max_size:int, seq_len:int = 4):\n",
        "    self.transitions = []\n",
        "    self.max_size = max_size # N\n",
        "    self.index = 0\n",
        "    self.seq_len = seq_len\n",
        "\n",
        "  def enqueue(self,transition:GameTransition):\n",
        "    if (len(self.transitions) < self.max_size):\n",
        "      self.transitions.append(transition)\n",
        "    else:\n",
        "      self.transitions[self.index] = transition\n",
        "    self.index +=1\n",
        "    self.index = self.index % self.max_size\n",
        "\n",
        "  def get_experiences(self,nb_exp=1):\n",
        "    return random.sample(self.transitions, nb_exp)\n",
        "\n",
        "  def __len__(self):\n",
        "    return len(self.transitions)\n",
        "\n",
        "  def __getitem__(self,index):\n",
        "    return self.transitions[index]\n",
        "\n",
        "  def sample_minibatch(self,batch_size:int=32):\n",
        "    if (batch_size>len(self)):\n",
        "      return self.transitions\n",
        "\n",
        "    return random.sample(self.transitions, batch_size)\n",
        "\n",
        "  def tensor_batch(self,batch_size):\n",
        "    batch = random.sample(self.transitions, batch_size)\n",
        "    batch = GameTransition(*(zip(*batch)))\n",
        "    initial_state = torch.stack(batch.initial_state)\n",
        "\n",
        "    next_state = torch.stack(batch.next_state)\n",
        "\n",
        "    reward = torch.tensor(batch.reward)\n",
        "    reward = reward.unsqueeze(1)\n",
        "\n",
        "    done = torch.tensor(batch.done).float()\n",
        "    done = done.unsqueeze(1)\n",
        "\n",
        "    action = torch.tensor(batch.action)\n",
        "    action = action.unsqueeze(1)\n",
        "\n",
        "    return GameTransition(initial_state,action,reward,next_state,done)\n"
      ],
      "metadata": {
        "id": "tsLFma1J00XQ",
        "execution": {
          "iopub.status.busy": "2023-11-20T10:23:30.312968Z",
          "iopub.execute_input": "2023-11-20T10:23:30.313540Z",
          "iopub.status.idle": "2023-11-20T10:23:30.329774Z",
          "shell.execute_reply.started": "2023-11-20T10:23:30.313507Z",
          "shell.execute_reply": "2023-11-20T10:23:30.328966Z"
        },
        "trusted": true,
        "colab": {
          "base_uri": "https://localhost:8080/"
        },
        "outputId": "6fa7d2da-d097-4280-8af8-f1afc78979e4"
      },
      "execution_count": 236,
      "outputs": [
        {
          "output_type": "stream",
          "name": "stderr",
          "text": [
            "/usr/local/lib/python3.10/dist-packages/ipykernel/ipkernel.py:283: DeprecationWarning: `should_run_async` will not call `transform_cell` automatically in the future. Please pass the result to `transformed_cell` argument and any exception that happen during thetransform in `preprocessing_exc_tuple` in IPython 7.17 and above.\n",
            "  and should_run_async(code)\n"
          ]
        }
      ]
    },
    {
      "cell_type": "markdown",
      "source": [
        "### Lancement du modèle sur l'algorithme **\"deep Q-learning with experience replay.\"** issu de l'article"
      ],
      "metadata": {
        "id": "sYoZhQMapgsH"
      }
    },
    {
      "cell_type": "code",
      "source": [
        "State = torch.Tensor"
      ],
      "metadata": {
        "id": "1kzOr7vmRNwk",
        "execution": {
          "iopub.status.busy": "2023-11-20T10:23:30.331136Z",
          "iopub.execute_input": "2023-11-20T10:23:30.331880Z",
          "iopub.status.idle": "2023-11-20T10:23:30.344386Z",
          "shell.execute_reply.started": "2023-11-20T10:23:30.331845Z",
          "shell.execute_reply": "2023-11-20T10:23:30.343288Z"
        },
        "trusted": true
      },
      "execution_count": 229,
      "outputs": []
    },
    {
      "cell_type": "code",
      "source": [
        "\"\"\"class DQNAgent():\n",
        "  epsilon = 0.05\n",
        "  batch_size = 32\n",
        "  def __init__(self, env: gym.Env, max_experiences:int = int(1e6),update_frequency:int=5, verbose:bool=True, model_file:str=None, model:nn.Module=None):\n",
        "    self.env = env\n",
        "    self.state_gen = StateGenerator(env,seq_len=4)\n",
        "    self.model = model\n",
        "    self.target_model = copy.deepcopy(self.model)\n",
        "    self.target_model.eval()\n",
        "\n",
        "    self.experiences = ExpStack(max_size=max_experiences,seq_len=1)\n",
        "\n",
        "    self.verbose = verbose\n",
        "    self.update_frequency = update_frequency\n",
        "    self.legal_actions = list(range(env.action_space.n))\n",
        "\n",
        "    self.loss_evolution = []\n",
        "    self.optimizer = torch.optim.Adam(self.model.parameters())\n",
        "    self.loss_func = nn.MSELoss()\n",
        "    self.begin_time = time()\n",
        "    self.stop = False\n",
        "    self.epoch_count = 0\n",
        "    self.frames = []\n",
        "    if (model_file is None):\n",
        "      self.model_file = 'model.pt'\n",
        "    else:\n",
        "      self.model_file = model_file\n",
        "\n",
        "\n",
        "\n",
        "\n",
        "  def train_model(self) -> None:\n",
        "    self.model.train()\n",
        "    batch = self.experiences.tensor_batch(self.batch_size)\n",
        "    if (len(self.experiences) >= self.batch_size):\n",
        "\n",
        "      y_target = (1 - batch.done ) * self.target_model(batch.next_state) * self.gamma + batch.reward\n",
        "      y_target = y_target.max(1)[0].unsqueeze(1)\n",
        "      y_pred = self.model(batch.initial_state).gather(1,batch.action)\n",
        "      self.gradient_descent(y_target,y_pred)\n",
        "\n",
        "  def gradient_descent(self,y_target,y_pred):\n",
        "    loss = self.loss_func(y_target,y_pred)\n",
        "    self.optimizer.zero_grad()\n",
        "    loss.backward()\n",
        "    self.loss_evolution.append(loss.item())\n",
        "    self.optimizer.step()\n",
        "    if(self.epoch_count %100 ==0):\n",
        "      self.log(f'Epoch {self.epoch_count}: loss = {loss.item()}')\n",
        "    self.epoch_count +=1\n",
        "    return loss.item()\n",
        "\n",
        "  def make_action(self, action: Action) -> tuple[State,float, bool,dict,np.array]:\n",
        "    state,reward,truncated, terminated,info = self.env.step(action)\n",
        "    next_state = preprocess_image(state)\n",
        "    done = truncated or terminated\n",
        "\n",
        "    return next_state,reward,done,info,state\n",
        "\n",
        "\n",
        "  def get_action(self,current_state: State) -> Action:\n",
        "    if(random.random() < self.epsilon):\n",
        "      return random.choice(self.legal_actions)\n",
        "\n",
        "    current_state = current_state.unsqueeze(0)\n",
        "    model_output = self.model(current_state)\n",
        "    action = model_output.argmax().item()\n",
        "    return action\n",
        "\n",
        "  def update_parameters(self) -> None:\n",
        "    self.target_model = copy.deepcopy(self.model)\n",
        "    self.target_model.eval()\"\"\"\n",
        ""
      ],
      "metadata": {
        "id": "uHMulMZustrI",
        "execution": {
          "iopub.status.busy": "2023-11-20T10:23:30.346338Z",
          "iopub.execute_input": "2023-11-20T10:23:30.346794Z",
          "iopub.status.idle": "2023-11-20T10:23:30.375911Z",
          "shell.execute_reply.started": "2023-11-20T10:23:30.346752Z",
          "shell.execute_reply": "2023-11-20T10:23:30.374747Z"
        },
        "trusted": true,
        "colab": {
          "base_uri": "https://localhost:8080/"
        },
        "outputId": "0015a87c-6e25-45cd-954e-7d5e7de2518c"
      },
      "execution_count": 150,
      "outputs": [
        {
          "output_type": "stream",
          "name": "stderr",
          "text": [
            "/usr/local/lib/python3.10/dist-packages/ipykernel/ipkernel.py:283: DeprecationWarning: `should_run_async` will not call `transform_cell` automatically in the future. Please pass the result to `transformed_cell` argument and any exception that happen during thetransform in `preprocessing_exc_tuple` in IPython 7.17 and above.\n",
            "  and should_run_async(code)\n"
          ]
        }
      ]
    },
    {
      "cell_type": "code",
      "source": [
        "class DQNAgent():\n",
        "  epsilon = 0.05\n",
        "  batch_size = 32\n",
        "  gamma = 0.9\n",
        "  def __init__(self, env: gym.Env,\n",
        "               max_experiences:int = int(1e6),\n",
        "               seq_len:int=5,\n",
        "               update_frequency:int=5,\n",
        "               verbose:bool=True,\n",
        "               model_file:str=None,\n",
        "               model:nn.Module=None):\n",
        "    self.env = env\n",
        "    self.state_gen = StateGenerator(env,seq_len=seq_len)\n",
        "    self.seq_len = seq_len\n",
        "    self.model = model\n",
        "    self.target_model = copy.deepcopy(self.model)\n",
        "    self.target_model.eval()\n",
        "\n",
        "    self.experiences = ExpStack(max_size=max_experiences,seq_len=1)\n",
        "\n",
        "    self.verbose = verbose\n",
        "    self.update_frequency = update_frequency\n",
        "    self.legal_actions = list(range(env.action_space.n))\n",
        "\n",
        "    self.loss_evolution = []\n",
        "    self.optimizer = torch.optim.Adam(self.model.parameters())\n",
        "    self.loss_func = nn.MSELoss()\n",
        "    self.begin_time = time()\n",
        "    self.stop = False\n",
        "    self.epoch_count = 0\n",
        "    self.frames = []\n",
        "    if (model_file is None):\n",
        "      self.model_file = 'model.pt'\n",
        "    else:\n",
        "      self.model_file = model_file\n",
        "  def clear_frames(self):\n",
        "    del self.frames\n",
        "    self.frames = []\n",
        "  def clear_experiences(self):\n",
        "    del self.experiences\n",
        "\n",
        "  def train_model(self) -> None:\n",
        "    self.model.train()\n",
        "    self.epoch_count +=1\n",
        "    if (len(self.experiences) >= self.batch_size):\n",
        "      batch = self.experiences.tensor_batch(self.batch_size)\n",
        "      y_target = (1 - batch.done ) * self.target_model(batch.next_state) * self.gamma + batch.reward\n",
        "      y_target = y_target.max(1)[0].unsqueeze(1)\n",
        "      y_pred = self.model(batch.initial_state).gather(1,batch.action)\n",
        "      loss = self.loss_func(y_target,y_pred)\n",
        "      del y_target, y_pred, batch\n",
        "      self.optimizer.zero_grad()\n",
        "      loss.backward()\n",
        "      self.loss_evolution.append(loss.item())\n",
        "      self.optimizer.step()\n",
        "\n",
        "      return loss.item()\n",
        "\n",
        "  def make_action(self, action: Action) -> tuple[State,float, bool,dict,np.array]:\n",
        "    res = self.state_gen.make_action(action)\n",
        "    assert res[0].shape[0] == self.seq_len, f'{res[0].shape} is wrong'\n",
        "    return res\n",
        "\n",
        "\n",
        "  def get_action(self,current_state: State) -> Action:\n",
        "    if(random.random() < self.epsilon):\n",
        "      return random.choice(self.legal_actions)\n",
        "\n",
        "    current_state = current_state.unsqueeze(0)\n",
        "    model_output = self.model(current_state)\n",
        "    action = model_output.argmax().item()\n",
        "    return action\n",
        "\n",
        "  def update_parameters(self) -> None:\n",
        "    self.target_model = copy.deepcopy(self.model)\n",
        "    self.target_model.eval()\n",
        "\n",
        "  def save_model(self):\n",
        "    torch.save(self.model,self.model_file+'.pt')\n",
        "\n",
        "\n",
        "  def generate_gif(self, output_file:str) -> None:\n",
        "\n",
        "    frames = [Image.fromarray(f, mode='RGB') for f in self.frames]\n",
        "    frames[0].save(output_file, format='GIF', append_images=frames[1:], save_all=True, duration=10, loop=0)\n",
        "    print(f'Saving {output_file}')\n",
        "\n",
        "class Trainer:\n",
        "  max_step = int(1e5)\n",
        "  epsilon = 0.05\n",
        "  batch_size = 32\n",
        "  gamma = 0.9\n",
        "  update_frequency = 5\n",
        "  def __init__(self, agent: DQNAgent, verbose:bool=True,time_limit=3600,nb_episodes:int=25000):\n",
        "      self.agent = agent\n",
        "      self.verbose = verbose\n",
        "      self.epochs_count = 0\n",
        "      self.stop = False\n",
        "      self.time_limit = time_limit\n",
        "      self.nb_episodes = nb_episodes\n",
        "\n",
        "  def train_agent(self,save_model :bool =True, gif_file:str=None):\n",
        "      episode_index = 0\n",
        "      self.reboot_timer()\n",
        "      while episode_index < self.nb_episodes and not self.stop:\n",
        "          total_reward = self.play()\n",
        "          episode_index += 1\n",
        "          self.log(f'Episode {episode_index} is done')\n",
        "          self.log(f'Total reward {total_reward}')\n",
        "      if(save_model):\n",
        "        self.agent.save_model()\n",
        "      if(gif_file is not None):\n",
        "        self.agent.generate_gif(gif_file)\n",
        "\n",
        "\n",
        "\n",
        "  def log(self, *args,**kwargs):\n",
        "    if(self.verbose):\n",
        "      print(*args,**kwargs)\n",
        "\n",
        "  def reboot_timer(self):\n",
        "    self.begin_time = time()\n",
        "    self.stop = False\n",
        "\n",
        "  def update_time(self):\n",
        "    current_time = int(time())\n",
        "    delta = current_time - self.begin_time\n",
        "    self.stop = delta > self.time_limit\n",
        "    if(self.stop):\n",
        "      self.log(f'TIME OUT: Model stops training after {delta:.2f} seconds, Save model to {self.agent.model_file}.pt')\n",
        "\n",
        "\n",
        "  def play(self, train:bool=True,keep_frame:bool=False):\n",
        "      done = False\n",
        "      step_index = 0\n",
        "      agent = self.agent\n",
        "      current_state,frame = agent.state_gen.init_env()\n",
        "      agent.frames.append(frame)\n",
        "\n",
        "      total_reward = 0\n",
        "\n",
        "      while step_index < self.max_step and not done and not self.stop:\n",
        "          self.update_time()\n",
        "          a_t = agent.get_action(current_state=current_state)\n",
        "          next_state, reward, done, info, next_state_frame = agent.make_action(a_t)\n",
        "          assert next_state.shape[0] == (agent.seq_len), \"Bad Shapes\"\n",
        "          assert current_state.shape[0] == (agent.seq_len), \"Bad Shapes\"\n",
        "          if(keep_frame):\n",
        "            agent.frames.append(next_state_frame)\n",
        "          total_reward += reward\n",
        "\n",
        "          if train:\n",
        "              transition = GameTransition(current_state, a_t, reward, next_state, done)\n",
        "              agent.experiences.enqueue(transition)\n",
        "              loss = agent.train_model()\n",
        "              if step_index % self.update_frequency == 0:\n",
        "                  agent.update_parameters()\n",
        "              if(agent.epoch_count % 100 == 0):\n",
        "                self.log(f'Epoch: {agent.epoch_count}, loss:{loss}')\n",
        "\n",
        "          if done:\n",
        "              self.log(f'Game over after {step_index} steps')\n",
        "          current_state = next_state\n",
        "          step_index += 1\n",
        "\n",
        "      return total_reward\n",
        "\n",
        "seq_len = 5\n",
        "\n",
        "env_name = 'ALE/Breakout-v5'\n",
        "env = gym.make(env_name, render_mode=\"rgb_array\")\n",
        "\n",
        "model_types = ['simple_dqn', 'duelling_dqn']\n",
        "simple_dqn = DQN(input_data.n_action, input_data.height, input_data.width,seq_len=seq_len)\n",
        "duelling_dqn = DuellingDQN(input_data.n_action, input_data.height, input_data.width,seq_len=seq_len)\n",
        "models = [simple_dqn,duelling_dqn]\n",
        "agents = []\n",
        "for model,model_type in zip(models,model_types):\n",
        "  agent = DQNAgent(env,model_file=model_type,model=model)\n",
        "  trainer = Trainer(agent,time_limit=35)\n",
        "  trainer.train_agent()\n",
        "  agent.clear_experiences()\n",
        "  agents.append(agent)\n",
        "  trainer.reboot_timer()\n",
        "  trainer.play(train=False,keep_frame=True)\n",
        "  agent.generate_gif(model_type+'.gif')\n",
        "\n",
        "\n",
        "fig, axes = plt.subplots(1, 2, figsize=(12, 4))\n",
        "\n",
        "for agent,ax,model_type in zip(agents,axes,model_types):\n",
        "\n",
        "    ax.plot(agent.loss_evolution, label=agent.model_file,color='blue')\n",
        "    ax.set_xlabel('epochs')\n",
        "    ax.set_ylabel('loss value')\n",
        "    ax.set_title(f'Loss evolution for {model_type}')\n",
        "    ax.legend()\n",
        "\n",
        "plt.show()\n",
        "fig.savefig('combined_loss.png')"
      ],
      "metadata": {
        "id": "BVCi0zEfNJW5",
        "outputId": "d1f6081e-9d45-4959-d0cd-f6559a74765f",
        "colab": {
          "base_uri": "https://localhost:8080/",
          "height": 653
        }
      },
      "execution_count": 248,
      "outputs": [
        {
          "output_type": "stream",
          "name": "stdout",
          "text": [
            "Epoch: 100, loss:0.03166414052248001\n",
            "Epoch: 200, loss:0.0033771879971027374\n",
            "TIME OUT: Model stops training after 35.46 seconds, Save model to simple_dqn.pt\n",
            "Episode 1 is done\n",
            "Total reward 4.0\n",
            "Game over after 121 steps\n",
            "Saving simple_dqn.gif\n",
            "Epoch: 100, loss:4.1011611529029324e-07\n",
            "Epoch: 200, loss:3.775679579121061e-05\n",
            "TIME OUT: Model stops training after 35.83 seconds, Save model to duelling_dqn.pt\n",
            "Episode 1 is done\n",
            "Total reward 1.0\n",
            "Game over after 121 steps\n",
            "Saving duelling_dqn.gif\n"
          ]
        },
        {
          "output_type": "display_data",
          "data": {
            "text/plain": [
              "<Figure size 1200x400 with 2 Axes>"
            ],
            "image/png": "[encoded data removed]"
          },
          "metadata": {}
        }
      ]
    },
    {
      "cell_type": "code",
      "source": [
        "def train_agent_and_plot(env_name, model_type, num_episodes=25000,time_limit:int = 3600):\n",
        "    env = gym.make(env_name, render_mode=\"rgb_array\")\n",
        "    input_data = get_input_shapes(env)\n",
        "\n",
        "    model = None\n",
        "    if model_type == 'simple_dqn':\n",
        "        model = DQN(input_data.n_action, input_data.height, input_data.width)\n",
        "    elif model_type == 'duelling_dqn':\n",
        "        model = DuellingDQN(input_data.n_action, input_data.height, input_data.width)\n",
        "\n",
        "    agent = DQNAgent(env, verbose=True, model_file=model_type, model=model)\n",
        "    agent.time_limit = time_limit\n",
        "    agent.generate_gif(model_type+'.gif')\n",
        "    return agent\n",
        "\n",
        "\n",
        "agents = []\n",
        "env_name = 'ALE/Breakout-v5'\n",
        "model_types = ['simple_dqn', 'duelling_dqn']\n",
        "TIME_LIMIT = 0\n",
        "\n",
        "\n",
        "for  model_type in (model_types):\n",
        "    agent = train_agent_and_plot(env_name, model_type,time_limit=TIME_LIMIT)\n",
        "    agents.append(agent)\n",
        "\n",
        "\n",
        "fig, axes = plt.subplots(1, 2, figsize=(12, 4))\n",
        "\n",
        "for agent,ax,model_type in zip(agents,axes,model_types):\n",
        "\n",
        "    ax.plot(agent.loss_evolution, label=agent.model_file,color='blue')\n",
        "    ax.set_xlabel('epochs')\n",
        "    ax.set_ylabel('loss value')\n",
        "    ax.set_title(f'Loss evolution for {model_type}')\n",
        "    ax.legend()\n",
        "\n",
        "plt.show()\n",
        "fig.savefig('combined_loss.png')"
      ],
      "metadata": {
        "id": "nRWJr4ztF52_",
        "outputId": "eef5f2b0-7089-4a2d-cfa7-6fb182668fdc",
        "execution": {
          "iopub.status.busy": "2023-11-20T10:23:30.377471Z",
          "iopub.execute_input": "2023-11-20T10:23:30.377930Z",
          "iopub.status.idle": "2023-11-20T10:25:02.775034Z",
          "shell.execute_reply.started": "2023-11-20T10:23:30.377890Z",
          "shell.execute_reply": "2023-11-20T10:25:02.773337Z"
        },
        "trusted": true,
        "colab": {
          "base_uri": "https://localhost:8080/",
          "height": 618
        }
      },
      "execution_count": 139,
      "outputs": [
        {
          "output_type": "stream",
          "name": "stdout",
          "text": [
            "[game_transition(initial_state=tensor([[[0., 0., 0.,  ..., 0., 0., 0.],\n",
            "         [0., 0., 0.,  ..., 0., 0., 0.],\n",
            "         [0., 0., 0.,  ..., 0., 0., 0.],\n",
            "         ...,\n",
            "         [0., 0., 0.,  ..., 0., 0., 0.],\n",
            "         [0., 0., 0.,  ..., 0., 0., 0.],\n",
            "         [0., 0., 0.,  ..., 0., 0., 0.]]]), action=2, reward=0.0, next_state=tensor([[[0., 0., 0.,  ..., 0., 0., 0.],\n",
            "         [0., 0., 0.,  ..., 0., 0., 0.],\n",
            "         [0., 0., 0.,  ..., 0., 0., 0.],\n",
            "         ...,\n",
            "         [0., 0., 0.,  ..., 0., 0., 0.],\n",
            "         [0., 0., 0.,  ..., 0., 0., 0.],\n",
            "         [0., 0., 0.,  ..., 0., 0., 0.]]]), done=False)]\n"
          ]
        },
        {
          "output_type": "error",
          "ename": "AttributeError",
          "evalue": "ignored",
          "traceback": [
            "\u001b[0;31m---------------------------------------------------------------------------\u001b[0m",
            "\u001b[0;31mAttributeError\u001b[0m                            Traceback (most recent call last)",
            "\u001b[0;32m<ipython-input-139-e247367badd9>\u001b[0m in \u001b[0;36m<cell line: 24>\u001b[0;34m()\u001b[0m\n\u001b[1;32m     23\u001b[0m \u001b[0;34m\u001b[0m\u001b[0m\n\u001b[1;32m     24\u001b[0m \u001b[0;32mfor\u001b[0m  \u001b[0mmodel_type\u001b[0m \u001b[0;32min\u001b[0m \u001b[0;34m(\u001b[0m\u001b[0mmodel_types\u001b[0m\u001b[0;34m)\u001b[0m\u001b[0;34m:\u001b[0m\u001b[0;34m\u001b[0m\u001b[0;34m\u001b[0m\u001b[0m\n\u001b[0;32m---> 25\u001b[0;31m     \u001b[0magent\u001b[0m \u001b[0;34m=\u001b[0m \u001b[0mtrain_agent_and_plot\u001b[0m\u001b[0;34m(\u001b[0m\u001b[0menv_name\u001b[0m\u001b[0;34m,\u001b[0m \u001b[0mmodel_type\u001b[0m\u001b[0;34m,\u001b[0m\u001b[0mtime_limit\u001b[0m\u001b[0;34m=\u001b[0m\u001b[0mTIME_LIMIT\u001b[0m\u001b[0;34m)\u001b[0m\u001b[0;34m\u001b[0m\u001b[0;34m\u001b[0m\u001b[0m\n\u001b[0m\u001b[1;32m     26\u001b[0m     \u001b[0magents\u001b[0m\u001b[0;34m.\u001b[0m\u001b[0mappend\u001b[0m\u001b[0;34m(\u001b[0m\u001b[0magent\u001b[0m\u001b[0;34m)\u001b[0m\u001b[0;34m\u001b[0m\u001b[0;34m\u001b[0m\u001b[0m\n\u001b[1;32m     27\u001b[0m \u001b[0;34m\u001b[0m\u001b[0m\n",
            "\u001b[0;32m<ipython-input-139-e247367badd9>\u001b[0m in \u001b[0;36mtrain_agent_and_plot\u001b[0;34m(env_name, model_type, num_episodes, time_limit)\u001b[0m\n\u001b[1;32m     11\u001b[0m     \u001b[0magent\u001b[0m \u001b[0;34m=\u001b[0m \u001b[0mDQNAgent\u001b[0m\u001b[0;34m(\u001b[0m\u001b[0menv\u001b[0m\u001b[0;34m,\u001b[0m \u001b[0mverbose\u001b[0m\u001b[0;34m=\u001b[0m\u001b[0;32mTrue\u001b[0m\u001b[0;34m,\u001b[0m \u001b[0mmodel_file\u001b[0m\u001b[0;34m=\u001b[0m\u001b[0mmodel_type\u001b[0m\u001b[0;34m,\u001b[0m \u001b[0mmodel\u001b[0m\u001b[0;34m=\u001b[0m\u001b[0mmodel\u001b[0m\u001b[0;34m)\u001b[0m\u001b[0;34m\u001b[0m\u001b[0;34m\u001b[0m\u001b[0m\n\u001b[1;32m     12\u001b[0m     \u001b[0magent\u001b[0m\u001b[0;34m.\u001b[0m\u001b[0mtime_limit\u001b[0m \u001b[0;34m=\u001b[0m \u001b[0mtime_limit\u001b[0m\u001b[0;34m\u001b[0m\u001b[0;34m\u001b[0m\u001b[0m\n\u001b[0;32m---> 13\u001b[0;31m     \u001b[0magent\u001b[0m\u001b[0;34m.\u001b[0m\u001b[0mtrain_agent\u001b[0m\u001b[0;34m(\u001b[0m\u001b[0mnum_episodes\u001b[0m\u001b[0;34m)\u001b[0m\u001b[0;34m\u001b[0m\u001b[0;34m\u001b[0m\u001b[0m\n\u001b[0m\u001b[1;32m     14\u001b[0m     \u001b[0magent\u001b[0m\u001b[0;34m.\u001b[0m\u001b[0mgenerate_gif\u001b[0m\u001b[0;34m(\u001b[0m\u001b[0mmodel_type\u001b[0m\u001b[0;34m+\u001b[0m\u001b[0;34m'.gif'\u001b[0m\u001b[0;34m)\u001b[0m\u001b[0;34m\u001b[0m\u001b[0;34m\u001b[0m\u001b[0m\n\u001b[1;32m     15\u001b[0m     \u001b[0;32mreturn\u001b[0m \u001b[0magent\u001b[0m\u001b[0;34m\u001b[0m\u001b[0;34m\u001b[0m\u001b[0m\n",
            "\u001b[0;32m<ipython-input-138-e6dabd233403>\u001b[0m in \u001b[0;36mtrain_agent\u001b[0;34m(self, nb_episodes)\u001b[0m\n\u001b[1;32m     35\u001b[0m     \u001b[0mself\u001b[0m\u001b[0;34m.\u001b[0m\u001b[0mclear_saving\u001b[0m\u001b[0;34m(\u001b[0m\u001b[0;34m)\u001b[0m\u001b[0;34m\u001b[0m\u001b[0;34m\u001b[0m\u001b[0m\n\u001b[1;32m     36\u001b[0m     \u001b[0;32mwhile\u001b[0m\u001b[0;34m(\u001b[0m\u001b[0mepisode_index\u001b[0m \u001b[0;34m<\u001b[0m \u001b[0mnb_episodes\u001b[0m \u001b[0;32mand\u001b[0m \u001b[0;32mnot\u001b[0m \u001b[0mself\u001b[0m\u001b[0;34m.\u001b[0m\u001b[0mstop\u001b[0m\u001b[0;34m)\u001b[0m\u001b[0;34m:\u001b[0m\u001b[0;34m\u001b[0m\u001b[0;34m\u001b[0m\u001b[0m\n\u001b[0;32m---> 37\u001b[0;31m       \u001b[0mtotal_reward\u001b[0m \u001b[0;34m=\u001b[0m \u001b[0mself\u001b[0m\u001b[0;34m.\u001b[0m\u001b[0mplay\u001b[0m\u001b[0;34m(\u001b[0m\u001b[0;34m)\u001b[0m\u001b[0;34m\u001b[0m\u001b[0;34m\u001b[0m\u001b[0m\n\u001b[0m\u001b[1;32m     38\u001b[0m       \u001b[0mepisode_index\u001b[0m \u001b[0;34m+=\u001b[0m\u001b[0;36m1\u001b[0m\u001b[0;34m\u001b[0m\u001b[0;34m\u001b[0m\u001b[0m\n\u001b[1;32m     39\u001b[0m \u001b[0;34m\u001b[0m\u001b[0m\n",
            "\u001b[0;32m<ipython-input-138-e6dabd233403>\u001b[0m in \u001b[0;36mplay\u001b[0;34m(self, train, record_frames)\u001b[0m\n\u001b[1;32m     64\u001b[0m         \u001b[0mmini_batch\u001b[0m \u001b[0;34m=\u001b[0m \u001b[0mself\u001b[0m\u001b[0;34m.\u001b[0m\u001b[0mexperiences\u001b[0m\u001b[0;34m.\u001b[0m\u001b[0mtensor_batch\u001b[0m\u001b[0;34m(\u001b[0m\u001b[0mself\u001b[0m\u001b[0;34m.\u001b[0m\u001b[0mbatch_size\u001b[0m\u001b[0;34m)\u001b[0m\u001b[0;34m\u001b[0m\u001b[0;34m\u001b[0m\u001b[0m\n\u001b[1;32m     65\u001b[0m         \u001b[0mprint\u001b[0m\u001b[0;34m(\u001b[0m\u001b[0mmini_batch\u001b[0m\u001b[0;34m)\u001b[0m\u001b[0;34m\u001b[0m\u001b[0;34m\u001b[0m\u001b[0m\n\u001b[0;32m---> 66\u001b[0;31m         \u001b[0mself\u001b[0m\u001b[0;34m.\u001b[0m\u001b[0mtrain_model\u001b[0m\u001b[0;34m(\u001b[0m\u001b[0mmini_batch\u001b[0m\u001b[0;34m)\u001b[0m\u001b[0;34m\u001b[0m\u001b[0;34m\u001b[0m\u001b[0m\n\u001b[0m\u001b[1;32m     67\u001b[0m         \u001b[0;32mif\u001b[0m\u001b[0;34m(\u001b[0m\u001b[0mstep_index\u001b[0m \u001b[0;34m%\u001b[0m \u001b[0mself\u001b[0m\u001b[0;34m.\u001b[0m\u001b[0mupdate_frequency\u001b[0m \u001b[0;34m==\u001b[0m \u001b[0;36m0\u001b[0m\u001b[0;34m)\u001b[0m\u001b[0;34m:\u001b[0m\u001b[0;34m\u001b[0m\u001b[0;34m\u001b[0m\u001b[0m\n\u001b[1;32m     68\u001b[0m           \u001b[0mself\u001b[0m\u001b[0;34m.\u001b[0m\u001b[0mupdate_parameters\u001b[0m\u001b[0;34m(\u001b[0m\u001b[0;34m)\u001b[0m\u001b[0;34m\u001b[0m\u001b[0;34m\u001b[0m\u001b[0m\n",
            "\u001b[0;32m<ipython-input-138-e6dabd233403>\u001b[0m in \u001b[0;36mtrain_model\u001b[0;34m(self, batch)\u001b[0m\n\u001b[1;32m     76\u001b[0m   \u001b[0;32mdef\u001b[0m \u001b[0mtrain_model\u001b[0m\u001b[0;34m(\u001b[0m\u001b[0mself\u001b[0m\u001b[0;34m,\u001b[0m\u001b[0mbatch\u001b[0m\u001b[0;34m:\u001b[0m\u001b[0mGameTransition\u001b[0m\u001b[0;34m)\u001b[0m \u001b[0;34m->\u001b[0m \u001b[0;32mNone\u001b[0m\u001b[0;34m:\u001b[0m\u001b[0;34m\u001b[0m\u001b[0;34m\u001b[0m\u001b[0m\n\u001b[1;32m     77\u001b[0m     \u001b[0mself\u001b[0m\u001b[0;34m.\u001b[0m\u001b[0mmodel\u001b[0m\u001b[0;34m.\u001b[0m\u001b[0mtrain\u001b[0m\u001b[0;34m(\u001b[0m\u001b[0;34m)\u001b[0m\u001b[0;34m\u001b[0m\u001b[0;34m\u001b[0m\u001b[0m\n\u001b[0;32m---> 78\u001b[0;31m     \u001b[0my_target\u001b[0m \u001b[0;34m=\u001b[0m \u001b[0;34m(\u001b[0m\u001b[0;36m1\u001b[0m \u001b[0;34m-\u001b[0m \u001b[0mbatch\u001b[0m\u001b[0;34m.\u001b[0m\u001b[0mdone\u001b[0m \u001b[0;34m)\u001b[0m \u001b[0;34m*\u001b[0m \u001b[0mself\u001b[0m\u001b[0;34m.\u001b[0m\u001b[0mtarget_model\u001b[0m\u001b[0;34m(\u001b[0m\u001b[0mbatch\u001b[0m\u001b[0;34m.\u001b[0m\u001b[0mnext_state\u001b[0m\u001b[0;34m)\u001b[0m \u001b[0;34m*\u001b[0m \u001b[0mself\u001b[0m\u001b[0;34m.\u001b[0m\u001b[0mgamma\u001b[0m \u001b[0;34m+\u001b[0m \u001b[0mbatch\u001b[0m\u001b[0;34m.\u001b[0m\u001b[0mreward\u001b[0m\u001b[0;34m\u001b[0m\u001b[0;34m\u001b[0m\u001b[0m\n\u001b[0m\u001b[1;32m     79\u001b[0m     \u001b[0my_target\u001b[0m \u001b[0;34m=\u001b[0m \u001b[0my_target\u001b[0m\u001b[0;34m.\u001b[0m\u001b[0mmax\u001b[0m\u001b[0;34m(\u001b[0m\u001b[0;36m1\u001b[0m\u001b[0;34m)\u001b[0m\u001b[0;34m[\u001b[0m\u001b[0;36m0\u001b[0m\u001b[0;34m]\u001b[0m\u001b[0;34m.\u001b[0m\u001b[0munsqueeze\u001b[0m\u001b[0;34m(\u001b[0m\u001b[0;36m1\u001b[0m\u001b[0;34m)\u001b[0m\u001b[0;34m\u001b[0m\u001b[0;34m\u001b[0m\u001b[0m\n\u001b[1;32m     80\u001b[0m     \u001b[0my_pred\u001b[0m \u001b[0;34m=\u001b[0m \u001b[0mself\u001b[0m\u001b[0;34m.\u001b[0m\u001b[0mmodel\u001b[0m\u001b[0;34m(\u001b[0m\u001b[0mbatch\u001b[0m\u001b[0;34m.\u001b[0m\u001b[0minitial_state\u001b[0m\u001b[0;34m)\u001b[0m\u001b[0;34m.\u001b[0m\u001b[0mgather\u001b[0m\u001b[0;34m(\u001b[0m\u001b[0;36m1\u001b[0m\u001b[0;34m,\u001b[0m\u001b[0mbatch\u001b[0m\u001b[0;34m.\u001b[0m\u001b[0maction\u001b[0m\u001b[0;34m)\u001b[0m\u001b[0;34m\u001b[0m\u001b[0;34m\u001b[0m\u001b[0m\n",
            "\u001b[0;31mAttributeError\u001b[0m: 'list' object has no attribute 'done'"
          ]
        }
      ]
    },
    {
      "cell_type": "code",
      "source": [
        "t =torch.zeros(5,9,6)\n",
        "t.view(5,-1,6,9).shape"
      ],
      "metadata": {
        "id": "VB6xX3tBx-y-",
        "outputId": "ff947f93-65fc-4fe2-c199-ff8dc32f668e",
        "colab": {
          "base_uri": "https://localhost:8080/"
        }
      },
      "execution_count": 121,
      "outputs": [
        {
          "output_type": "execute_result",
          "data": {
            "text/plain": [
              "torch.Size([5, 1, 6, 9])"
            ]
          },
          "metadata": {},
          "execution_count": 121
        }
      ]
    },
    {
      "cell_type": "markdown",
      "source": [
        "[](./simple_dqn.gif)"
      ],
      "metadata": {
        "id": "RnO4stmsNzA_"
      }
    }
  ]
}