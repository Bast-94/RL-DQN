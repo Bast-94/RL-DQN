{
  "metadata": {
    "colab": {
      "provenance": [],
      "include_colab_link": true
    },
    "kernelspec": {
      "name": "python3",
      "display_name": "Python 3",
      "language": "python"
    },
    "language_info": {
      "name": "python",
      "version": "3.10.12",
      "mimetype": "text/x-python",
      "codemirror_mode": {
        "name": "ipython",
        "version": 3
      },
      "pygments_lexer": "ipython3",
      "nbconvert_exporter": "python",
      "file_extension": ".py"
    },
    "kaggle": {
      "accelerator": "none",
      "dataSources": [],
      "dockerImageVersionId": 30587,
      "isInternetEnabled": true,
      "language": "python",
      "sourceType": "notebook",
      "isGpuEnabled": false
    }
  },
  "nbformat_minor": 0,
  "nbformat": 4,
  "cells": [
    {
      "cell_type": "markdown",
      "metadata": {
        "id": "view-in-github",
        "colab_type": "text"
      },
      "source": [
        "<a href=\"https://colab.research.google.com/github/Bast-94/RL-DQN/blob/dqn-draft/RL-DQN.ipynb\" target=\"_parent\"><img src=\"https://colab.research.google.com/assets/colab-badge.svg\" alt=\"Open In Colab\"/></a>"
      ]
    },
    {
      "cell_type": "markdown",
      "source": [
        "# Projet de Reinforcement Learning : Deep Q-Learning sur le casse-brique d'Atari"
      ],
      "metadata": {
        "id": "IxUx75ISnaC2"
      }
    },
    {
      "cell_type": "code",
      "source": [
        "! pip install gymnasium[\"accept-rom-license\"]\n",
        "! pip install gymnasium[\"atari\"]\n",
        "! pip install torchviz"
      ],
      "metadata": {
        "id": "IT6J8Qb1nTG4",
        "outputId": "57d87f80-a3de-430d-8fbb-db77de8e0592",
        "execution": {
          "iopub.status.busy": "2023-11-20T10:23:01.004589Z",
          "iopub.execute_input": "2023-11-20T10:23:01.004993Z",
          "iopub.status.idle": "2023-11-20T10:23:29.308609Z",
          "shell.execute_reply.started": "2023-11-20T10:23:01.004961Z",
          "shell.execute_reply": "2023-11-20T10:23:29.306590Z"
        },
        "trusted": true,
        "colab": {
          "base_uri": "https://localhost:8080/"
        }
      },
      "execution_count": 101,
      "outputs": [
        {
          "output_type": "stream",
          "name": "stderr",
          "text": [
            "/usr/local/lib/python3.10/dist-packages/ipykernel/ipkernel.py:283: DeprecationWarning: `should_run_async` will not call `transform_cell` automatically in the future. Please pass the result to `transformed_cell` argument and any exception that happen during thetransform in `preprocessing_exc_tuple` in IPython 7.17 and above.\n",
            "  and should_run_async(code)\n"
          ]
        },
        {
          "output_type": "stream",
          "name": "stdout",
          "text": [
            "Requirement already satisfied: gymnasium[accept-rom-license] in /usr/local/lib/python3.10/dist-packages (0.29.1)\n",
            "Requirement already satisfied: numpy>=1.21.0 in /usr/local/lib/python3.10/dist-packages (from gymnasium[accept-rom-license]) (1.23.5)\n",
            "Requirement already satisfied: cloudpickle>=1.2.0 in /usr/local/lib/python3.10/dist-packages (from gymnasium[accept-rom-license]) (2.2.1)\n",
            "Requirement already satisfied: typing-extensions>=4.3.0 in /usr/local/lib/python3.10/dist-packages (from gymnasium[accept-rom-license]) (4.5.0)\n",
            "Requirement already satisfied: farama-notifications>=0.0.1 in /usr/local/lib/python3.10/dist-packages (from gymnasium[accept-rom-license]) (0.0.4)\n",
            "Requirement already satisfied: autorom[accept-rom-license]~=0.4.2 in /usr/local/lib/python3.10/dist-packages (from gymnasium[accept-rom-license]) (0.4.2)\n",
            "Requirement already satisfied: click in /usr/local/lib/python3.10/dist-packages (from autorom[accept-rom-license]~=0.4.2->gymnasium[accept-rom-license]) (8.1.7)\n",
            "Requirement already satisfied: requests in /usr/local/lib/python3.10/dist-packages (from autorom[accept-rom-license]~=0.4.2->gymnasium[accept-rom-license]) (2.31.0)\n",
            "Requirement already satisfied: tqdm in /usr/local/lib/python3.10/dist-packages (from autorom[accept-rom-license]~=0.4.2->gymnasium[accept-rom-license]) (4.66.1)\n",
            "Requirement already satisfied: AutoROM.accept-rom-license in /usr/local/lib/python3.10/dist-packages (from autorom[accept-rom-license]~=0.4.2->gymnasium[accept-rom-license]) (0.6.1)\n",
            "Requirement already satisfied: charset-normalizer<4,>=2 in /usr/local/lib/python3.10/dist-packages (from requests->autorom[accept-rom-license]~=0.4.2->gymnasium[accept-rom-license]) (3.3.2)\n",
            "Requirement already satisfied: idna<4,>=2.5 in /usr/local/lib/python3.10/dist-packages (from requests->autorom[accept-rom-license]~=0.4.2->gymnasium[accept-rom-license]) (3.4)\n",
            "Requirement already satisfied: urllib3<3,>=1.21.1 in /usr/local/lib/python3.10/dist-packages (from requests->autorom[accept-rom-license]~=0.4.2->gymnasium[accept-rom-license]) (2.0.7)\n",
            "Requirement already satisfied: certifi>=2017.4.17 in /usr/local/lib/python3.10/dist-packages (from requests->autorom[accept-rom-license]~=0.4.2->gymnasium[accept-rom-license]) (2023.7.22)\n",
            "Requirement already satisfied: gymnasium[atari] in /usr/local/lib/python3.10/dist-packages (0.29.1)\n",
            "Requirement already satisfied: numpy>=1.21.0 in /usr/local/lib/python3.10/dist-packages (from gymnasium[atari]) (1.23.5)\n",
            "Requirement already satisfied: cloudpickle>=1.2.0 in /usr/local/lib/python3.10/dist-packages (from gymnasium[atari]) (2.2.1)\n",
            "Requirement already satisfied: typing-extensions>=4.3.0 in /usr/local/lib/python3.10/dist-packages (from gymnasium[atari]) (4.5.0)\n",
            "Requirement already satisfied: farama-notifications>=0.0.1 in /usr/local/lib/python3.10/dist-packages (from gymnasium[atari]) (0.0.4)\n",
            "Requirement already satisfied: shimmy[atari]<1.0,>=0.1.0 in /usr/local/lib/python3.10/dist-packages (from gymnasium[atari]) (0.2.1)\n",
            "Requirement already satisfied: ale-py~=0.8.1 in /usr/local/lib/python3.10/dist-packages (from shimmy[atari]<1.0,>=0.1.0->gymnasium[atari]) (0.8.1)\n",
            "Requirement already satisfied: importlib-resources in /usr/local/lib/python3.10/dist-packages (from ale-py~=0.8.1->shimmy[atari]<1.0,>=0.1.0->gymnasium[atari]) (6.1.1)\n",
            "Collecting torchviz\n",
            "  Downloading torchviz-0.0.2.tar.gz (4.9 kB)\n",
            "  Preparing metadata (setup.py) ... \u001b[?25l\u001b[?25hdone\n",
            "Requirement already satisfied: torch in /usr/local/lib/python3.10/dist-packages (from torchviz) (2.1.0+cu118)\n",
            "Requirement already satisfied: graphviz in /usr/local/lib/python3.10/dist-packages (from torchviz) (0.20.1)\n",
            "Requirement already satisfied: filelock in /usr/local/lib/python3.10/dist-packages (from torch->torchviz) (3.13.1)\n",
            "Requirement already satisfied: typing-extensions in /usr/local/lib/python3.10/dist-packages (from torch->torchviz) (4.5.0)\n",
            "Requirement already satisfied: sympy in /usr/local/lib/python3.10/dist-packages (from torch->torchviz) (1.12)\n",
            "Requirement already satisfied: networkx in /usr/local/lib/python3.10/dist-packages (from torch->torchviz) (3.2.1)\n",
            "Requirement already satisfied: jinja2 in /usr/local/lib/python3.10/dist-packages (from torch->torchviz) (3.1.2)\n",
            "Requirement already satisfied: fsspec in /usr/local/lib/python3.10/dist-packages (from torch->torchviz) (2023.6.0)\n",
            "Requirement already satisfied: triton==2.1.0 in /usr/local/lib/python3.10/dist-packages (from torch->torchviz) (2.1.0)\n",
            "Requirement already satisfied: MarkupSafe>=2.0 in /usr/local/lib/python3.10/dist-packages (from jinja2->torch->torchviz) (2.1.3)\n",
            "Requirement already satisfied: mpmath>=0.19 in /usr/local/lib/python3.10/dist-packages (from sympy->torch->torchviz) (1.3.0)\n",
            "Building wheels for collected packages: torchviz\n",
            "  Building wheel for torchviz (setup.py) ... \u001b[?25l\u001b[?25hdone\n",
            "  Created wheel for torchviz: filename=torchviz-0.0.2-py3-none-any.whl size=4133 sha256=927d9e01fde3705e9456eac8b7fc942a239f69b2a5574a86475ff4c97720901f\n",
            "  Stored in directory: /root/.cache/pip/wheels/4c/97/88/a02973217949e0db0c9f4346d154085f4725f99c4f15a87094\n",
            "Successfully built torchviz\n",
            "Installing collected packages: torchviz\n",
            "Successfully installed torchviz-0.0.2\n"
          ]
        }
      ]
    },
    {
      "cell_type": "markdown",
      "source": [
        "## Présentation globale du projet"
      ],
      "metadata": {
        "id": "R6RsUvhwom-z"
      }
    },
    {
      "cell_type": "markdown",
      "source": [
        "### Objectifs du projet\n",
        "\n",
        "Le but de ce projet est de mettre en place un algorithme d'apprentissage par renforcement basé sur les réseaux de neurones capable de jouer au Casse Brique d'Atari en maximisant ses gains."
      ],
      "metadata": {
        "id": "NJtQe-8OO2_1"
      }
    },
    {
      "cell_type": "markdown",
      "source": [
        "### Algorithme principal"
      ],
      "metadata": {
        "id": "mdognuOSOxDy"
      }
    },
    {
      "cell_type": "markdown",
      "source": [
        "L'algorithme de l'agent va être quelque peu différent de ceux vus dans les tavaux précédents (Sarsa, Qlearning). Plusieurs éléments vont compléxifier la tâche:\n",
        "- Les états sont sous formes d'images de taille $(210,160,3)$ et non plus sous forme numérique.\n",
        "- La fonction $Q(s,a)$ va faire intervenir un réseaux de neurones $\\theta$ qui devra être entraîné.\n",
        "- Les anciennes expériences devront être stockées dans le but de donner une vérité terrain pour l'entrainement du réseau."
      ],
      "metadata": {
        "id": "Zs_C95Ewndez"
      }
    },
    {
      "cell_type": "markdown",
      "source": [
        "#### Pseudo code de l'algorithme"
      ],
      "metadata": {
        "id": "QTVHA36NPEcA"
      }
    },
    {
      "cell_type": "markdown",
      "source": [
        "Le pseudo-code de l'algorithme ci-dessous provient de la publication"
      ],
      "metadata": {
        "id": "mgyJ9MDNo04q"
      }
    },
    {
      "cell_type": "markdown",
      "source": [
        "\n",
        "$\\text{Algorithme de Q-Leearning profond avec répétition d'expérience}$\n",
        "1. **Initialisation:**\n",
        "   - Initialiser le réseau de neurones $Q$ avec des poids aléatoires.\n",
        "   - Initialiser la mémoire de relecture $D$ avec capacité maximale $N$.\n",
        "   - Initialiser aléatoirement les paramètres d'apprentissage.\n",
        "   - Initialiser la fonction $Q$ avec des $\\theta$ aléatoire.\n",
        "   - Initialiser $\\hat{Q}$ avec $\\theta^⁻ = \\theta$.\n",
        "\n",
        "2. **Pour chaque épisode:**\n",
        "   - Initialiser l'environnement et l'état initial $s_1=\\{x_1\\}$\n",
        "   - Appliquer le prétraitement $\\phi_1 = \\phi(s_1)$\n",
        "   \n",
        "   3. **Pour chaque étape $t$ de l'épisode:**\n",
        "      - Choisir l'action $a_t$ avec la politique $\\varepsilon$-greedy\n",
        "        - $\\mathbb{P}(a_t = argmax_a(Q(s_t,a;\\theta)) = 1 - \\varepsilon$\n",
        "        - $\\mathbb{P}(a_t = \\text{random\\_sample(}A)) = \\varepsilon$\n",
        "      - Exécuter l'action $a_t$, observer la récompense $r_t$ et l'état suivant $s_{t+1}$\n",
        "      - Stocker la transition $(s_t, a_t, r_{t}, s_{t+1})$ dans la mémoire de relecture $D$\n",
        "      - Affecter $s_{t+1}=s_t,a_t,x_{t+1}$\n",
        "      - Prétraitement de $s_{t+1}$ : $\\phi_{t+1}=\\phi(s_{t+1})$\n",
        "      - Échantillonner un lot aléatoire de transitions $(s_i, a_i, r_i, s_{i+1})$ de $D$\n",
        "      - Calculer la vérité terrain $y_i$ pour chaque transition $(s_i, a_i, r_i, s_{i+1})$ en utilisant le réseau $\\hat{Q}$ aux paramètre $\\theta^-$\n",
        "      - Cloner $Q$ dans $\\hat{Q}$ toutes les $C$ étapes\n",
        "      \n"
      ],
      "metadata": {
        "id": "QX8se4unQDDr"
      }
    },
    {
      "cell_type": "markdown",
      "source": [
        "#### Détails des variables\n",
        "- $Q$ : Fonction de qualité qui pour un couple état-action évalue à quel point une action dans un état donné est favorable.\n",
        "- $C$ : Nombre d'étapes à laquelle $\\hat{Q}$ se met à jour sur $Q$.\n",
        "- $\\hat{Q}$ : Target Network , il correspond à une version ancienne de $Q$ avec des paramètres $\\theta^-$ sur les $C$ dernières étapes.\n",
        "- $\\theta$ : Correspond aux paramètres du réseau de neurones.\n",
        "- ${A}$ : L'ensemble des actions possibles.\n",
        "- $a_t$ : L'action faite par l'agent à l'étape $t$.\n",
        "- $x_t$ : Correspond à l'image brut du jeu à l'étape $t$.\n",
        "- $s_t$ : Correspond à une séquence de couples action-image $\\{a_i \\times x_i\\}_{i\\lt t}$ .\n",
        "- $\\phi_t$ : Correspond au pré-traitement de l'état $s_t$ (Plus de détails dans la suite du notebook).\n",
        "- $\\varepsilon \\in [0,1]$ : Probabilité de choisir une action aléatoire.\n",
        "- $r_t$ : Récompense obtenue par la réalisation de l'action $a_t$ à l'instant $s_t$\n",
        "- $D$ : Mémoire de relecture.\n",
        "- $N$ : Nombre de simulations."
      ],
      "metadata": {
        "id": "9Se6OPbaO_cU"
      }
    },
    {
      "cell_type": "markdown",
      "source": [
        "## Démarche de recherche et implémentation"
      ],
      "metadata": {
        "id": "mWhORuoko1v4"
      }
    },
    {
      "cell_type": "code",
      "source": [
        "# Importation pour la création des réseaux de neurones\n",
        "from torch import nn\n",
        "import torch\n",
        "import torchvision.transforms as transforms\n",
        "\n",
        "# Librairie dédiée à la simulation du Casse-Brique\n",
        "import gymnasium as gym\n",
        "\n",
        "import matplotlib.pyplot as plt\n",
        "import numpy as np\n",
        "import random\n",
        "import copy\n",
        "from time import time\n",
        "from collections import namedtuple\n",
        "# Librairie dédiée à la création des gif finaux\n",
        "from PIL import Image"
      ],
      "metadata": {
        "id": "6MpkCLnpoSIw",
        "execution": {
          "iopub.status.busy": "2023-11-20T10:23:29.311654Z",
          "iopub.execute_input": "2023-11-20T10:23:29.312110Z",
          "iopub.status.idle": "2023-11-20T10:23:29.321689Z",
          "shell.execute_reply.started": "2023-11-20T10:23:29.312071Z",
          "shell.execute_reply": "2023-11-20T10:23:29.320349Z"
        },
        "trusted": true,
        "colab": {
          "base_uri": "https://localhost:8080/"
        },
        "outputId": "b2b42c6a-c2c0-4bb9-a85a-c2a5e728ee82"
      },
      "execution_count": 65,
      "outputs": [
        {
          "output_type": "stream",
          "name": "stderr",
          "text": [
            "/usr/local/lib/python3.10/dist-packages/ipykernel/ipkernel.py:283: DeprecationWarning: `should_run_async` will not call `transform_cell` automatically in the future. Please pass the result to `transformed_cell` argument and any exception that happen during thetransform in `preprocessing_exc_tuple` in IPython 7.17 and above.\n",
            "  and should_run_async(code)\n"
          ]
        }
      ]
    },
    {
      "cell_type": "markdown",
      "source": [
        "#### Prétraitement des données"
      ],
      "metadata": {
        "id": "Q78gPWyCXSAQ"
      }
    },
    {
      "cell_type": "markdown",
      "source": [
        "Le prétraitement des données se justifie par le fait que l'entrainement des des réseaux de neurones nécessite d'enregistrer les états précédents. Les états correspondent ici à une image du jeux sous frome de tableau de dimension $\\text{(hauteur,largeur,nombre de canaux)}$. Afin de réduire le coût en mémoire il faut réduire la taille de chaque état en les prétraitant et en conservant l'information. L'interface du casse-brique d'Atari est très pixelisée et redondante en terme de couleurs, il est donc possible de pouvoir faire une réduction de dimension au niveau de la couleur et de la taille de l'image"
      ],
      "metadata": {
        "id": "sXcCJXtob6NO"
      }
    },
    {
      "cell_type": "code",
      "source": [
        "def preprocess_image(img_array:np.array) -> np.array :\n",
        "  transform = transforms.Compose([\n",
        "      transforms.ToPILImage(),\n",
        "      transforms.Resize((84, 84)),\n",
        "      transforms.Grayscale(num_output_channels=1),\n",
        "      transforms.ToTensor()])\n",
        "  return transform(img_array)\n"
      ],
      "metadata": {
        "id": "vvsrhD0sQxqC",
        "execution": {
          "iopub.status.busy": "2023-11-20T10:23:29.325233Z",
          "iopub.execute_input": "2023-11-20T10:23:29.325635Z",
          "iopub.status.idle": "2023-11-20T10:23:29.333531Z",
          "shell.execute_reply.started": "2023-11-20T10:23:29.325593Z",
          "shell.execute_reply": "2023-11-20T10:23:29.332323Z"
        },
        "trusted": true
      },
      "execution_count": 17,
      "outputs": []
    },
    {
      "cell_type": "markdown",
      "source": [
        "Ainsi l'image passera d'une shape $(210,160,3)$ à une shape $(84,84,1)$ réduisant considérablement la taille."
      ],
      "metadata": {
        "id": "I6UE9iZUfVl6"
      }
    },
    {
      "cell_type": "code",
      "source": [
        "env = gym.make('ALE/Breakout-v5', render_mode=\"rgb_array\")\n",
        "state_img = env.reset()[0]\n",
        "print(env.step(1)[1:])\n",
        "fig,axes = plt.subplots(1,2)\n",
        "fig.suptitle('Images comparison')\n",
        "axes[0].set_title('Original image')\n",
        "axes[0].imshow(state_img)\n",
        "axes[0].axis('off')\n",
        "new_img = preprocess_image(state_img)\n",
        "print(f'{new_img.size() = }')\n",
        "axes[1].axis('off')\n",
        "axes[1].set_title('Preprocessed image')\n",
        "axes[1].imshow(new_img.permute(1,2,0))"
      ],
      "metadata": {
        "id": "60aiphhbXCe_",
        "outputId": "0efc7b8b-a7e5-4997-cc25-1d1b6f35601d",
        "execution": {
          "iopub.status.busy": "2023-11-20T10:23:29.335245Z",
          "iopub.execute_input": "2023-11-20T10:23:29.335574Z",
          "iopub.status.idle": "2023-11-20T10:23:29.918409Z",
          "shell.execute_reply.started": "2023-11-20T10:23:29.335546Z",
          "shell.execute_reply": "2023-11-20T10:23:29.917256Z"
        },
        "trusted": true,
        "colab": {
          "base_uri": "https://localhost:8080/",
          "height": 469
        }
      },
      "execution_count": 18,
      "outputs": [
        {
          "output_type": "stream",
          "name": "stdout",
          "text": [
            "(0.0, False, False, {'lives': 5, 'episode_frame_number': 4, 'frame_number': 4})\n",
            "new_img.size() = torch.Size([1, 84, 84])\n"
          ]
        },
        {
          "output_type": "execute_result",
          "data": {
            "text/plain": [
              "<matplotlib.image.AxesImage at 0x7b9787b812a0>"
            ]
          },
          "metadata": {},
          "execution_count": 18
        },
        {
          "output_type": "display_data",
          "data": {
            "text/plain": [
              "<Figure size 640x480 with 2 Axes>"
            ],
            "image/png": "[encoded data removed]"
          },
          "metadata": {}
        }
      ]
    },
    {
      "cell_type": "code",
      "source": [
        "Input = namedtuple('input', ('height', 'width', 'n_action'))\n",
        "\n",
        "def get_input_shapes(env:gym.Env):\n",
        "  env_tensor = np.zeros(env.observation_space.shape,dtype=np.uint8)\n",
        "  x = preprocess_image(env_tensor)\n",
        "  _,height, width = x.shape\n",
        "  n_action=env.action_space.n\n",
        "  return Input(height,width,n_action)\n",
        "\n"
      ],
      "metadata": {
        "id": "Uj5w4MoD3dxR",
        "execution": {
          "iopub.status.busy": "2023-11-20T10:23:29.955365Z",
          "iopub.execute_input": "2023-11-20T10:23:29.955754Z",
          "iopub.status.idle": "2023-11-20T10:23:29.970257Z",
          "shell.execute_reply.started": "2023-11-20T10:23:29.955713Z",
          "shell.execute_reply": "2023-11-20T10:23:29.969213Z"
        },
        "trusted": true
      },
      "execution_count": 93,
      "outputs": []
    },
    {
      "cell_type": "markdown",
      "source": [
        "### Elaboration de modèles de de DQN\n",
        "\n",
        "Ici deux modèles vont être implémentés pour étudier quelle est la stratégie la plus adaptée."
      ],
      "metadata": {
        "id": "0A1YB793pFc2"
      }
    },
    {
      "cell_type": "markdown",
      "source": [
        "#### DQN simple"
      ],
      "metadata": {
        "id": "FxrkcKgrgGX5"
      }
    },
    {
      "cell_type": "code",
      "source": [
        "class DQN(nn.Module):\n",
        "    def __init__(self, n_action, height, width, linear_size=1024, model_name=None):\n",
        "        super(DQN, self).__init__()\n",
        "        self.input_dimension = 1, height, width\n",
        "\n",
        "        self.conv1 = nn.Conv2d(in_channels=self.input_dimension[0], out_channels=64, kernel_size=8, stride=2)\n",
        "        self.relu1 = nn.ReLU()\n",
        "        self.conv2 = nn.Conv2d(64, 64, kernel_size=4, stride=2, padding=1)\n",
        "        self.relu2 = nn.ReLU()\n",
        "        self.conv3 = nn.Conv2d(64, 64, kernel_size=3, stride=1, padding=1)\n",
        "        self.relu3 = nn.ReLU()\n",
        "\n",
        "        x0 = torch.zeros(1, 1, height, width)\n",
        "        x0 = self.convolute(x0)\n",
        "        x0 = self.flatten(x0)\n",
        "        flatten_dim = x0.shape[1]\n",
        "\n",
        "        self.linear1 = nn.Linear(flatten_dim, linear_size)\n",
        "        self.relu4 = nn.ReLU()\n",
        "        self.linear2 = nn.Linear(linear_size, n_action)\n",
        "\n",
        "    def flatten(self, x):\n",
        "        return x.view(x.shape[0], -1)\n",
        "\n",
        "    def convolute(self,x):\n",
        "      x = self.conv1(x)\n",
        "      x = self.relu1(x)\n",
        "      x = self.conv2(x)\n",
        "      x = self.relu2(x)\n",
        "      x = self.conv3(x)\n",
        "      x = self.relu3(x)\n",
        "      return x\n",
        "\n",
        "    def forward(self, x):\n",
        "      x = self.convolute(x)\n",
        "\n",
        "      x = self.flatten(x)\n",
        "\n",
        "      x = self.linear1(x)\n",
        "      x = self.relu4(x)\n",
        "      return self.linear2(x)"
      ],
      "metadata": {
        "id": "G823PH_jIctd",
        "execution": {
          "iopub.status.busy": "2023-11-20T10:23:29.922244Z",
          "iopub.execute_input": "2023-11-20T10:23:29.922613Z",
          "iopub.status.idle": "2023-11-20T10:23:29.937143Z",
          "shell.execute_reply.started": "2023-11-20T10:23:29.922575Z",
          "shell.execute_reply": "2023-11-20T10:23:29.936117Z"
        },
        "trusted": true
      },
      "execution_count": 91,
      "outputs": []
    },
    {
      "cell_type": "code",
      "source": [
        "from torchviz import make_dot\n"
      ],
      "metadata": {
        "id": "j_YxBCCMmYAk"
      },
      "execution_count": null,
      "outputs": []
    },
    {
      "cell_type": "code",
      "source": [
        "\n",
        "\n",
        "class DuellingDQN(nn.Module):\n",
        "    def __init__(self, n_action, height, width, linear_size=1024, model_name=None):\n",
        "        super(DuellingDQN, self).__init__()\n",
        "        self.input_dimension = 1, height, width\n",
        "        self.model_name = model_name\n",
        "        self.conv1 = nn.Conv2d(in_channels=self.input_dimension[0], out_channels=64, kernel_size=8, stride=4)\n",
        "        self.relu1 = nn.ReLU()\n",
        "        self.conv2 = nn.Conv2d(64, 64, kernel_size=4, stride=2, padding=1)\n",
        "        self.relu2 = nn.ReLU()\n",
        "        self.conv3 = nn.Conv2d(64, 64, kernel_size=3, stride=1, padding=1)\n",
        "        self.relu3 = nn.ReLU()\n",
        "\n",
        "        x0 = torch.zeros(1, 1, height, width)\n",
        "        x0 = self.convolute(x0)\n",
        "        x0 = self.flatten(x0)\n",
        "        flatten_dim = x0.shape[1]\n",
        "        self.value = nn.Linear(flatten_dim,1)\n",
        "        self.advantage = nn.Linear(flatten_dim,n_action)\n",
        "\n",
        "\n",
        "\n",
        "    def flatten(self, x):\n",
        "        return x.view(x.shape[0], -1)\n",
        "\n",
        "    def convolute(self,x):\n",
        "      x = self.conv1(x)\n",
        "      x = self.relu1(x)\n",
        "      x = self.conv2(x)\n",
        "      x = self.relu2(x)\n",
        "      x = self.conv3(x)\n",
        "      x = self.relu3(x)\n",
        "      return x\n",
        "\n",
        "    def forward(self, x):\n",
        "      x = self.convolute(x)\n",
        "      x = self.flatten(x)\n",
        "      value = self.value(x)\n",
        "      advantage = self.advantage(x)\n",
        "      q_value = value + (advantage - advantage.mean(dim=1,keepdim=True))\n",
        "      return q_value"
      ],
      "metadata": {
        "id": "ST4yINSA3j76",
        "execution": {
          "iopub.status.busy": "2023-11-20T10:23:29.938443Z",
          "iopub.execute_input": "2023-11-20T10:23:29.939314Z",
          "iopub.status.idle": "2023-11-20T10:23:29.953985Z",
          "shell.execute_reply.started": "2023-11-20T10:23:29.939278Z",
          "shell.execute_reply": "2023-11-20T10:23:29.952408Z"
        },
        "trusted": true
      },
      "execution_count": 92,
      "outputs": []
    },
    {
      "cell_type": "markdown",
      "source": [
        "testons"
      ],
      "metadata": {
        "id": "bfOjRVyt_TRz"
      }
    },
    {
      "cell_type": "code",
      "source": [
        "env = gym.make('ALE/Breakout-v5', render_mode=\"rgb_array\")\n",
        "input_data = get_input_shapes(env)\n",
        "dqn = DQN(input_data.n_action,input_data.height,input_data.width)\n",
        "duelling_dqn = DuellingDQN(input_data.n_action,input_data.height,input_data.width)\n",
        "x = preprocess_image(env.reset()[0])\n",
        "x = x.unsqueeze(0)\n",
        "for model in [dqn, duelling_dqn]:\n",
        "  output = model(x)\n",
        "  assert output.size(1) == env.action_space.n, print(f'{output.size(1)} != {env.action_space.n}')\n",
        "  print(\"Les shapes de sortie du modèle sont cohérentes.\")\n",
        "  print(f'{output.size()}')"
      ],
      "metadata": {
        "id": "bHL5liwk-X3B",
        "outputId": "e7349387-b21d-460e-9531-666a036e07ac",
        "execution": {
          "iopub.status.busy": "2023-11-20T10:23:29.971488Z",
          "iopub.execute_input": "2023-11-20T10:23:29.971981Z",
          "iopub.status.idle": "2023-11-20T10:23:30.303758Z",
          "shell.execute_reply.started": "2023-11-20T10:23:29.971936Z",
          "shell.execute_reply": "2023-11-20T10:23:30.302410Z"
        },
        "trusted": true,
        "colab": {
          "base_uri": "https://localhost:8080/"
        }
      },
      "execution_count": 94,
      "outputs": [
        {
          "output_type": "stream",
          "name": "stdout",
          "text": [
            "Les shapes de sortie du modèle sont cohérentes.\n",
            "torch.Size([1, 4])\n",
            "Les shapes de sortie du modèle sont cohérentes.\n",
            "torch.Size([1, 4])\n"
          ]
        }
      ]
    },
    {
      "cell_type": "markdown",
      "source": [
        "#### Gestion de la mémoire des expériences"
      ],
      "metadata": {
        "id": "GkoNo8z40ulV"
      }
    },
    {
      "cell_type": "code",
      "source": [
        "GameTransition = namedtuple('game_transition', ('initial_state', 'action', 'reward','next_state', 'done'))"
      ],
      "metadata": {
        "id": "-EEcI22jgs3u",
        "execution": {
          "iopub.status.busy": "2023-11-20T10:23:30.305395Z",
          "iopub.execute_input": "2023-11-20T10:23:30.305790Z",
          "iopub.status.idle": "2023-11-20T10:23:30.311332Z",
          "shell.execute_reply.started": "2023-11-20T10:23:30.305756Z",
          "shell.execute_reply": "2023-11-20T10:23:30.310446Z"
        },
        "trusted": true
      },
      "execution_count": 95,
      "outputs": []
    },
    {
      "cell_type": "code",
      "source": [
        "class ExpStack(): # D\n",
        "  def __init__(self, max_size:int):\n",
        "    self.transitions = []\n",
        "    self.max_size = max_size # N\n",
        "    self.index = 0\n",
        "\n",
        "  def enqueue(self,transition:GameTransition):\n",
        "    if (len(self.transitions) < self.max_size):\n",
        "      self.transitions.append(transition)\n",
        "    else:\n",
        "      self.transitions[self.index] = transition\n",
        "    self.index +=1\n",
        "    self.index = self.index % self.max_size\n",
        "\n",
        "  def get_experiences(self,nb_exp=1):\n",
        "    return random.sample(self.transitions, nb_exp)\n",
        "\n",
        "  def __len__(self):\n",
        "    return len(self.transitions)\n",
        "\n",
        "  def __getitem__(self,index):\n",
        "    return self.transitions[index]\n",
        "\n",
        "  def sample_minibatch(self,batch_size:int=32):\n",
        "    if (batch_size>=len(self)):\n",
        "      return self.transitions\n",
        "\n",
        "    return random.sample(self.transitions, batch_size)\n",
        "\n",
        "  def tensor_batch(self,batch_size):\n",
        "    batch = self.sample_minibatch(batch_size)\n",
        "    batch = GameTransition(*(zip(*batch)))\n",
        "\n",
        "    initial_state = torch.cat(batch.initial_state, dim=0)\n",
        "    initial_state = initial_state.unsqueeze(1)\n",
        "\n",
        "    next_state = torch.cat(batch.next_state, dim=0)\n",
        "    next_state = next_state.unsqueeze(1)\n",
        "\n",
        "    reward = torch.tensor(batch.reward)\n",
        "    reward = reward.unsqueeze(1)\n",
        "\n",
        "    done = torch.tensor(batch.done).float()\n",
        "    done = done.unsqueeze(1)\n",
        "\n",
        "    action = torch.tensor(batch.action)\n",
        "    action = action.unsqueeze(1)\n",
        "\n",
        "    return GameTransition(initial_state,action,reward,next_state,done)"
      ],
      "metadata": {
        "id": "tsLFma1J00XQ",
        "execution": {
          "iopub.status.busy": "2023-11-20T10:23:30.312968Z",
          "iopub.execute_input": "2023-11-20T10:23:30.313540Z",
          "iopub.status.idle": "2023-11-20T10:23:30.329774Z",
          "shell.execute_reply.started": "2023-11-20T10:23:30.313507Z",
          "shell.execute_reply": "2023-11-20T10:23:30.328966Z"
        },
        "trusted": true
      },
      "execution_count": 96,
      "outputs": []
    },
    {
      "cell_type": "markdown",
      "source": [
        "### Lancement du modèle sur l'algorithme **\"deep Q-learning with experience replay.\"** issu de l'article"
      ],
      "metadata": {
        "id": "sYoZhQMapgsH"
      }
    },
    {
      "cell_type": "code",
      "source": [
        "Action = int\n",
        "State = torch.Tensor"
      ],
      "metadata": {
        "id": "1kzOr7vmRNwk",
        "execution": {
          "iopub.status.busy": "2023-11-20T10:23:30.331136Z",
          "iopub.execute_input": "2023-11-20T10:23:30.331880Z",
          "iopub.status.idle": "2023-11-20T10:23:30.344386Z",
          "shell.execute_reply.started": "2023-11-20T10:23:30.331845Z",
          "shell.execute_reply": "2023-11-20T10:23:30.343288Z"
        },
        "trusted": true
      },
      "execution_count": 97,
      "outputs": []
    },
    {
      "cell_type": "code",
      "source": [
        "class DQNAgent():\n",
        "  max_step = int(1e5)\n",
        "  epsilon = 0.05\n",
        "  batch_size = 32\n",
        "  gamma = 0.9\n",
        "  time_limit = 3600\n",
        "  def __init__(self, env: gym.Env, max_experiences:int = int(1e6),update_frequency:int=5, verbose:bool=True, model_file:str=None, model:nn.Module=None):\n",
        "    self.env = env\n",
        "\n",
        "    self.model = model\n",
        "    self.target_model = copy.deepcopy(self.model)\n",
        "    self.target_model.eval()\n",
        "\n",
        "    self.experiences = ExpStack(max_size=max_experiences)\n",
        "\n",
        "    self.verbose = verbose\n",
        "    self.update_frequency = update_frequency\n",
        "    self.legal_actions = list(range(env.action_space.n))\n",
        "\n",
        "    self.loss_evolution = []\n",
        "    self.optimizer = torch.optim.Adam(self.model.parameters())\n",
        "    self.loss_func = nn.MSELoss()\n",
        "    self.begin_time = time()\n",
        "    self.stop = False\n",
        "    self.epoch_count = 0\n",
        "    self.frames = []\n",
        "    if (model_file is None):\n",
        "      self.model_file = 'model.pt'\n",
        "    else:\n",
        "      self.model_file = model_file\n",
        "\n",
        "  def train_agent(self,nb_episodes:int):\n",
        "    episode_index = 0\n",
        "    self.reboot_timer()\n",
        "    self.clear_saving()\n",
        "    while(episode_index < nb_episodes and not self.stop):\n",
        "      total_reward = self.play()\n",
        "      episode_index +=1\n",
        "\n",
        "      self.log(f'{episode_index} is done')\n",
        "      self.log(f'Total reward {total_reward}')\n",
        "\n",
        "\n",
        "  def play(self,train:bool = True,record_frames:bool =False):\n",
        "    done = False\n",
        "    step_index = 0\n",
        "    current_state = self.env.reset()[0]\n",
        "    self.frames.append(current_state)\n",
        "    current_state = preprocess_image(current_state)\n",
        "    total_reward = 0\n",
        "    while(step_index <self.max_step and not done and not self.stop):\n",
        "      # Initialize State 1 # TODO\n",
        "      self.update_time()\n",
        "      #done = self.make_step(current_state)\n",
        "      a_t = self.get_action(current_state=current_state)\n",
        "      next_state,reward,done,info,next_state_frame = self.make_action(a_t)\n",
        "      self.frames.append(next_state_frame)\n",
        "      total_reward += reward\n",
        "\n",
        "      if (train):\n",
        "        transition = GameTransition(current_state,a_t,reward,next_state,done)\n",
        "        self.experiences.enqueue(transition)\n",
        "\n",
        "        mini_batch = self.experiences.tensor_batch(self.batch_size)\n",
        "        self.train_model(mini_batch)\n",
        "        if(step_index % self.update_frequency == 0):\n",
        "          self.update_parameters()\n",
        "      if(done):\n",
        "        self.log(f'Game over after {step_index} steps')\n",
        "      current_state = next_state\n",
        "      step_index +=1\n",
        "    return total_reward\n",
        "\n",
        "\n",
        "  def train_model(self,batch:list[GameTransition]) -> None:\n",
        "    self.model.train()\n",
        "    y_target = (1 - batch.done ) * self.target_model(batch.next_state) * self.gamma + batch.reward\n",
        "    y_target = y_target.max(1)[0].unsqueeze(1)\n",
        "    y_pred = self.model(batch.initial_state).gather(1,batch.action)\n",
        "    self.gradient_descent(y_target,y_pred)\n",
        "\n",
        "  def gradient_descent(self,y_target,y_pred):\n",
        "    loss = self.loss_func(y_target,y_pred)\n",
        "    self.optimizer.zero_grad()\n",
        "    loss.backward()\n",
        "    self.loss_evolution.append(loss.item())\n",
        "    self.optimizer.step()\n",
        "    if(self.epoch_count %100 ==0):\n",
        "      self.log(f'Epoch {self.epoch_count}: loss = {loss.item()}')\n",
        "    self.epoch_count +=1\n",
        "\n",
        "  def make_action(self, action: Action) -> tuple[State,float, bool,dict,np.array]:\n",
        "    state,reward,truncated, terminated,info = self.env.step(action)\n",
        "    next_state = preprocess_image(state)\n",
        "    done = truncated or terminated\n",
        "\n",
        "    return next_state,reward,done,info,state\n",
        "\n",
        "\n",
        "  def get_action(self,current_state: State) -> Action:\n",
        "    if(random.random() < self.epsilon):\n",
        "      return random.choice(self.legal_actions)\n",
        "\n",
        "    current_state = current_state.unsqueeze(0)\n",
        "    model_output = self.model(current_state)\n",
        "    action = model_output.argmax().item()\n",
        "    return action\n",
        "\n",
        "  def update_parameters(self) -> None:\n",
        "    self.target_model = copy.deepcopy(self.model)\n",
        "    self.target_model.eval()\n",
        "\n",
        "  def reboot_timer(self):\n",
        "    self.begin_time = time()\n",
        "    self.stop = False\n",
        "\n",
        "  def clear_saving(self):\n",
        "    self.frames = []\n",
        "    self.experiences = ExpStack(self.experiences.max_size)\n",
        "    self.loss_evolution = []\n",
        "\n",
        "  def generate_gif(self, output_file:str) -> None:\n",
        "    self.play(train=False)\n",
        "    frames = [Image.fromarray(f, mode='RGB') for f in self.frames]\n",
        "    frames[0].save(output_file, format='GIF', append_images=frames[1:], save_all=True, duration=10, loop=0)\n",
        "    self.log(f'Saving {output_file}')\n",
        "\n",
        "  def log(self, *args,**kwargs):\n",
        "    if(self.verbose):\n",
        "      print(*args,**kwargs)\n",
        "\n",
        "  def update_time(self):\n",
        "    current_time = int(time())\n",
        "    delta = current_time - self.begin_time\n",
        "    self.stop = delta > self.time_limit\n",
        "    if(self.stop):\n",
        "      # Save model\n",
        "      torch.save(self.model,self.model_file+'.pt')\n",
        "      self.log(f'TIME OUT: Model stops training after {delta:.2f} seconds, Save model to {self.model_file}.pt')\n",
        "      self.log(f'Epochs {self.epoch_count}')"
      ],
      "metadata": {
        "id": "uHMulMZustrI",
        "execution": {
          "iopub.status.busy": "2023-11-20T10:23:30.346338Z",
          "iopub.execute_input": "2023-11-20T10:23:30.346794Z",
          "iopub.status.idle": "2023-11-20T10:23:30.375911Z",
          "shell.execute_reply.started": "2023-11-20T10:23:30.346752Z",
          "shell.execute_reply": "2023-11-20T10:23:30.374747Z"
        },
        "trusted": true
      },
      "execution_count": 98,
      "outputs": []
    },
    {
      "cell_type": "code",
      "source": [
        "def train_agent_and_plot(env_name, model_type, num_episodes=25000,time_limit:int = 3600):\n",
        "    env = gym.make(env_name, render_mode=\"rgb_array\")\n",
        "    input_data = get_input_shapes(env)\n",
        "\n",
        "    model = None\n",
        "    if model_type == 'simple_dqn':\n",
        "        model = DQN(input_data.n_action, input_data.height, input_data.width)\n",
        "    elif model_type == 'duelling_dqn':\n",
        "        model = DuellingDQN(input_data.n_action, input_data.height, input_data.width)\n",
        "\n",
        "    agent = DQNAgent(env, verbose=True, model_file=model_type, model=model)\n",
        "    agent.time_limit = time_limit\n",
        "    agent.train_agent(num_episodes)\n",
        "    agent.generate_gif(model_type+'.gif')\n",
        "    return agent\n",
        "\n",
        "\n",
        "agents = []\n",
        "env_name = 'ALE/Breakout-v5'\n",
        "model_types = ['simple_dqn', 'duelling_dqn']\n",
        "TIME_LIMIT = 3600\n",
        "\n",
        "\n",
        "for  model_type in (model_types):\n",
        "    agent = train_agent_and_plot(env_name, model_type,time_limit=TIME_LIMIT)\n",
        "    agents.append(agent)\n",
        "\n",
        "\n",
        "fig, axes = plt.subplots(1, 2, figsize=(12, 4))\n",
        "\n",
        "for agent,ax,model_type in zip(agents,axes,model_types):\n",
        "\n",
        "    ax.plot(agent.loss_evolution, label=agent.model_file,color='blue')\n",
        "    ax.set_xlabel('epochs')\n",
        "    ax.set_ylabel('loss value')\n",
        "    ax.set_title(f'Loss evolution for {model_type}')\n",
        "    ax.legend()\n",
        "\n",
        "plt.show()\n",
        "fig.savefig('combined_loss.png')"
      ],
      "metadata": {
        "id": "nRWJr4ztF52_",
        "outputId": "50e55e6a-b7d8-4583-9465-8213f9c42e68",
        "execution": {
          "iopub.status.busy": "2023-11-20T10:23:30.377471Z",
          "iopub.execute_input": "2023-11-20T10:23:30.377930Z",
          "iopub.status.idle": "2023-11-20T10:25:02.775034Z",
          "shell.execute_reply.started": "2023-11-20T10:23:30.377890Z",
          "shell.execute_reply": "2023-11-20T10:25:02.773337Z"
        },
        "trusted": true,
        "colab": {
          "base_uri": "https://localhost:8080/",
          "height": 1000
        }
      },
      "execution_count": 100,
      "outputs": [
        {
          "output_type": "stream",
          "name": "stdout",
          "text": [
            "Epoch 0: loss = 8.112925570458174e-06\n",
            "Epoch 100: loss = 5.522559263226867e-07\n",
            "Game over after 160 steps\n",
            "1/25000 episodes are done\n",
            "Epoch 200: loss = 8.475968371612908e-09\n",
            "Epoch 300: loss = 1.8201435025844148e-08\n",
            "Game over after 166 steps\n",
            "2/25000 episodes are done\n",
            "Epoch 400: loss = 5.161574517842382e-05\n",
            "Epoch 500: loss = 0.00012095828424207866\n",
            "Game over after 251 steps\n",
            "3/25000 episodes are done\n",
            "Epoch 600: loss = 1.886272457340965e-06\n",
            "Epoch 700: loss = 2.7888716431334615e-05\n",
            "Epoch 800: loss = 4.02447449232568e-06\n",
            "Epoch 900: loss = 2.6376555979368277e-05\n",
            "Epoch 1000: loss = 8.478105542053527e-07\n",
            "Epoch 1100: loss = 7.657100468350109e-06\n",
            "Epoch 1200: loss = 7.908413681434467e-05\n",
            "Game over after 624 steps\n",
            "4/25000 episodes are done\n",
            "Epoch 1300: loss = 1.5518149893978261e-06\n",
            "Epoch 1400: loss = 2.0683390175690874e-05\n",
            "Epoch 1500: loss = 9.188781405100599e-06\n",
            "Epoch 1600: loss = 3.8430782296927646e-05\n",
            "Game over after 413 steps\n",
            "5/25000 episodes are done\n",
            "Epoch 1700: loss = 3.4386594052193686e-05\n",
            "Epoch 1800: loss = 2.3625949324923567e-05\n",
            "Epoch 1900: loss = 4.165052087046206e-05\n",
            "Epoch 2000: loss = 2.0836778276134282e-05\n",
            "Epoch 2100: loss = 9.798698556551244e-06\n",
            "Epoch 2200: loss = 1.6628815501462668e-05\n",
            "Epoch 2300: loss = 0.03127739205956459\n",
            "Game over after 759 steps\n",
            "6/25000 episodes are done\n",
            "Epoch 2400: loss = 9.08757374418201e-06\n",
            "Epoch 2500: loss = 0.03099384531378746\n",
            "Epoch 2600: loss = 5.460185548145091e-06\n",
            "Epoch 2700: loss = 6.945545464986935e-06\n",
            "Game over after 404 steps\n",
            "7/25000 episodes are done\n",
            "Epoch 2800: loss = 3.317690925541683e-06\n",
            "Epoch 2900: loss = 4.542766419035615e-06\n",
            "Epoch 3000: loss = 9.778516869118903e-06\n",
            "Epoch 3100: loss = 6.618534825975075e-06\n",
            "Game over after 372 steps\n",
            "8/25000 episodes are done\n",
            "Epoch 3200: loss = 6.727928121108562e-05\n",
            "Epoch 3300: loss = 4.033275217807386e-06\n",
            "Epoch 3400: loss = 1.2846361642004922e-05\n",
            "Epoch 3500: loss = 6.136107913334854e-06\n",
            "Epoch 3600: loss = 2.4201846827054396e-05\n",
            "Epoch 3700: loss = 1.6035059161367826e-05\n",
            "Game over after 549 steps\n",
            "9/25000 episodes are done\n",
            "Epoch 3800: loss = 0.030915267765522003\n",
            "Epoch 3900: loss = 1.544990300317295e-05\n",
            "Epoch 4000: loss = 1.7313650459982455e-05\n",
            "Epoch 4100: loss = 1.2283678188396152e-05\n",
            "Epoch 4200: loss = 6.4905884755717125e-06\n",
            "Epoch 4300: loss = 6.714498795190593e-06\n",
            "Game over after 651 steps\n",
            "10/25000 episodes are done\n",
            "Epoch 4400: loss = 8.68817005539313e-06\n",
            "Epoch 4500: loss = 8.619888831162825e-06\n",
            "Epoch 4600: loss = 3.950628524762578e-05\n",
            "Epoch 4700: loss = 6.770907930331305e-06\n",
            "Game over after 364 steps\n",
            "11/25000 episodes are done\n",
            "Epoch 4800: loss = 1.5589115719194524e-05\n",
            "Epoch 4900: loss = 9.93285357253626e-06\n",
            "Epoch 5000: loss = 7.1445365392719395e-06\n",
            "Epoch 5100: loss = 5.497344318428077e-06\n",
            "Epoch 5200: loss = 4.101303420611657e-05\n",
            "Game over after 566 steps\n",
            "12/25000 episodes are done\n",
            "Epoch 5300: loss = 1.0813589142344426e-05\n",
            "Epoch 5400: loss = 6.719325028825551e-06\n",
            "Epoch 5500: loss = 4.7497369450866245e-06\n",
            "Epoch 5600: loss = 0.03117501363158226\n",
            "Game over after 399 steps\n",
            "13/25000 episodes are done\n",
            "Epoch 5700: loss = 5.078043614048511e-06\n",
            "Epoch 5800: loss = 1.549765693198424e-05\n",
            "Epoch 5900: loss = 4.7530586016364396e-05\n",
            "Epoch 6000: loss = 7.745142283965833e-06\n",
            "Game over after 310 steps\n",
            "14/25000 episodes are done\n",
            "Epoch 6100: loss = 1.3039571058470756e-05\n",
            "Epoch 6200: loss = 7.025312243058579e-06\n",
            "Epoch 6300: loss = 6.2541662373405416e-06\n",
            "Epoch 6400: loss = 1.4072962585487403e-05\n",
            "Epoch 6500: loss = 1.6627562217763625e-05\n",
            "Epoch 6600: loss = 1.1669202649500221e-05\n",
            "Game over after 696 steps\n",
            "15/25000 episodes are done\n",
            "Epoch 6700: loss = 5.376105036702938e-06\n",
            "Epoch 6800: loss = 1.28736410260899e-05\n",
            "Epoch 6900: loss = 5.1195397645642515e-06\n",
            "Epoch 7000: loss = 7.27348697182606e-06\n",
            "Epoch 7100: loss = 1.2751509530062322e-05\n",
            "Epoch 7200: loss = 6.555573691002792e-06\n",
            "Game over after 506 steps\n",
            "16/25000 episodes are done\n",
            "Epoch 7300: loss = 1.851672277553007e-05\n",
            "Epoch 7400: loss = 1.1193912541784812e-05\n",
            "Epoch 7500: loss = 4.676909156842157e-06\n",
            "Game over after 338 steps\n",
            "17/25000 episodes are done\n",
            "Epoch 7600: loss = 9.00180748431012e-06\n",
            "Epoch 7700: loss = 4.796937355422415e-05\n",
            "Epoch 7800: loss = 1.0184585335082375e-05\n",
            "Epoch 7900: loss = 1.9707185856532305e-05\n",
            "Game over after 418 steps\n",
            "18/25000 episodes are done\n",
            "Epoch 8000: loss = 9.709829100756906e-06\n",
            "Epoch 8100: loss = 3.1996501093090046e-06\n",
            "Epoch 8200: loss = 1.9163535398547538e-06\n",
            "Epoch 8300: loss = 4.889547199127264e-06\n",
            "Epoch 8400: loss = 3.2465172807860654e-06\n",
            "Game over after 483 steps\n",
            "19/25000 episodes are done\n",
            "Epoch 8500: loss = 0.031063949689269066\n",
            "Epoch 8600: loss = 4.775566139869625e-06\n",
            "Epoch 8700: loss = 3.2887558063521283e-06\n",
            "Game over after 333 steps\n",
            "20/25000 episodes are done\n",
            "Epoch 8800: loss = 9.238169695890974e-06\n",
            "Epoch 8900: loss = 6.596960247406969e-06\n",
            "Epoch 9000: loss = 5.2467285058810376e-06\n",
            "Epoch 9100: loss = 5.922689524595626e-06\n",
            "Epoch 9200: loss = 1.0138986908714287e-05\n",
            "Epoch 9300: loss = 0.031031513586640358\n",
            "Epoch 9400: loss = 7.856292540964205e-06\n",
            "Game over after 638 steps\n",
            "21/25000 episodes are done\n",
            "Epoch 9500: loss = 1.196459743368905e-05\n",
            "Epoch 9600: loss = 7.85368956712773e-06\n",
            "Epoch 9700: loss = 1.198728205054067e-05\n",
            "Game over after 296 steps\n",
            "22/25000 episodes are done\n",
            "Epoch 9800: loss = 8.46966759127099e-06\n",
            "TIME OUT: Model stops training after 3600.04 seconds, Save model to simple_dqn.pt\n",
            "Epochs 9880\n",
            "23/25000 episodes are done\n",
            "Saving simple_dqn.gif\n",
            "Epoch 0: loss = 2.3312745724979322e-06\n",
            "Epoch 100: loss = 4.666259201258072e-08\n",
            "Epoch 200: loss = 3.6633596156576687e-10\n",
            "Game over after 290 steps\n",
            "1/25000 episodes are done\n",
            "Epoch 300: loss = 1.9935835204876184e-09\n",
            "Epoch 400: loss = 3.9756281600134e-10\n",
            "Game over after 193 steps\n",
            "2/25000 episodes are done\n",
            "Epoch 500: loss = 5.790627422008754e-10\n",
            "Epoch 600: loss = 0.00030618434539064765\n",
            "Epoch 700: loss = 0.031188230961561203\n",
            "Game over after 251 steps\n",
            "3/25000 episodes are done\n",
            "Epoch 800: loss = 0.03157315030694008\n",
            "Epoch 900: loss = 0.0002602649910841137\n",
            "Game over after 260 steps\n",
            "4/25000 episodes are done\n",
            "Epoch 1000: loss = 0.031110268086194992\n",
            "Epoch 1100: loss = 0.030502060428261757\n",
            "Epoch 1200: loss = 0.00011917428491869941\n",
            "Game over after 220 steps\n",
            "5/25000 episodes are done\n",
            "Epoch 1300: loss = 5.475351645145565e-05\n",
            "Epoch 1400: loss = 0.00012353801866993308\n",
            "Game over after 246 steps\n",
            "6/25000 episodes are done\n",
            "Epoch 1500: loss = 2.2070433260523714e-05\n",
            "Epoch 1600: loss = 0.0001171844414784573\n",
            "Epoch 1700: loss = 6.030482109053992e-05\n",
            "Epoch 1800: loss = 4.884550435235724e-05\n",
            "Game over after 402 steps\n",
            "7/25000 episodes are done\n",
            "Epoch 1900: loss = 1.9151801097905263e-05\n",
            "Epoch 2000: loss = 2.7390422474127263e-05\n",
            "Epoch 2100: loss = 0.00012083571346011013\n",
            "Epoch 2200: loss = 0.030584193766117096\n",
            "Game over after 353 steps\n",
            "8/25000 episodes are done\n",
            "Epoch 2300: loss = 0.000165526318596676\n",
            "Game over after 173 steps\n",
            "9/25000 episodes are done\n",
            "Epoch 2400: loss = 0.00014278553135227412\n",
            "Epoch 2500: loss = 0.00037569471169263124\n",
            "Game over after 141 steps\n",
            "10/25000 episodes are done\n",
            "Epoch 2600: loss = 5.3433825087267905e-05\n",
            "Epoch 2700: loss = 5.226545545156114e-05\n",
            "Game over after 213 steps\n",
            "11/25000 episodes are done\n",
            "Epoch 2800: loss = 0.00020500223035924137\n",
            "Epoch 2900: loss = 0.004840278998017311\n",
            "Game over after 187 steps\n",
            "12/25000 episodes are done\n",
            "Epoch 3000: loss = 0.002595896366983652\n",
            "Epoch 3100: loss = 0.009179678745567799\n",
            "Game over after 187 steps\n",
            "13/25000 episodes are done\n",
            "Epoch 3200: loss = 0.0004544714465737343\n"
          ]
        },
        {
          "output_type": "error",
          "ename": "KeyboardInterrupt",
          "evalue": "ignored",
          "traceback": [
            "\u001b[0;31m---------------------------------------------------------------------------\u001b[0m",
            "\u001b[0;31mKeyboardInterrupt\u001b[0m                         Traceback (most recent call last)",
            "\u001b[0;32m<ipython-input-100-5d648fb682be>\u001b[0m in \u001b[0;36m<cell line: 24>\u001b[0;34m()\u001b[0m\n\u001b[1;32m     23\u001b[0m \u001b[0;34m\u001b[0m\u001b[0m\n\u001b[1;32m     24\u001b[0m \u001b[0;32mfor\u001b[0m  \u001b[0mmodel_type\u001b[0m \u001b[0;32min\u001b[0m \u001b[0;34m(\u001b[0m\u001b[0mmodel_types\u001b[0m\u001b[0;34m)\u001b[0m\u001b[0;34m:\u001b[0m\u001b[0;34m\u001b[0m\u001b[0;34m\u001b[0m\u001b[0m\n\u001b[0;32m---> 25\u001b[0;31m     \u001b[0magent\u001b[0m \u001b[0;34m=\u001b[0m \u001b[0mtrain_agent_and_plot\u001b[0m\u001b[0;34m(\u001b[0m\u001b[0menv_name\u001b[0m\u001b[0;34m,\u001b[0m \u001b[0mmodel_type\u001b[0m\u001b[0;34m,\u001b[0m\u001b[0mtime_limit\u001b[0m\u001b[0;34m=\u001b[0m\u001b[0mTIME_LIMIT\u001b[0m\u001b[0;34m)\u001b[0m\u001b[0;34m\u001b[0m\u001b[0;34m\u001b[0m\u001b[0m\n\u001b[0m\u001b[1;32m     26\u001b[0m     \u001b[0magents\u001b[0m\u001b[0;34m.\u001b[0m\u001b[0mappend\u001b[0m\u001b[0;34m(\u001b[0m\u001b[0magent\u001b[0m\u001b[0;34m)\u001b[0m\u001b[0;34m\u001b[0m\u001b[0;34m\u001b[0m\u001b[0m\n\u001b[1;32m     27\u001b[0m \u001b[0;34m\u001b[0m\u001b[0m\n",
            "\u001b[0;32m<ipython-input-100-5d648fb682be>\u001b[0m in \u001b[0;36mtrain_agent_and_plot\u001b[0;34m(env_name, model_type, num_episodes, time_limit)\u001b[0m\n\u001b[1;32m     11\u001b[0m     \u001b[0magent\u001b[0m \u001b[0;34m=\u001b[0m \u001b[0mDQNAgent\u001b[0m\u001b[0;34m(\u001b[0m\u001b[0menv\u001b[0m\u001b[0;34m,\u001b[0m \u001b[0mverbose\u001b[0m\u001b[0;34m=\u001b[0m\u001b[0;32mTrue\u001b[0m\u001b[0;34m,\u001b[0m \u001b[0mmodel_file\u001b[0m\u001b[0;34m=\u001b[0m\u001b[0mmodel_type\u001b[0m\u001b[0;34m,\u001b[0m \u001b[0mmodel\u001b[0m\u001b[0;34m=\u001b[0m\u001b[0mmodel\u001b[0m\u001b[0;34m)\u001b[0m\u001b[0;34m\u001b[0m\u001b[0;34m\u001b[0m\u001b[0m\n\u001b[1;32m     12\u001b[0m     \u001b[0magent\u001b[0m\u001b[0;34m.\u001b[0m\u001b[0mtime_limit\u001b[0m \u001b[0;34m=\u001b[0m \u001b[0mtime_limit\u001b[0m\u001b[0;34m\u001b[0m\u001b[0;34m\u001b[0m\u001b[0m\n\u001b[0;32m---> 13\u001b[0;31m     \u001b[0magent\u001b[0m\u001b[0;34m.\u001b[0m\u001b[0mtrain_agent\u001b[0m\u001b[0;34m(\u001b[0m\u001b[0mnum_episodes\u001b[0m\u001b[0;34m)\u001b[0m\u001b[0;34m\u001b[0m\u001b[0;34m\u001b[0m\u001b[0m\n\u001b[0m\u001b[1;32m     14\u001b[0m     \u001b[0magent\u001b[0m\u001b[0;34m.\u001b[0m\u001b[0mgenerate_gif\u001b[0m\u001b[0;34m(\u001b[0m\u001b[0mmodel_type\u001b[0m\u001b[0;34m+\u001b[0m\u001b[0;34m'.gif'\u001b[0m\u001b[0;34m)\u001b[0m\u001b[0;34m\u001b[0m\u001b[0;34m\u001b[0m\u001b[0m\n\u001b[1;32m     15\u001b[0m     \u001b[0;32mreturn\u001b[0m \u001b[0magent\u001b[0m\u001b[0;34m\u001b[0m\u001b[0;34m\u001b[0m\u001b[0m\n",
            "\u001b[0;32m<ipython-input-98-15a71fad4abf>\u001b[0m in \u001b[0;36mtrain_agent\u001b[0;34m(self, nb_episodes)\u001b[0m\n\u001b[1;32m     35\u001b[0m     \u001b[0mself\u001b[0m\u001b[0;34m.\u001b[0m\u001b[0mclear_saving\u001b[0m\u001b[0;34m(\u001b[0m\u001b[0;34m)\u001b[0m\u001b[0;34m\u001b[0m\u001b[0;34m\u001b[0m\u001b[0m\n\u001b[1;32m     36\u001b[0m     \u001b[0;32mwhile\u001b[0m\u001b[0;34m(\u001b[0m\u001b[0mepisode_index\u001b[0m \u001b[0;34m<\u001b[0m \u001b[0mnb_episodes\u001b[0m \u001b[0;32mand\u001b[0m \u001b[0;32mnot\u001b[0m \u001b[0mself\u001b[0m\u001b[0;34m.\u001b[0m\u001b[0mstop\u001b[0m\u001b[0;34m)\u001b[0m\u001b[0;34m:\u001b[0m\u001b[0;34m\u001b[0m\u001b[0;34m\u001b[0m\u001b[0m\n\u001b[0;32m---> 37\u001b[0;31m       \u001b[0mself\u001b[0m\u001b[0;34m.\u001b[0m\u001b[0mplay\u001b[0m\u001b[0;34m(\u001b[0m\u001b[0;34m)\u001b[0m\u001b[0;34m\u001b[0m\u001b[0;34m\u001b[0m\u001b[0m\n\u001b[0m\u001b[1;32m     38\u001b[0m       \u001b[0mepisode_index\u001b[0m \u001b[0;34m+=\u001b[0m\u001b[0;36m1\u001b[0m\u001b[0;34m\u001b[0m\u001b[0;34m\u001b[0m\u001b[0m\n\u001b[1;32m     39\u001b[0m       \u001b[0mself\u001b[0m\u001b[0;34m.\u001b[0m\u001b[0mlog\u001b[0m\u001b[0;34m(\u001b[0m\u001b[0;34mf'{episode_index}/{nb_episodes} episodes are done'\u001b[0m\u001b[0;34m)\u001b[0m\u001b[0;34m\u001b[0m\u001b[0;34m\u001b[0m\u001b[0m\n",
            "\u001b[0;32m<ipython-input-98-15a71fad4abf>\u001b[0m in \u001b[0;36mplay\u001b[0;34m(self, train, record_frames)\u001b[0m\n\u001b[1;32m     58\u001b[0m         \u001b[0mself\u001b[0m\u001b[0;34m.\u001b[0m\u001b[0mexperiences\u001b[0m\u001b[0;34m.\u001b[0m\u001b[0menqueue\u001b[0m\u001b[0;34m(\u001b[0m\u001b[0mtransition\u001b[0m\u001b[0;34m)\u001b[0m\u001b[0;34m\u001b[0m\u001b[0;34m\u001b[0m\u001b[0m\n\u001b[1;32m     59\u001b[0m \u001b[0;34m\u001b[0m\u001b[0m\n\u001b[0;32m---> 60\u001b[0;31m         \u001b[0mmini_batch\u001b[0m \u001b[0;34m=\u001b[0m \u001b[0mself\u001b[0m\u001b[0;34m.\u001b[0m\u001b[0mexperiences\u001b[0m\u001b[0;34m.\u001b[0m\u001b[0mtensor_batch\u001b[0m\u001b[0;34m(\u001b[0m\u001b[0mself\u001b[0m\u001b[0;34m.\u001b[0m\u001b[0mbatch_size\u001b[0m\u001b[0;34m)\u001b[0m\u001b[0;34m\u001b[0m\u001b[0;34m\u001b[0m\u001b[0m\n\u001b[0m\u001b[1;32m     61\u001b[0m         \u001b[0mself\u001b[0m\u001b[0;34m.\u001b[0m\u001b[0mtrain_model\u001b[0m\u001b[0;34m(\u001b[0m\u001b[0mmini_batch\u001b[0m\u001b[0;34m)\u001b[0m\u001b[0;34m\u001b[0m\u001b[0;34m\u001b[0m\u001b[0m\n\u001b[1;32m     62\u001b[0m         \u001b[0;32mif\u001b[0m\u001b[0;34m(\u001b[0m\u001b[0mstep_index\u001b[0m \u001b[0;34m%\u001b[0m \u001b[0mself\u001b[0m\u001b[0;34m.\u001b[0m\u001b[0mupdate_frequency\u001b[0m \u001b[0;34m==\u001b[0m \u001b[0;36m0\u001b[0m\u001b[0;34m)\u001b[0m\u001b[0;34m:\u001b[0m\u001b[0;34m\u001b[0m\u001b[0;34m\u001b[0m\u001b[0m\n",
            "\u001b[0;32m<ipython-input-96-c85de710f647>\u001b[0m in \u001b[0;36mtensor_batch\u001b[0;34m(self, batch_size)\u001b[0m\n\u001b[1;32m     32\u001b[0m     \u001b[0mbatch\u001b[0m \u001b[0;34m=\u001b[0m \u001b[0mGameTransition\u001b[0m\u001b[0;34m(\u001b[0m\u001b[0;34m*\u001b[0m\u001b[0;34m(\u001b[0m\u001b[0mzip\u001b[0m\u001b[0;34m(\u001b[0m\u001b[0;34m*\u001b[0m\u001b[0mbatch\u001b[0m\u001b[0;34m)\u001b[0m\u001b[0;34m)\u001b[0m\u001b[0;34m)\u001b[0m\u001b[0;34m\u001b[0m\u001b[0;34m\u001b[0m\u001b[0m\n\u001b[1;32m     33\u001b[0m \u001b[0;34m\u001b[0m\u001b[0m\n\u001b[0;32m---> 34\u001b[0;31m     \u001b[0minitial_state\u001b[0m \u001b[0;34m=\u001b[0m \u001b[0mtorch\u001b[0m\u001b[0;34m.\u001b[0m\u001b[0mcat\u001b[0m\u001b[0;34m(\u001b[0m\u001b[0mbatch\u001b[0m\u001b[0;34m.\u001b[0m\u001b[0minitial_state\u001b[0m\u001b[0;34m,\u001b[0m \u001b[0mdim\u001b[0m\u001b[0;34m=\u001b[0m\u001b[0;36m0\u001b[0m\u001b[0;34m)\u001b[0m\u001b[0;34m\u001b[0m\u001b[0;34m\u001b[0m\u001b[0m\n\u001b[0m\u001b[1;32m     35\u001b[0m     \u001b[0minitial_state\u001b[0m \u001b[0;34m=\u001b[0m \u001b[0minitial_state\u001b[0m\u001b[0;34m.\u001b[0m\u001b[0munsqueeze\u001b[0m\u001b[0;34m(\u001b[0m\u001b[0;36m1\u001b[0m\u001b[0;34m)\u001b[0m\u001b[0;34m\u001b[0m\u001b[0;34m\u001b[0m\u001b[0m\n\u001b[1;32m     36\u001b[0m \u001b[0;34m\u001b[0m\u001b[0m\n",
            "\u001b[0;31mKeyboardInterrupt\u001b[0m: "
          ]
        }
      ]
    },
    {
      "cell_type": "markdown",
      "source": [
        "[](./simple_dqn.gif)"
      ],
      "metadata": {
        "id": "RnO4stmsNzA_"
      }
    }
  ]
}