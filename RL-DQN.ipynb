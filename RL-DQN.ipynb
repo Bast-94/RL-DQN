{
 "cells": [
  {
   "cell_type": "markdown",
   "id": "dc69e154",
   "metadata": {
    "id": "view-in-github",
    "papermill": {
     "duration": 0.012419,
     "end_time": "2023-11-21T08:42:52.425400",
     "exception": false,
     "start_time": "2023-11-21T08:42:52.412981",
     "status": "completed"
    },
    "tags": []
   },
   "source": [
    "<a href=\"https://colab.research.google.com/github/Bast-94/RL-DQN/blob/dqn-draft/RL-DQN.ipynb\" target=\"_parent\"><img src=\"https://colab.research.google.com/assets/colab-badge.svg\" alt=\"Open In Colab\"/></a>"
   ]
  },
  {
   "cell_type": "markdown",
   "id": "7309fdd1",
   "metadata": {
    "id": "IxUx75ISnaC2",
    "papermill": {
     "duration": 0.012089,
     "end_time": "2023-11-21T08:42:52.450576",
     "exception": false,
     "start_time": "2023-11-21T08:42:52.438487",
     "status": "completed"
    },
    "tags": []
   },
   "source": [
    "# Projet de Reinforcement Learning : Deep Q-Learning sur le casse-brique d'Atari"
   ]
  },
  {
   "cell_type": "code",
   "execution_count": 3,
   "id": "70551624",
   "metadata": {
    "execution": {
     "iopub.execute_input": "2023-11-21T08:42:52.477400Z",
     "iopub.status.busy": "2023-11-21T08:42:52.476429Z",
     "iopub.status.idle": "2023-11-21T08:43:41.135719Z",
     "shell.execute_reply": "2023-11-21T08:43:41.134225Z"
    },
    "id": "IT6J8Qb1nTG4",
    "outputId": "e64dc404-94ee-4e38-9684-98c18ef21579",
    "papermill": {
     "duration": 48.675994,
     "end_time": "2023-11-21T08:43:41.138647",
     "exception": false,
     "start_time": "2023-11-21T08:42:52.462653",
     "status": "completed"
    },
    "tags": []
   },
   "outputs": [
    {
     "name": "stdout",
     "output_type": "stream",
     "text": [
      "Defaulting to user installation because normal site-packages is not writeable\n",
      "Requirement already satisfied: gymnasium[accept-rom-license] in /home/bast7594/.local/lib/python3.10/site-packages (0.29.1)\n",
      "Requirement already satisfied: typing-extensions>=4.3.0 in /home/bast7594/.local/lib/python3.10/site-packages (from gymnasium[accept-rom-license]) (4.8.0)\n",
      "Requirement already satisfied: numpy>=1.21.0 in /home/bast7594/.local/lib/python3.10/site-packages (from gymnasium[accept-rom-license]) (1.26.2)\n",
      "Requirement already satisfied: farama-notifications>=0.0.1 in /home/bast7594/.local/lib/python3.10/site-packages (from gymnasium[accept-rom-license]) (0.0.4)\n",
      "Requirement already satisfied: cloudpickle>=1.2.0 in /home/bast7594/.local/lib/python3.10/site-packages (from gymnasium[accept-rom-license]) (3.0.0)\n",
      "Requirement already satisfied: autorom[accept-rom-license]~=0.4.2 in /home/bast7594/.local/lib/python3.10/site-packages (from gymnasium[accept-rom-license]) (0.4.2)\n",
      "Requirement already satisfied: tqdm in /home/bast7594/.local/lib/python3.10/site-packages (from autorom[accept-rom-license]~=0.4.2->gymnasium[accept-rom-license]) (4.66.1)\n",
      "Requirement already satisfied: requests in /usr/lib/python3/dist-packages (from autorom[accept-rom-license]~=0.4.2->gymnasium[accept-rom-license]) (2.25.1)\n",
      "Requirement already satisfied: click in /usr/lib/python3/dist-packages (from autorom[accept-rom-license]~=0.4.2->gymnasium[accept-rom-license]) (8.0.3)\n",
      "Requirement already satisfied: AutoROM.accept-rom-license in /home/bast7594/.local/lib/python3.10/site-packages (from autorom[accept-rom-license]~=0.4.2->gymnasium[accept-rom-license]) (0.6.1)\n",
      "Defaulting to user installation because normal site-packages is not writeable\n",
      "Requirement already satisfied: gymnasium[atari] in /home/bast7594/.local/lib/python3.10/site-packages (0.29.1)\n",
      "Requirement already satisfied: typing-extensions>=4.3.0 in /home/bast7594/.local/lib/python3.10/site-packages (from gymnasium[atari]) (4.8.0)\n",
      "Requirement already satisfied: cloudpickle>=1.2.0 in /home/bast7594/.local/lib/python3.10/site-packages (from gymnasium[atari]) (3.0.0)\n",
      "Requirement already satisfied: numpy>=1.21.0 in /home/bast7594/.local/lib/python3.10/site-packages (from gymnasium[atari]) (1.26.2)\n",
      "Requirement already satisfied: farama-notifications>=0.0.1 in /home/bast7594/.local/lib/python3.10/site-packages (from gymnasium[atari]) (0.0.4)\n",
      "Requirement already satisfied: shimmy[atari]<1.0,>=0.1.0 in /home/bast7594/.local/lib/python3.10/site-packages (from gymnasium[atari]) (0.2.1)\n",
      "Requirement already satisfied: ale-py~=0.8.1 in /home/bast7594/.local/lib/python3.10/site-packages (from shimmy[atari]<1.0,>=0.1.0->gymnasium[atari]) (0.8.1)\n",
      "Requirement already satisfied: importlib-resources in /home/bast7594/.local/lib/python3.10/site-packages (from ale-py~=0.8.1->shimmy[atari]<1.0,>=0.1.0->gymnasium[atari]) (6.1.1)\n",
      "Defaulting to user installation because normal site-packages is not writeable\n",
      "Requirement already satisfied: torch in /home/bast7594/.local/lib/python3.10/site-packages (2.1.1)\n",
      "Requirement already satisfied: filelock in /home/bast7594/.local/lib/python3.10/site-packages (from torch) (3.13.1)\n",
      "Requirement already satisfied: nvidia-cuda-cupti-cu12==12.1.105 in /home/bast7594/.local/lib/python3.10/site-packages (from torch) (12.1.105)\n",
      "Requirement already satisfied: nvidia-nccl-cu12==2.18.1 in /home/bast7594/.local/lib/python3.10/site-packages (from torch) (2.18.1)\n",
      "Requirement already satisfied: sympy in /home/bast7594/.local/lib/python3.10/site-packages (from torch) (1.12)\n",
      "Requirement already satisfied: nvidia-nvtx-cu12==12.1.105 in /home/bast7594/.local/lib/python3.10/site-packages (from torch) (12.1.105)\n",
      "Requirement already satisfied: triton==2.1.0 in /home/bast7594/.local/lib/python3.10/site-packages (from torch) (2.1.0)\n",
      "Requirement already satisfied: nvidia-cufft-cu12==11.0.2.54 in /home/bast7594/.local/lib/python3.10/site-packages (from torch) (11.0.2.54)\n",
      "Requirement already satisfied: nvidia-cuda-runtime-cu12==12.1.105 in /home/bast7594/.local/lib/python3.10/site-packages (from torch) (12.1.105)\n",
      "Requirement already satisfied: nvidia-cudnn-cu12==8.9.2.26 in /home/bast7594/.local/lib/python3.10/site-packages (from torch) (8.9.2.26)\n",
      "Requirement already satisfied: nvidia-cusolver-cu12==11.4.5.107 in /home/bast7594/.local/lib/python3.10/site-packages (from torch) (11.4.5.107)\n",
      "Requirement already satisfied: nvidia-curand-cu12==10.3.2.106 in /home/bast7594/.local/lib/python3.10/site-packages (from torch) (10.3.2.106)\n",
      "Requirement already satisfied: networkx in /home/bast7594/.local/lib/python3.10/site-packages (from torch) (3.2.1)\n",
      "Requirement already satisfied: typing-extensions in /home/bast7594/.local/lib/python3.10/site-packages (from torch) (4.8.0)\n",
      "Requirement already satisfied: nvidia-cuda-nvrtc-cu12==12.1.105 in /home/bast7594/.local/lib/python3.10/site-packages (from torch) (12.1.105)\n",
      "Requirement already satisfied: jinja2 in /home/bast7594/.local/lib/python3.10/site-packages (from torch) (3.1.2)\n",
      "Requirement already satisfied: nvidia-cublas-cu12==12.1.3.1 in /home/bast7594/.local/lib/python3.10/site-packages (from torch) (12.1.3.1)\n",
      "Requirement already satisfied: nvidia-cusparse-cu12==12.1.0.106 in /home/bast7594/.local/lib/python3.10/site-packages (from torch) (12.1.0.106)\n",
      "Requirement already satisfied: fsspec in /home/bast7594/.local/lib/python3.10/site-packages (from torch) (2023.10.0)\n",
      "Requirement already satisfied: nvidia-nvjitlink-cu12 in /home/bast7594/.local/lib/python3.10/site-packages (from nvidia-cusolver-cu12==11.4.5.107->torch) (12.3.101)\n",
      "Requirement already satisfied: MarkupSafe>=2.0 in /usr/lib/python3/dist-packages (from jinja2->torch) (2.0.1)\n",
      "Requirement already satisfied: mpmath>=0.19 in /home/bast7594/.local/lib/python3.10/site-packages (from sympy->torch) (1.3.0)\n",
      "Defaulting to user installation because normal site-packages is not writeable\n",
      "Requirement already satisfied: torchvision in /home/bast7594/.local/lib/python3.10/site-packages (0.16.1)\n",
      "Requirement already satisfied: requests in /usr/lib/python3/dist-packages (from torchvision) (2.25.1)\n",
      "Requirement already satisfied: pillow!=8.3.*,>=5.3.0 in /usr/lib/python3/dist-packages (from torchvision) (9.0.1)\n",
      "Requirement already satisfied: torch==2.1.1 in /home/bast7594/.local/lib/python3.10/site-packages (from torchvision) (2.1.1)\n",
      "Requirement already satisfied: numpy in /home/bast7594/.local/lib/python3.10/site-packages (from torchvision) (1.26.2)\n",
      "Requirement already satisfied: nvidia-cusolver-cu12==11.4.5.107 in /home/bast7594/.local/lib/python3.10/site-packages (from torch==2.1.1->torchvision) (11.4.5.107)\n",
      "Requirement already satisfied: fsspec in /home/bast7594/.local/lib/python3.10/site-packages (from torch==2.1.1->torchvision) (2023.10.0)\n",
      "Requirement already satisfied: nvidia-cuda-nvrtc-cu12==12.1.105 in /home/bast7594/.local/lib/python3.10/site-packages (from torch==2.1.1->torchvision) (12.1.105)\n",
      "Requirement already satisfied: nvidia-cublas-cu12==12.1.3.1 in /home/bast7594/.local/lib/python3.10/site-packages (from torch==2.1.1->torchvision) (12.1.3.1)\n",
      "Requirement already satisfied: triton==2.1.0 in /home/bast7594/.local/lib/python3.10/site-packages (from torch==2.1.1->torchvision) (2.1.0)\n",
      "Requirement already satisfied: nvidia-cufft-cu12==11.0.2.54 in /home/bast7594/.local/lib/python3.10/site-packages (from torch==2.1.1->torchvision) (11.0.2.54)\n",
      "Requirement already satisfied: networkx in /home/bast7594/.local/lib/python3.10/site-packages (from torch==2.1.1->torchvision) (3.2.1)\n",
      "Requirement already satisfied: typing-extensions in /home/bast7594/.local/lib/python3.10/site-packages (from torch==2.1.1->torchvision) (4.8.0)\n",
      "Requirement already satisfied: sympy in /home/bast7594/.local/lib/python3.10/site-packages (from torch==2.1.1->torchvision) (1.12)\n",
      "Requirement already satisfied: nvidia-cusparse-cu12==12.1.0.106 in /home/bast7594/.local/lib/python3.10/site-packages (from torch==2.1.1->torchvision) (12.1.0.106)\n",
      "Requirement already satisfied: nvidia-nccl-cu12==2.18.1 in /home/bast7594/.local/lib/python3.10/site-packages (from torch==2.1.1->torchvision) (2.18.1)\n",
      "Requirement already satisfied: nvidia-cuda-cupti-cu12==12.1.105 in /home/bast7594/.local/lib/python3.10/site-packages (from torch==2.1.1->torchvision) (12.1.105)\n",
      "Requirement already satisfied: nvidia-nvtx-cu12==12.1.105 in /home/bast7594/.local/lib/python3.10/site-packages (from torch==2.1.1->torchvision) (12.1.105)\n",
      "Requirement already satisfied: nvidia-cuda-runtime-cu12==12.1.105 in /home/bast7594/.local/lib/python3.10/site-packages (from torch==2.1.1->torchvision) (12.1.105)\n",
      "Requirement already satisfied: nvidia-curand-cu12==10.3.2.106 in /home/bast7594/.local/lib/python3.10/site-packages (from torch==2.1.1->torchvision) (10.3.2.106)\n",
      "Requirement already satisfied: nvidia-cudnn-cu12==8.9.2.26 in /home/bast7594/.local/lib/python3.10/site-packages (from torch==2.1.1->torchvision) (8.9.2.26)\n",
      "Requirement already satisfied: filelock in /home/bast7594/.local/lib/python3.10/site-packages (from torch==2.1.1->torchvision) (3.13.1)\n",
      "Requirement already satisfied: jinja2 in /home/bast7594/.local/lib/python3.10/site-packages (from torch==2.1.1->torchvision) (3.1.2)\n",
      "Requirement already satisfied: nvidia-nvjitlink-cu12 in /home/bast7594/.local/lib/python3.10/site-packages (from nvidia-cusolver-cu12==11.4.5.107->torch==2.1.1->torchvision) (12.3.101)\n",
      "Requirement already satisfied: MarkupSafe>=2.0 in /usr/lib/python3/dist-packages (from jinja2->torch==2.1.1->torchvision) (2.0.1)\n",
      "Requirement already satisfied: mpmath>=0.19 in /home/bast7594/.local/lib/python3.10/site-packages (from sympy->torch==2.1.1->torchvision) (1.3.0)\n",
      "mkdir: impossible de créer le répertoire «models»: Le fichier existe\n",
      "mkdir: impossible de créer le répertoire «img»: Le fichier existe\n"
     ]
    }
   ],
   "source": [
    "! pip install gymnasium[\"accept-rom-license\"]\n",
    "! pip install gymnasium[\"atari\"]\n",
    "! pip install torch\n",
    "! pip install torchvision\n",
    "! mkdir models\n",
    "! mkdir img"
   ]
  },
  {
   "cell_type": "markdown",
   "id": "5b827cfc",
   "metadata": {
    "id": "R6RsUvhwom-z",
    "papermill": {
     "duration": 0.015261,
     "end_time": "2023-11-21T08:43:41.170551",
     "exception": false,
     "start_time": "2023-11-21T08:43:41.155290",
     "status": "completed"
    },
    "tags": []
   },
   "source": [
    "### <font color=\"#007700\">Présentation globale du projet</font>"
   ]
  },
  {
   "cell_type": "markdown",
   "id": "e3ec0bfd",
   "metadata": {
    "id": "NJtQe-8OO2_1",
    "papermill": {
     "duration": 0.015275,
     "end_time": "2023-11-21T08:43:41.201832",
     "exception": false,
     "start_time": "2023-11-21T08:43:41.186557",
     "status": "completed"
    },
    "tags": []
   },
   "source": [
    "### Objectifs du projet\n",
    "Après avoir étudié dans un cas simple (Jeu du Taxi) la notion de $Q_{value}$ essentielle dans le Reinforcement Learning nous allons mettre en place un algorithme d'apprentissage par renforcement basé sur les réseaux de neurones capable de jouer au Casse Brique d'Atari en maximisant ses gains. Deux réseaux de neurones seront implémentés et un comparatif de leurs performances sera réalisé."
   ]
  },
  {
   "cell_type": "markdown",
   "id": "1528f1ec",
   "metadata": {
    "id": "mdognuOSOxDy",
    "papermill": {
     "duration": 0.01532,
     "end_time": "2023-11-21T08:43:41.232806",
     "exception": false,
     "start_time": "2023-11-21T08:43:41.217486",
     "status": "completed"
    },
    "tags": []
   },
   "source": [
    "### Algorithme principal"
   ]
  },
  {
   "cell_type": "markdown",
   "id": "9571eca9",
   "metadata": {
    "id": "Zs_C95Ewndez",
    "papermill": {
     "duration": 0.016042,
     "end_time": "2023-11-21T08:43:41.264290",
     "exception": false,
     "start_time": "2023-11-21T08:43:41.248248",
     "status": "completed"
    },
    "tags": []
   },
   "source": [
    "L'algorithme de l'agent va être quelque peu différent de ceux vus dans les tavaux précédents (Sarsa, Qlearning). Plusieurs éléments vont compléxifier la tâche:\n",
    "- Les états sont sous formes de sucession d'images de taille $(210,160,3)$ et non plus sous forme numérique.\n",
    "- La fonction $Q(s,a)$ va faire intervenir un réseaux de neurones $\\theta$ qui devra être entraîné.\n",
    "- Les anciennes expériences devront être stockées dans le but de donner une vérité terrain pour l'entrainement du réseau."
   ]
  },
  {
   "cell_type": "markdown",
   "id": "4fe979cd",
   "metadata": {
    "id": "QTVHA36NPEcA",
    "papermill": {
     "duration": 0.015286,
     "end_time": "2023-11-21T08:43:41.295742",
     "exception": false,
     "start_time": "2023-11-21T08:43:41.280456",
     "status": "completed"
    },
    "tags": []
   },
   "source": [
    "#### Pseudo code de l'algorithme"
   ]
  },
  {
   "cell_type": "markdown",
   "id": "99dfa379",
   "metadata": {
    "id": "mgyJ9MDNo04q",
    "papermill": {
     "duration": 0.015754,
     "end_time": "2023-11-21T08:43:41.327063",
     "exception": false,
     "start_time": "2023-11-21T08:43:41.311309",
     "status": "completed"
    },
    "tags": []
   },
   "source": [
    "Le pseudo-code de l'algorithme ci-dessous provient de la publication"
   ]
  },
  {
   "cell_type": "markdown",
   "id": "869b5517",
   "metadata": {
    "id": "QX8se4unQDDr",
    "papermill": {
     "duration": 0.015769,
     "end_time": "2023-11-21T08:43:41.358502",
     "exception": false,
     "start_time": "2023-11-21T08:43:41.342733",
     "status": "completed"
    },
    "tags": []
   },
   "source": [
    "\n",
    "$\\text{Algorithme de Q-Leearning profond avec répétition d'expérience}$\n",
    "1. **Initialisation:**\n",
    "   - Initialiser le réseau de neurones $Q$ avec des poids aléatoires.\n",
    "   - Initialiser la mémoire de relecture $D$ avec capacité maximale $N$.\n",
    "   - Initialiser aléatoirement les paramètres d'apprentissage.\n",
    "   - Initialiser la fonction $Q$ avec des $\\theta$ aléatoire.\n",
    "   - Initialiser $\\hat{Q}$ avec $\\theta^⁻ = \\theta$.\n",
    "\n",
    "2. **Pour chaque épisode:**\n",
    "   - Initialiser l'environnement et l'état initial $s_1=\\{x_1\\}$\n",
    "   - Appliquer le prétraitement $\\phi_1 = \\phi(s_1)$\n",
    "   \n",
    "   3. **Pour chaque étape $t$ de l'épisode:**\n",
    "      - Choisir l'action $a_t$ avec la politique $\\varepsilon$-greedy\n",
    "        - $\\mathbb{P}(a_t = argmax_a(Q(s_t,a;\\theta)) = 1 - \\varepsilon$\n",
    "        - $\\mathbb{P}(a_t = \\text{random\\_sample(}A)) = \\varepsilon$\n",
    "      - Exécuter l'action $a_t$, observer la récompense $r_t$ et l'état suivant $s_{t+1}$\n",
    "      - Stocker la transition $(s_t, a_t, r_{t}, s_{t+1})$ dans la mémoire de relecture $D$\n",
    "      - Affecter $s_{t+1}=s_t,a_t,x_{t+1}$\n",
    "      - Prétraitement de $s_{t+1}$ : $\\phi_{t+1}=\\phi(s_{t+1})$\n",
    "      - Échantillonner un lot aléatoire de transitions $(s_i, a_i, r_i, s_{i+1})$ de $D$\n",
    "      - Calculer la vérité terrain $y_i$ pour chaque transition $(s_i, a_i, r_i, s_{i+1})$ en utilisant le réseau $\\hat{Q}$ aux paramètre $\\theta^-$\n",
    "      - Cloner $Q$ dans $\\hat{Q}$ toutes les $C$ étapes\n",
    "      \n"
   ]
  },
  {
   "cell_type": "markdown",
   "id": "afb4d95d",
   "metadata": {
    "id": "9Se6OPbaO_cU",
    "papermill": {
     "duration": 0.015859,
     "end_time": "2023-11-21T08:43:41.390050",
     "exception": false,
     "start_time": "2023-11-21T08:43:41.374191",
     "status": "completed"
    },
    "tags": []
   },
   "source": [
    "#### Détails des variables\n",
    "- $Q$ : Fonction de qualité qui pour un couple état-action évalue à quel point une action dans un état donné est favorable.\n",
    "- $C$ : Nombre d'étapes à laquelle $\\hat{Q}$ se met à jour sur $Q$.\n",
    "- $\\hat{Q}$ : Target Network , il correspond à une version ancienne de $Q$ avec des paramètres $\\theta^-$ sur les $C$ dernières étapes.\n",
    "- $\\theta$ : Correspond aux paramètres du réseau de neurones.\n",
    "- ${A}$ : L'ensemble des actions possibles.\n",
    "- $a_t$ : L'action faite par l'agent à l'étape $t$.\n",
    "- $x_t$ : Correspond à l'image brut du jeu à l'étape $t$.\n",
    "- $s_t$ : Correspond à une séquence de couples action-image $\\{a_i \\times x_i\\}_{i\\lt t}$ .\n",
    "- $\\phi_t$ : Correspond au pré-traitement de l'état $s_t$ (Plus de détails dans la suite du notebook).\n",
    "- $\\varepsilon \\in [0,1]$ : Probabilité de choisir une action aléatoire.\n",
    "- $r_t$ : Récompense obtenue par la réalisation de l'action $a_t$ à l'instant $s_t$\n",
    "- $D$ : Mémoire de relecture.\n",
    "- $N$ : Nombre de simulations."
   ]
  },
  {
   "cell_type": "markdown",
   "id": "99eb95d0",
   "metadata": {
    "id": "mWhORuoko1v4",
    "papermill": {
     "duration": 0.015357,
     "end_time": "2023-11-21T08:43:41.420938",
     "exception": false,
     "start_time": "2023-11-21T08:43:41.405581",
     "status": "completed"
    },
    "tags": []
   },
   "source": [
    "### <font color=\"#007700\">Démarche de recherche et implémentation</font>"
   ]
  },
  {
   "cell_type": "markdown",
   "metadata": {},
   "source": [
    "La démarche est la suivante: \n",
    "\n",
    "- Gestion du traitement des états.\n",
    "- Elaboration des modèles.\n",
    "- Gestion du stockage des expériences réalisés.\n",
    "- Implémentation de l'agent\n",
    "- Entrainement de l'agent\n",
    "- Observation et Interprétation des résultats."
   ]
  },
  {
   "cell_type": "code",
   "execution_count": 4,
   "id": "a8c4aaa5",
   "metadata": {
    "execution": {
     "iopub.execute_input": "2023-11-21T08:43:41.454566Z",
     "iopub.status.busy": "2023-11-21T08:43:41.454119Z",
     "iopub.status.idle": "2023-11-21T08:43:42.428313Z",
     "shell.execute_reply": "2023-11-21T08:43:42.427356Z"
    },
    "papermill": {
     "duration": 0.994233,
     "end_time": "2023-11-21T08:43:42.430919",
     "exception": false,
     "start_time": "2023-11-21T08:43:41.436686",
     "status": "completed"
    },
    "tags": []
   },
   "outputs": [],
   "source": [
    "import gymnasium\n",
    "if gymnasium.envs.registration.registry.get('ALE/Breakout-v5') is None:\n",
    "    import gym\n",
    "else:\n",
    "    import gymnasium as gym"
   ]
  },
  {
   "cell_type": "code",
   "execution_count": 5,
   "id": "04918bb3",
   "metadata": {
    "execution": {
     "iopub.execute_input": "2023-11-21T08:43:42.464091Z",
     "iopub.status.busy": "2023-11-21T08:43:42.463637Z",
     "iopub.status.idle": "2023-11-21T08:43:47.069717Z",
     "shell.execute_reply": "2023-11-21T08:43:47.068358Z"
    },
    "id": "6MpkCLnpoSIw",
    "outputId": "ec7dcbf7-c456-4383-85d5-6949e51f5109",
    "papermill": {
     "duration": 4.626259,
     "end_time": "2023-11-21T08:43:47.072659",
     "exception": false,
     "start_time": "2023-11-21T08:43:42.446400",
     "status": "completed"
    },
    "tags": []
   },
   "outputs": [],
   "source": [
    "# Importation pour la création des réseaux de neurones\n",
    "from torch import nn\n",
    "import torch\n",
    "import torchvision.transforms as transforms\n",
    "import pandas as pd\n",
    "import matplotlib.pyplot as plt\n",
    "import numpy as np\n",
    "import random\n",
    "import copy\n",
    "import os\n",
    "from time import time\n",
    "from collections import namedtuple\n",
    "# Librairie dédiée à la création des gif finaux\n",
    "from PIL import Image\n",
    "IMG_DIR = 'img'\n",
    "MODEL_DIR = 'models'"
   ]
  },
  {
   "cell_type": "markdown",
   "id": "b76f8b47",
   "metadata": {
    "id": "Q78gPWyCXSAQ",
    "papermill": {
     "duration": 0.01549,
     "end_time": "2023-11-21T08:43:47.103849",
     "exception": false,
     "start_time": "2023-11-21T08:43:47.088359",
     "status": "completed"
    },
    "tags": []
   },
   "source": [
    "### Prétraitement des données"
   ]
  },
  {
   "cell_type": "markdown",
   "id": "5a72449f",
   "metadata": {
    "id": "sXcCJXtob6NO",
    "papermill": {
     "duration": 0.016311,
     "end_time": "2023-11-21T08:43:47.135844",
     "exception": false,
     "start_time": "2023-11-21T08:43:47.119533",
     "status": "completed"
    },
    "tags": []
   },
   "source": [
    "Le prétraitement des données se justifie par le fait que l'entrainement des des réseaux de neurones nécessite d'enregistrer les états précédents. Les états correspondent ici à une séquence d'image du jeux sous frome de tableau de dimension $\\text{(hauteur,largeur,taille de séquence)}$. Afin de réduire le coût en mémoire il faut réduire la taille de chaque état en les prétraitant et en conservant l'information. L'interface du casse-brique d'Atari est très pixelisée et redondante en termes de couleurs, il est donc possible de pouvoir faire une réduction de dimension au niveau de la couleur et de la taille de l'image."
   ]
  },
  {
   "cell_type": "code",
   "execution_count": 6,
   "id": "001ec69b",
   "metadata": {
    "execution": {
     "iopub.execute_input": "2023-11-21T08:43:47.170120Z",
     "iopub.status.busy": "2023-11-21T08:43:47.168877Z",
     "iopub.status.idle": "2023-11-21T08:43:47.175080Z",
     "shell.execute_reply": "2023-11-21T08:43:47.174163Z"
    },
    "id": "vvsrhD0sQxqC",
    "papermill": {
     "duration": 0.025937,
     "end_time": "2023-11-21T08:43:47.177301",
     "exception": false,
     "start_time": "2023-11-21T08:43:47.151364",
     "status": "completed"
    },
    "tags": []
   },
   "outputs": [],
   "source": [
    "def preprocess_image(img_array:np.array) -> np.array :\n",
    "  transform = transforms.Compose([\n",
    "      transforms.ToPILImage(),\n",
    "      transforms.Resize((84, 84)),\n",
    "      transforms.Grayscale(num_output_channels=1),\n",
    "      transforms.ToTensor()])\n",
    "  return transform(img_array)\n"
   ]
  },
  {
   "cell_type": "markdown",
   "id": "dfdb2aa7",
   "metadata": {
    "id": "I6UE9iZUfVl6",
    "papermill": {
     "duration": 0.015863,
     "end_time": "2023-11-21T08:43:47.209092",
     "exception": false,
     "start_time": "2023-11-21T08:43:47.193229",
     "status": "completed"
    },
    "tags": []
   },
   "source": [
    "Ainsi l'image passera d'une shape $(210,160,3)$ à une shape $(84,84,1)$ réduisant considérablement la taille."
   ]
  },
  {
   "cell_type": "code",
   "execution_count": 7,
   "id": "87c06034",
   "metadata": {
    "execution": {
     "iopub.execute_input": "2023-11-21T08:43:47.242709Z",
     "iopub.status.busy": "2023-11-21T08:43:47.241961Z",
     "iopub.status.idle": "2023-11-21T08:43:48.049974Z",
     "shell.execute_reply": "2023-11-21T08:43:48.048720Z"
    },
    "id": "60aiphhbXCe_",
    "outputId": "09053a52-58b0-4858-f8fc-db3452414bdc",
    "papermill": {
     "duration": 0.828481,
     "end_time": "2023-11-21T08:43:48.053196",
     "exception": false,
     "start_time": "2023-11-21T08:43:47.224715",
     "status": "completed"
    },
    "tags": []
   },
   "outputs": [
    {
     "name": "stdout",
     "output_type": "stream",
     "text": [
      "(0.0, False, False, {'lives': 5, 'episode_frame_number': 4, 'frame_number': 4})\n",
      "new_img.size() = torch.Size([1, 84, 84])\n"
     ]
    },
    {
     "name": "stderr",
     "output_type": "stream",
     "text": [
      "A.L.E: Arcade Learning Environment (version 0.8.1+53f58b7)\n",
      "[Powered by Stella]\n"
     ]
    },
    {
     "data": {
      "text/plain": [
       "<matplotlib.image.AxesImage at 0x7fbce11c00d0>"
      ]
     },
     "execution_count": 7,
     "metadata": {},
     "output_type": "execute_result"
    },
    {
     "data": {
      "image/png": "[encoded data removed]",
      "text/plain": [
       "<Figure size 640x480 with 2 Axes>"
      ]
     },
     "metadata": {},
     "output_type": "display_data"
    }
   ],
   "source": [
    "env = gym.make('ALE/Breakout-v5', render_mode=\"rgb_array\")\n",
    "state_img = env.reset()[0]\n",
    "print(env.step(1)[1:])\n",
    "fig,axes = plt.subplots(1,2)\n",
    "fig.suptitle('Images comparison')\n",
    "axes[0].set_title('Original image')\n",
    "axes[0].imshow(state_img)\n",
    "axes[0].axis('off')\n",
    "new_img = preprocess_image(state_img)\n",
    "print(f'{new_img.size() = }')\n",
    "axes[1].axis('off')\n",
    "axes[1].set_title('Preprocessed image')\n",
    "axes[1].imshow(new_img.permute(1,2,0))"
   ]
  },
  {
   "cell_type": "code",
   "execution_count": 8,
   "id": "7c467a14",
   "metadata": {
    "execution": {
     "iopub.execute_input": "2023-11-21T08:43:48.153207Z",
     "iopub.status.busy": "2023-11-21T08:43:48.152803Z",
     "iopub.status.idle": "2023-11-21T08:43:48.159678Z",
     "shell.execute_reply": "2023-11-21T08:43:48.158336Z"
    },
    "id": "Uj5w4MoD3dxR",
    "papermill": {
     "duration": 0.028008,
     "end_time": "2023-11-21T08:43:48.162556",
     "exception": false,
     "start_time": "2023-11-21T08:43:48.134548",
     "status": "completed"
    },
    "tags": []
   },
   "outputs": [],
   "source": [
    "Input = namedtuple('input', ('height', 'width', 'n_action'))\n",
    "\n",
    "def get_input_shapes(env:gym.Env):\n",
    "  env_tensor = np.zeros(env.observation_space.shape,dtype=np.uint8)\n",
    "  x = preprocess_image(env_tensor)\n",
    "  _,height, width = x.shape\n",
    "  n_action=env.action_space.n\n",
    "  return Input(height,width,n_action)\n"
   ]
  },
  {
   "cell_type": "markdown",
   "id": "75b1428c",
   "metadata": {
    "id": "sotZRDhx4Mc8",
    "papermill": {
     "duration": 0.016238,
     "end_time": "2023-11-21T08:43:48.195530",
     "exception": false,
     "start_time": "2023-11-21T08:43:48.179292",
     "status": "completed"
    },
    "tags": []
   },
   "source": [
    "Il faut ensuite pouvoir faire en sorte que chaque état corresponde à un séquence d'images réduites du jeu. Nous allons donc créer la classe `StateGenerator`"
   ]
  },
  {
   "cell_type": "code",
   "execution_count": 297,
   "id": "7588fa79",
   "metadata": {
    "execution": {
     "iopub.execute_input": "2023-11-21T08:43:48.231041Z",
     "iopub.status.busy": "2023-11-21T08:43:48.230123Z",
     "iopub.status.idle": "2023-11-21T08:43:48.243128Z",
     "shell.execute_reply": "2023-11-21T08:43:48.241869Z"
    },
    "id": "ecO981RXCLVj",
    "outputId": "5cba5934-921d-4981-f7e2-0ac853487db8",
    "papermill": {
     "duration": 0.033533,
     "end_time": "2023-11-21T08:43:48.245620",
     "exception": false,
     "start_time": "2023-11-21T08:43:48.212087",
     "status": "completed"
    },
    "tags": []
   },
   "outputs": [],
   "source": [
    "Action = int\n",
    "from collections import deque\n",
    "class StateGenerator():\n",
    "  def __init__(self,env:gym.Env,seq_len:int, save_frames:bool=True):\n",
    "    self.env = env\n",
    "    env_tensor = np.zeros(env.observation_space.shape,dtype=np.uint8)\n",
    "    x = preprocess_image(env_tensor)\n",
    "    _,height, width = x.shape\n",
    "    n_action=env.action_space.n\n",
    "    self.seq_len = seq_len\n",
    "    self.stack = torch.zeros(seq_len,height,width)\n",
    "    self.current_frame = np.ndarray(shape=(height,width,1))\n",
    "    self.frames_buffer = []\n",
    "    self.save_frames = save_frames\n",
    "\n",
    "  def init_env(self):\n",
    "    self.current_frame  = self.env.reset()[0]\n",
    "    state = preprocess_image(self.current_frame)\n",
    "    self.stack[:] =state\n",
    "    if self.frames_buffer:\n",
    "      del self.frames_buffer\n",
    "    if self.save_frames:\n",
    "      self.frames_buffer = [self.current_frame]\n",
    "    return self.stack, self.current_frame\n",
    "\n",
    "  def make_action(self,action:Action):\n",
    "    next_state,reward,truncated, terminated,info =self.env.step(action)\n",
    "    self.current_frame = next_state\n",
    "    next_state = preprocess_image(next_state)\n",
    "    done = truncated or terminated\n",
    "    self._update_stack(next_state)\n",
    "    if self.save_frames:\n",
    "      self.frames_buffer.append(self.current_frame)\n",
    "    return self.stack,reward, done, info, self.current_frame\n",
    "\n",
    "  def _update_stack(self, new_state: torch.Tensor):\n",
    "        self.stack[:-1] = self.stack[1:].clone()\n",
    "        self.stack[-1] = new_state\n",
    "        \n",
    "  def plot_stack(self):\n",
    "    if self.stack is None:\n",
    "      raise Exception('You must initialize the stack first')\n",
    "    fig,axes = plt.subplots(1,self.seq_len)\n",
    "    fig.suptitle('Stack images')\n",
    "    for i,ax in enumerate(axes):\n",
    "      elem_as_img = state_generator.stack[i].unsqueeze(0).permute(1,2,0).numpy()\n",
    "      ax.imshow(elem_as_img,cmap='gray')\n",
    "      ax.axis('off')\n",
    "\n",
    "  def generat_gif(self,output_file:str):\n",
    "    if not self.save_frames:\n",
    "      raise Exception('You must set save_frames to True to generate a gif')\n",
    "    frames = [Image.fromarray(f, mode='RGB') for f in self.frames_buffer]\n",
    "    frames[0].save(output_file, format='GIF', append_images=frames[1:], save_all=True, duration=10, loop=0)\n",
    "    print(f'Saving {output_file}')\n",
    "    \n",
    "\n",
    "  def reset_stack(self):\n",
    "    self.stack = torch.zeros(self.seq_len, 1, *self.stack.shape[2:])\n",
    "  \n",
    "  def reset_frames_buffer(self):\n",
    "    del self.frames_buffer\n",
    "    self.frames_buffer = []\n"
   ]
  },
  {
   "cell_type": "code",
   "execution_count": 10,
   "metadata": {},
   "outputs": [
    {
     "name": "stdout",
     "output_type": "stream",
     "text": [
      "Saving img/test.gif\n"
     ]
    }
   ],
   "source": [
    "env = gym.make('ALE/Breakout-v5', render_mode=\"rgb_array\")\n",
    "sg = StateGenerator(env,5)\n",
    "sg.init_env()\n",
    "for i in range(500):\n",
    "    action = env.action_space.sample()\n",
    "    sg.make_action(action)\n",
    "\n",
    "sg.generat_gif(os.path.join(IMG_DIR,'test.gif'))\n",
    "sg.reset_stack()\n",
    "sg.reset_frames_buffer()"
   ]
  },
  {
   "cell_type": "markdown",
   "metadata": {},
   "source": [
    "![gif](./test.gif)"
   ]
  },
  {
   "cell_type": "markdown",
   "id": "220e710b",
   "metadata": {
    "id": "0A1YB793pFc2",
    "papermill": {
     "duration": 0.016472,
     "end_time": "2023-11-21T08:43:48.279789",
     "exception": false,
     "start_time": "2023-11-21T08:43:48.263317",
     "status": "completed"
    },
    "tags": []
   },
   "source": [
    "### <font >Elaboration de modèles de de DQN\n",
    "\n",
    "Ici deux modèles vont être implémentés pour étudier quelle est la stratégie la plus adaptée."
   ]
  },
  {
   "cell_type": "markdown",
   "id": "60e02857",
   "metadata": {
    "id": "FxrkcKgrgGX5",
    "papermill": {
     "duration": 0.016549,
     "end_time": "2023-11-21T08:43:48.313020",
     "exception": false,
     "start_time": "2023-11-21T08:43:48.296471",
     "status": "completed"
    },
    "tags": []
   },
   "source": [
    "#### DQN simple\n",
    "\n",
    "Le premier dispose de 3 couches de convolutions et d'une couche linaire. Le tenseur de sorti correspond aux Q values de chaque action."
   ]
  },
  {
   "cell_type": "code",
   "execution_count": 304,
   "id": "f71a2c52",
   "metadata": {
    "execution": {
     "iopub.execute_input": "2023-11-21T08:43:48.349660Z",
     "iopub.status.busy": "2023-11-21T08:43:48.348869Z",
     "iopub.status.idle": "2023-11-21T08:43:48.362225Z",
     "shell.execute_reply": "2023-11-21T08:43:48.360620Z"
    },
    "id": "G823PH_jIctd",
    "outputId": "f6fc310e-80d7-471a-e819-064b6e0a5ee2",
    "papermill": {
     "duration": 0.035016,
     "end_time": "2023-11-21T08:43:48.365128",
     "exception": false,
     "start_time": "2023-11-21T08:43:48.330112",
     "status": "completed"
    },
    "tags": []
   },
   "outputs": [],
   "source": [
    "class DQN(nn.Module):\n",
    "    def __init__(self, n_action, height, width,seq_len=1 ,linear_size=1024, model_name=None,):\n",
    "        super(DQN, self).__init__()\n",
    "        self.input_dimension = seq_len, height, width\n",
    "        self.conv1 = nn.Conv2d(in_channels=seq_len, out_channels=32, kernel_size=3, stride=1)\n",
    "        self.relu1 = nn.ReLU()\n",
    "        self.conv2 = nn.Conv2d(32, 32, kernel_size=3, stride=2, padding=1)\n",
    "        self.relu2 = nn.ReLU()\n",
    "        self.conv3 = nn.Conv2d(32, 32, kernel_size=3, stride=1, padding=1)\n",
    "        self.relu3 = nn.ReLU()\n",
    "\n",
    "        x0 = torch.zeros(1, seq_len, height, width)\n",
    "        x0 = self.convolute(x0)\n",
    "        x0 = self.flatten(x0)\n",
    "        flatten_dim = x0.shape[1]\n",
    "\n",
    "        self.linear1 = nn.Linear(flatten_dim, linear_size)\n",
    "        self.relu4 = nn.ReLU()\n",
    "        self.linear2 = nn.Linear(linear_size, n_action)\n",
    "\n",
    "    def flatten(self, x):\n",
    "        return x.view(x.shape[0], -1)\n",
    "\n",
    "    def convolute(self,x):\n",
    "      x = self.conv1(x)\n",
    "      x = self.relu1(x)\n",
    "      x = self.conv2(x)\n",
    "      x = self.relu2(x)\n",
    "      x = self.conv3(x)\n",
    "      x = self.relu3(x)\n",
    "      return x\n",
    "\n",
    "    def forward(self, x):\n",
    "      x = self.convolute(x)\n",
    "\n",
    "      x = self.flatten(x)\n",
    "\n",
    "      x = self.linear1(x)\n",
    "      x = self.relu4(x)\n",
    "      return self.linear2(x)"
   ]
  },
  {
   "cell_type": "markdown",
   "id": "f79452c1",
   "metadata": {
    "id": "J8rKs2lx6yG1",
    "papermill": {
     "duration": 0.016617,
     "end_time": "2023-11-21T08:43:48.398629",
     "exception": false,
     "start_time": "2023-11-21T08:43:48.382012",
     "status": "completed"
    },
    "tags": []
   },
   "source": [
    "Le second est un  dueling network, il décompose la valeur d'action en deux parties: la valeur de l'état (à quel point l'état actuel est cool) et l'avantage de l'action (à quel point choisir cette action par rapport aux autres est cool). Cela permet au réseau de mieux comprendre ce qui se passe dans le jeu et d'apprendre de manière plus efficace."
   ]
  },
  {
   "cell_type": "code",
   "execution_count": 305,
   "id": "4056d7f4",
   "metadata": {
    "execution": {
     "iopub.execute_input": "2023-11-21T08:43:48.435268Z",
     "iopub.status.busy": "2023-11-21T08:43:48.434825Z",
     "iopub.status.idle": "2023-11-21T08:43:48.448154Z",
     "shell.execute_reply": "2023-11-21T08:43:48.447176Z"
    },
    "id": "ST4yINSA3j76",
    "papermill": {
     "duration": 0.033959,
     "end_time": "2023-11-21T08:43:48.450488",
     "exception": false,
     "start_time": "2023-11-21T08:43:48.416529",
     "status": "completed"
    },
    "tags": []
   },
   "outputs": [],
   "source": [
    "\n",
    "\n",
    "class DuellingDQN(nn.Module):\n",
    "    def __init__(self, n_action, height, width, seq_len =1,linear_size=1024, model_name=None):\n",
    "        super(DuellingDQN, self).__init__()\n",
    "        self.input_dimension = seq_len, height, width\n",
    "        self.model_name = model_name\n",
    "        self.conv1 = nn.Conv2d(in_channels=self.input_dimension[0], out_channels=64, kernel_size=8, stride=4)\n",
    "        self.relu1 = nn.ReLU()\n",
    "        self.conv2 = nn.Conv2d(64, 64, kernel_size=4, stride=2, padding=1)\n",
    "        self.relu2 = nn.ReLU()\n",
    "        self.conv3 = nn.Conv2d(64, 64, kernel_size=3, stride=1, padding=1)\n",
    "        self.relu3 = nn.ReLU()\n",
    "\n",
    "        x0 = torch.zeros(1, seq_len, height, width)\n",
    "        x0 = self.convolute(x0)\n",
    "        x0 = self.flatten(x0)\n",
    "        flatten_dim = x0.shape[1]\n",
    "        self.value = nn.Linear(flatten_dim,1)\n",
    "        self.advantage = nn.Linear(flatten_dim,n_action)\n",
    "\n",
    "\n",
    "\n",
    "    def flatten(self, x):\n",
    "        return x.view(x.shape[0], -1)\n",
    "\n",
    "    def convolute(self,x):\n",
    "      x = self.conv1(x)\n",
    "      x = self.relu1(x)\n",
    "      x = self.conv2(x)\n",
    "      x = self.relu2(x)\n",
    "      x = self.conv3(x)\n",
    "      x = self.relu3(x)\n",
    "      return x\n",
    "\n",
    "    def forward(self, x):\n",
    "      x = self.convolute(x)\n",
    "      x = self.flatten(x)\n",
    "      value = self.value(x)\n",
    "      advantage = self.advantage(x)\n",
    "      q_value = value + (advantage - advantage.mean(dim=1,keepdim=True))\n",
    "      return q_value"
   ]
  },
  {
   "cell_type": "markdown",
   "id": "7f733712",
   "metadata": {
    "id": "bfOjRVyt_TRz",
    "papermill": {
     "duration": 0.017077,
     "end_time": "2023-11-21T08:43:48.484358",
     "exception": false,
     "start_time": "2023-11-21T08:43:48.467281",
     "status": "completed"
    },
    "tags": []
   },
   "source": [
    "Vérifions l'homogénéité des shapes d'entrée et de sortie"
   ]
  },
  {
   "cell_type": "code",
   "execution_count": 272,
   "id": "f23e1b5a",
   "metadata": {
    "execution": {
     "iopub.execute_input": "2023-11-21T08:43:48.521928Z",
     "iopub.status.busy": "2023-11-21T08:43:48.521203Z",
     "iopub.status.idle": "2023-11-21T08:43:48.989043Z",
     "shell.execute_reply": "2023-11-21T08:43:48.988147Z"
    },
    "id": "bHL5liwk-X3B",
    "outputId": "2c29616f-bf30-46ff-d98c-9987a59c6617",
    "papermill": {
     "duration": 0.490008,
     "end_time": "2023-11-21T08:43:48.991608",
     "exception": false,
     "start_time": "2023-11-21T08:43:48.501600",
     "status": "completed"
    },
    "tags": []
   },
   "outputs": [
    {
     "name": "stdout",
     "output_type": "stream",
     "text": [
      "Input shape: torch.Size([1, 5, 84, 84])\n",
      "Les shapes de sortie du modèle sont cohérentes.\n",
      "torch.Size([1, 4])\n",
      "Input shape: torch.Size([1, 5, 84, 84])\n",
      "Les shapes de sortie du modèle sont cohérentes.\n",
      "torch.Size([1, 4])\n"
     ]
    }
   ],
   "source": [
    "state_generator = StateGenerator(env,5)\n",
    "input_data = get_input_shapes(env)\n",
    "seq_len = 5\n",
    "dqn = DQN(input_data.n_action,input_data.height,input_data.width,seq_len=seq_len)\n",
    "duelling_dqn = DuellingDQN(input_data.n_action,input_data.height,input_data.width,seq_len=seq_len)\n",
    "\n",
    "x = state_generator.init_env()[0]\n",
    "x = x.unsqueeze(0)\n",
    "\n",
    "for model in [dqn, duelling_dqn]:\n",
    "  print(f'Input shape: {x.size()}')\n",
    "  output = model(x)\n",
    "  assert output.size(1) == env.action_space.n, print(f'{output.size(1)} != {env.action_space.n}')\n",
    "  print(\"Les shapes de sortie du modèle sont cohérentes.\")\n",
    "  print(f'{output.size()}')"
   ]
  },
  {
   "cell_type": "markdown",
   "id": "5f29af83",
   "metadata": {
    "id": "GkoNo8z40ulV",
    "papermill": {
     "duration": 0.01746,
     "end_time": "2023-11-21T08:43:49.027160",
     "exception": false,
     "start_time": "2023-11-21T08:43:49.009700",
     "status": "completed"
    },
    "tags": []
   },
   "source": [
    "### Gestion de la mémoire des expériences"
   ]
  },
  {
   "cell_type": "markdown",
   "id": "0c4e8094",
   "metadata": {
    "id": "y_hG3WCN7nBT",
    "papermill": {
     "duration": 0.017169,
     "end_time": "2023-11-21T08:43:49.062211",
     "exception": false,
     "start_time": "2023-11-21T08:43:49.045042",
     "status": "completed"
    },
    "tags": []
   },
   "source": [
    "Le but est de stocker les états précédents afin de permettre un meilleur apprentissage des Q values. Nous allons donc créer la classe `ExpStack`, qui génèrera des batchs aléatoires. La taille d'une telle structure est plafonnée afin d'éviter que la mémoire ne sature."
   ]
  },
  {
   "cell_type": "code",
   "execution_count": 306,
   "id": "fd69d183",
   "metadata": {
    "execution": {
     "iopub.execute_input": "2023-11-21T08:43:49.104840Z",
     "iopub.status.busy": "2023-11-21T08:43:49.104010Z",
     "iopub.status.idle": "2023-11-21T08:43:49.109798Z",
     "shell.execute_reply": "2023-11-21T08:43:49.108863Z"
    },
    "id": "-EEcI22jgs3u",
    "papermill": {
     "duration": 0.030181,
     "end_time": "2023-11-21T08:43:49.112620",
     "exception": false,
     "start_time": "2023-11-21T08:43:49.082439",
     "status": "completed"
    },
    "tags": []
   },
   "outputs": [],
   "source": [
    "GameTransition = namedtuple('game_transition', ('initial_state', 'action', 'reward','next_state', 'done'))"
   ]
  },
  {
   "cell_type": "code",
   "execution_count": 307,
   "id": "327f02b7",
   "metadata": {
    "execution": {
     "iopub.execute_input": "2023-11-21T08:43:49.148665Z",
     "iopub.status.busy": "2023-11-21T08:43:49.148229Z",
     "iopub.status.idle": "2023-11-21T08:43:49.161972Z",
     "shell.execute_reply": "2023-11-21T08:43:49.160943Z"
    },
    "id": "tsLFma1J00XQ",
    "outputId": "6fa7d2da-d097-4280-8af8-f1afc78979e4",
    "papermill": {
     "duration": 0.034654,
     "end_time": "2023-11-21T08:43:49.164361",
     "exception": false,
     "start_time": "2023-11-21T08:43:49.129707",
     "status": "completed"
    },
    "tags": []
   },
   "outputs": [],
   "source": [
    "class ExpStack(): # D\n",
    "  def __init__(self, max_size:int, seq_len:int = 4):\n",
    "    self.transitions = []\n",
    "    self.max_size = max_size # N\n",
    "    self.index = 0\n",
    "    self.seq_len = seq_len\n",
    "\n",
    "  def enqueue(self,transition:GameTransition):\n",
    "    if (len(self.transitions) < self.max_size):\n",
    "      self.transitions.append(transition)\n",
    "    else:\n",
    "      self.transitions[self.index] = transition\n",
    "    self.index +=1\n",
    "    self.index = self.index % self.max_size\n",
    "\n",
    "  def get_experiences(self,nb_exp=1):\n",
    "    return random.sample(self.transitions, nb_exp)\n",
    "\n",
    "  def __len__(self):\n",
    "    return len(self.transitions)\n",
    "\n",
    "  def __getitem__(self,index):\n",
    "    return self.transitions[index]\n",
    "\n",
    "  def sample_minibatch(self,batch_size:int=32):\n",
    "    if (batch_size>len(self)):\n",
    "      return self.transitions\n",
    "\n",
    "    return random.sample(self.transitions, batch_size)\n",
    "\n",
    "  def tensor_batch(self,batch_size):\n",
    "    batch = random.sample(self.transitions, batch_size)\n",
    "    batch = GameTransition(*(zip(*batch)))\n",
    "    initial_state = torch.stack(batch.initial_state)\n",
    "\n",
    "    next_state = torch.stack(batch.next_state)\n",
    "\n",
    "    reward = torch.tensor(batch.reward)\n",
    "    reward = reward.unsqueeze(1)\n",
    "\n",
    "    done = torch.tensor(batch.done).float()\n",
    "    done = done.unsqueeze(1)\n",
    "\n",
    "    action = torch.tensor(batch.action)\n",
    "    action = action.unsqueeze(1)\n",
    "\n",
    "    return GameTransition(initial_state,action,reward,next_state,done)\n"
   ]
  },
  {
   "cell_type": "markdown",
   "id": "298fa8be",
   "metadata": {
    "id": "sYoZhQMapgsH",
    "papermill": {
     "duration": 0.017076,
     "end_time": "2023-11-21T08:43:49.198553",
     "exception": false,
     "start_time": "2023-11-21T08:43:49.181477",
     "status": "completed"
    },
    "tags": []
   },
   "source": [
    "### Lancement du modèle sur l'algorithme **\"deep Q-learning with experience replay.\"** issu de l'article"
   ]
  },
  {
   "cell_type": "markdown",
   "id": "bf9fc858",
   "metadata": {
    "id": "8LU2or0X8Isq",
    "papermill": {
     "duration": 0.016439,
     "end_time": "2023-11-21T08:43:49.232011",
     "exception": false,
     "start_time": "2023-11-21T08:43:49.215572",
     "status": "completed"
    },
    "tags": []
   },
   "source": [
    "#### Implémentation de l'Agent\n",
    "\n",
    "Nous allons créer la classe `DQNAgent` qui va pouvoir entraîner un modèle et mettre à jour $\\hat{Q}$."
   ]
  },
  {
   "cell_type": "code",
   "execution_count": 170,
   "id": "cdc38c7c",
   "metadata": {
    "execution": {
     "iopub.execute_input": "2023-11-21T08:43:49.267805Z",
     "iopub.status.busy": "2023-11-21T08:43:49.267145Z",
     "iopub.status.idle": "2023-11-21T08:43:49.272312Z",
     "shell.execute_reply": "2023-11-21T08:43:49.271273Z"
    },
    "id": "1kzOr7vmRNwk",
    "papermill": {
     "duration": 0.025969,
     "end_time": "2023-11-21T08:43:49.274889",
     "exception": false,
     "start_time": "2023-11-21T08:43:49.248920",
     "status": "completed"
    },
    "tags": []
   },
   "outputs": [],
   "source": [
    "State = torch.Tensor"
   ]
  },
  {
   "cell_type": "code",
   "execution_count": 171,
   "id": "9ca84ec1",
   "metadata": {
    "execution": {
     "iopub.execute_input": "2023-11-21T08:43:49.310634Z",
     "iopub.status.busy": "2023-11-21T08:43:49.310236Z",
     "iopub.status.idle": "2023-11-21T08:43:49.333485Z",
     "shell.execute_reply": "2023-11-21T08:43:49.332442Z"
    },
    "id": "uHMulMZustrI",
    "papermill": {
     "duration": 0.044335,
     "end_time": "2023-11-21T08:43:49.336120",
     "exception": false,
     "start_time": "2023-11-21T08:43:49.291785",
     "status": "completed"
    },
    "tags": []
   },
   "outputs": [],
   "source": [
    "class DQNAgent():\n",
    "  epsilon = 0.05\n",
    "  batch_size = 32\n",
    "  gamma = 0.9\n",
    "  max_experiences:int = 2500\n",
    "  def __init__(self, env: gym.Env,\n",
    "\n",
    "               seq_len:int=5,\n",
    "               verbose:bool=True,\n",
    "               model_file:str=None,\n",
    "               model:nn.Module=None):\n",
    "    self.state_gen = StateGenerator(env,seq_len=seq_len)\n",
    "    self.seq_len = seq_len\n",
    "    self.model = model\n",
    "    self.target_model = copy.deepcopy(self.model)\n",
    "    self.target_model.eval()\n",
    "\n",
    "    self.experiences = ExpStack(max_size=self.max_experiences,seq_len=1)\n",
    "    self.legal_actions = list(range(env.action_space.n))\n",
    "\n",
    "    self.loss_evolution = []\n",
    "    self.optimizer = torch.optim.Adam(self.model.parameters())\n",
    "    self.loss_func = nn.MSELoss()\n",
    "\n",
    "    self.epoch_count = 0\n",
    "    \n",
    "    if (model_file is None):\n",
    "      self.model_file = 'model.pt'\n",
    "    else:\n",
    "      self.model_file = model_file\n",
    "  \n",
    "  def clear_experiences(self):\n",
    "    del self.experiences\n",
    "    self.experiences = ExpStack(self.max_experiences)\n",
    "\n",
    "  def train_model(self) -> None:\n",
    "    self.model.train()\n",
    "    self.epoch_count +=1\n",
    "    if (len(self.experiences) >= self.batch_size):\n",
    "      batch = self.experiences.tensor_batch(self.batch_size)\n",
    "      y_target = (1 - batch.done ) * self.target_model(batch.next_state) * self.gamma + batch.reward\n",
    "      \n",
    "      y_target = y_target.max(1)[0].unsqueeze(1)\n",
    "      \n",
    "      y_pred = self.model(batch.initial_state).gather(1,batch.action)\n",
    "      \n",
    "      loss = self.loss_func(y_target,y_pred)\n",
    "      del y_target, y_pred, batch\n",
    "      self.optimizer.zero_grad()\n",
    "      loss.backward()\n",
    "      self.loss_evolution.append(loss.item())\n",
    "      self.optimizer.step()\n",
    "\n",
    "      \n",
    "\n",
    "  def make_action(self, action: Action) -> tuple[State,float, bool,dict,np.array]:\n",
    "    res = self.state_gen.make_action(action)\n",
    "    assert res[0].shape[0] == self.seq_len, f'{res[0].shape} is wrong'\n",
    "    return res\n",
    "\n",
    "\n",
    "  def get_action(self,current_state: State) -> Action:\n",
    "    if(random.random() < self.epsilon):\n",
    "      return random.choice(self.legal_actions)\n",
    "\n",
    "    current_state = current_state.unsqueeze(0)\n",
    "    model_output = self.model(current_state)\n",
    "    action = model_output.argmax().item()\n",
    "    return action\n",
    "\n",
    "  def update_parameters(self) -> None:\n",
    "    self.target_model.load_state_dict(self.model.state_dict())\n",
    "    self.target_model.eval()\n",
    "\n",
    "  def save_model(self,file_name:str=None) -> None:\n",
    "    if (file_name is None):\n",
    "      torch.save(self.model,self.model_file+'.pt')\n",
    "    else:\n",
    "      torch.save(self.model,file_name)\n",
    "    \n",
    "\n",
    "\n",
    "  def generate_gif(self, output_file:str) -> None:\n",
    "\n",
    "    self.state_gen.generat_gif(output_file)"
   ]
  },
  {
   "cell_type": "markdown",
   "id": "fcb20221",
   "metadata": {
    "id": "HNsw26Xv8lCy",
    "papermill": {
     "duration": 0.016933,
     "end_time": "2023-11-21T08:43:49.369990",
     "exception": false,
     "start_time": "2023-11-21T08:43:49.353057",
     "status": "completed"
    },
    "tags": []
   },
   "source": [
    "La classe `Trainer` est ensuite définie dans le but de pouvoir entraîner un `DQNAgent`."
   ]
  },
  {
   "cell_type": "code",
   "execution_count": 309,
   "id": "b33df00b",
   "metadata": {
    "execution": {
     "iopub.execute_input": "2023-11-21T08:43:49.407182Z",
     "iopub.status.busy": "2023-11-21T08:43:49.406721Z",
     "iopub.status.idle": "2023-11-21T08:43:49.428572Z",
     "shell.execute_reply": "2023-11-21T08:43:49.427362Z"
    },
    "id": "BVCi0zEfNJW5",
    "papermill": {
     "duration": 0.043801,
     "end_time": "2023-11-21T08:43:49.431425",
     "exception": false,
     "start_time": "2023-11-21T08:43:49.387624",
     "status": "completed"
    },
    "tags": []
   },
   "outputs": [],
   "source": [
    "class Trainer:\n",
    "  max_step = int(1e5)\n",
    "  epsilon = 0.05\n",
    "  batch_size = 64\n",
    "  gamma = 0.9\n",
    "  update_frequency = 5\n",
    "  def __init__(self, agent: DQNAgent, verbose:bool=True,time_limit=3600,nb_episodes:int=25000,name:str=None):\n",
    "      self.agent = agent\n",
    "      self.verbose = verbose\n",
    "      self.epochs_count = 0\n",
    "      self.stop = False\n",
    "      self.time_limit = time_limit\n",
    "      self.nb_episodes = nb_episodes\n",
    "      self.rewards = []\n",
    "\n",
    "  def train_agent(self,save_model :bool =True, gif_file:str=None):\n",
    "      episode_index = 0\n",
    "      total_reward = 0\n",
    "      self.reboot_timer()\n",
    "      self.rewards = []\n",
    "      max_reward = 0\n",
    "      while episode_index < self.nb_episodes and not self.stop:\n",
    "          reward = self.play()\n",
    "          self.rewards.append(reward)\n",
    "          episode_index += 1\n",
    "          total_reward+=reward\n",
    "          if(reward > max_reward):\n",
    "            max_reward = reward\n",
    "            model_file_path = os.path.join(MODEL_DIR,self.agent.model_file+'.pt')\n",
    "            self.agent.save_model(model_file_path)\n",
    "            self.log(f'Saving model to {model_file_path}')\n",
    "            gif_file_path = os.path.join(IMG_DIR,self.agent.model_file+'.gif')\n",
    "            self.agent.generate_gif(gif_file_path)\n",
    "            \n",
    "          self.rewards.append(reward)\n",
    "          self.log(f'Episode {episode_index} is done')\n",
    "          self.log(f'Total reward {reward}')\n",
    "      if(save_model):\n",
    "        self.agent.save_model(os.path.join(MODEL_DIR,self.agent.model_file+'.pt'))\n",
    "      if(gif_file is not None):\n",
    "        self.agent.generate_gif(gif_file)\n",
    "      return total_reward/episode_index\n",
    "\n",
    "\n",
    "\n",
    "  def log(self, *args,**kwargs):\n",
    "    if(self.verbose):\n",
    "      print(*args,**kwargs)\n",
    "\n",
    "  def reboot_timer(self):\n",
    "    self.begin_time = time()\n",
    "    self.stop = False\n",
    "\n",
    "  def update_time(self):\n",
    "    current_time = int(time())\n",
    "    delta = current_time - self.begin_time\n",
    "    self.stop = delta > self.time_limit\n",
    "    if(self.stop):\n",
    "      self.log(f'TIME OUT: Model stops training after {delta:.2f} seconds, Save model to {self.agent.model_file}.pt')\n",
    "\n",
    "\n",
    "  def play(self, train:bool=True,keep_frame:bool=False):\n",
    "      done = False\n",
    "      step_index = 0\n",
    "      agent = self.agent\n",
    "      current_state,frame = agent.state_gen.init_env()\n",
    "      \n",
    "\n",
    "      total_reward = 0\n",
    "\n",
    "      while step_index < self.max_step and not done and not self.stop:\n",
    "          self.update_time()\n",
    "          a_t = agent.get_action(current_state=current_state)\n",
    "          next_state, reward, done, info, next_state_frame = agent.make_action(a_t)\n",
    "          assert next_state.shape[0] == (agent.seq_len), \"Bad Shapes\"\n",
    "          assert current_state.shape[0] == (agent.seq_len), \"Bad Shapes\"\n",
    "          \n",
    "          total_reward += reward\n",
    "          if train:\n",
    "              transition = GameTransition(current_state, a_t, reward, next_state, done)\n",
    "              agent.experiences.enqueue(transition)\n",
    "              if step_index % self.update_frequency == 0:\n",
    "                  agent.update_parameters()\n",
    "              \n",
    "          if done:\n",
    "              self.log(f'Game over after {step_index} steps')\n",
    "          current_state = next_state\n",
    "          step_index += 1\n",
    "\n",
    "      return total_reward"
   ]
  },
  {
   "cell_type": "markdown",
   "id": "c84e70e5",
   "metadata": {
    "id": "G40Gtt_v878L",
    "papermill": {
     "duration": 0.017289,
     "end_time": "2023-11-21T08:43:49.466261",
     "exception": false,
     "start_time": "2023-11-21T08:43:49.448972",
     "status": "completed"
    },
    "tags": []
   },
   "source": [
    "Nous allons donc entraîner les deux agents avec les réseaux `DQN` et `DuellingDQN`"
   ]
  },
  {
   "cell_type": "markdown",
   "metadata": {},
   "source": [
    "Le but sera de présenter l'évolution des rewards en fonction du nombre d'episodes réalisés et de faire un comparatif des deux modèles."
   ]
  },
  {
   "cell_type": "code",
   "execution_count": null,
   "id": "f0e3e606",
   "metadata": {
    "execution": {
     "iopub.execute_input": "2023-11-21T08:43:49.502288Z",
     "iopub.status.busy": "2023-11-21T08:43:49.501863Z",
     "iopub.status.idle": "2023-11-21T10:43:53.321329Z",
     "shell.execute_reply": "2023-11-21T10:43:53.319969Z"
    },
    "id": "As5XInr-2l7B",
    "papermill": {
     "duration": 7203.840452,
     "end_time": "2023-11-21T10:43:53.323851",
     "exception": false,
     "start_time": "2023-11-21T08:43:49.483399",
     "status": "completed"
    },
    "tags": []
   },
   "outputs": [],
   "source": [
    "seq_len = 6\n",
    "TIME_LIMIT = 2*3600\n",
    "env_name = 'ALE/Breakout-v5'\n",
    "env = gym.make(env_name, render_mode=\"rgb_array\")\n",
    "\n",
    "model_types = ['simple_dqn', 'duelling_dqn']\n",
    "simple_dqn = DQN(input_data.n_action, input_data.height, input_data.width,seq_len=seq_len)\n",
    "duelling_dqn = DuellingDQN(input_data.n_action, input_data.height, input_data.width,seq_len=seq_len)\n",
    "models = [simple_dqn,duelling_dqn]\n",
    "agents = []\n",
    "fig = plt.figure(figsize=(10,10))\n",
    "for model,model_type in zip(models,model_types):\n",
    "  agent = DQNAgent(env,model_file=model_type,model=model,seq_len=seq_len)\n",
    "  trainer = Trainer(agent,time_limit=TIME_LIMIT,name=model_type)\n",
    "  mean_reward = trainer.train_agent()\n",
    "  agent.clear_experiences()\n",
    "  agents.append(agent)\n",
    "  trainer.reboot_timer()\n",
    "  trainer.play(train=False,keep_frame=True)\n",
    "  ax = fig.add_subplot(2,1,models.index(model)+1)\n",
    "  ax.plot(trainer.rewards,label='rewards')\n",
    "  ax.set_title(model_type)\n",
    "  ax.set_xlabel('Episode')\n",
    "  ax.set_ylabel('Reward')\n",
    "  pd.DataFrame(trainer.rewards).to_csv(os.path.join(IMG_DIR,f'{model_type}_rewards.csv'))\n",
    "  agent.generate_gif(os.path.join(IMG_DIR,f'{model_type}_final.gif'))\n",
    "fig.savefig(os.path.join(IMG_DIR,'rewards.png'))"
   ]
  },
  {
   "cell_type": "markdown",
   "id": "089410e1",
   "metadata": {
    "id": "RnO4stmsNzA_",
    "papermill": {
     "duration": 0.113069,
     "end_time": "2023-11-21T10:43:53.549260",
     "exception": false,
     "start_time": "2023-11-21T10:43:53.436191",
     "status": "completed"
    },
    "tags": []
   },
   "source": [
    "[](./simple_dqn.gif)"
   ]
  },
  {
   "cell_type": "markdown",
   "metadata": {},
   "source": [
    "### Observation et interprétation des résultats"
   ]
  }
 ],
 "metadata": {
  "colab": {
   "include_colab_link": true,
   "provenance": []
  },
  "kaggle": {
   "accelerator": "none",
   "dataSources": [],
   "dockerImageVersionId": 30587,
   "isGpuEnabled": false,
   "isInternetEnabled": true,
   "language": "python",
   "sourceType": "notebook"
  },
  "kernelspec": {
   "display_name": "Python 3",
   "language": "python",
   "name": "python3"
  },
  "language_info": {
   "codemirror_mode": {
    "name": "ipython",
    "version": 3
   },
   "file_extension": ".py",
   "mimetype": "text/x-python",
   "name": "python",
   "nbconvert_exporter": "python",
   "pygments_lexer": "ipython3",
   "version": "3.10.12"
  },
  "papermill": {
   "default_parameters": {},
   "duration": 7266.07936,
   "end_time": "2023-11-21T10:43:54.804608",
   "environment_variables": {},
   "exception": null,
   "input_path": "__notebook__.ipynb",
   "output_path": "__notebook__.ipynb",
   "parameters": {},
   "start_time": "2023-11-21T08:42:48.725248",
   "version": "2.4.0"
  }
 },
 "nbformat": 4,
 "nbformat_minor": 5
}
