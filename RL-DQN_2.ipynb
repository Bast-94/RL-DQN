{
 "cells": [
  {
   "cell_type": "markdown",
   "id": "f94aa5e3",
   "metadata": {
    "id": "view-in-github",
    "papermill": {
     "duration": 0.009568,
     "end_time": "2023-12-02T19:00:28.067356",
     "exception": false,
     "start_time": "2023-12-02T19:00:28.057788",
     "status": "completed"
    },
    "tags": []
   },
   "source": [
    "<a href=\"https://colab.research.google.com/github/Bast-94/RL-DQN/blob/dqn-draft/RL-DQN.ipynb\" target=\"_parent\"><img src=\"https://colab.research.google.com/assets/colab-badge.svg\" alt=\"Open In Colab\"/></a>"
   ]
  },
  {
   "cell_type": "markdown",
   "id": "ce25f3be",
   "metadata": {
    "id": "IxUx75ISnaC2",
    "papermill": {
     "duration": 0.00873,
     "end_time": "2023-12-02T19:00:28.085233",
     "exception": false,
     "start_time": "2023-12-02T19:00:28.076503",
     "status": "completed"
    },
    "tags": []
   },
   "source": [
    "# Projet de Reinforcement Learning : Deep Q-Learning sur le casse-brique d'Atari"
   ]
  },
  {
   "cell_type": "code",
   "execution_count": 1,
   "id": "0507cafd",
   "metadata": {
    "execution": {
     "iopub.execute_input": "2023-12-02T19:00:28.105178Z",
     "iopub.status.busy": "2023-12-02T19:00:28.104200Z",
     "iopub.status.idle": "2023-12-02T19:01:30.742373Z",
     "shell.execute_reply": "2023-12-02T19:01:30.740879Z"
    },
    "id": "IT6J8Qb1nTG4",
    "outputId": "e64dc404-94ee-4e38-9684-98c18ef21579",
    "papermill": {
     "duration": 62.651053,
     "end_time": "2023-12-02T19:01:30.745157",
     "exception": false,
     "start_time": "2023-12-02T19:00:28.094104",
     "status": "completed"
    },
    "tags": []
   },
   "outputs": [
    {
     "name": "stdout",
     "output_type": "stream",
     "text": [
      "Requirement already satisfied: gymnasium[accept-rom-license] in /opt/conda/lib/python3.10/site-packages (0.26.3)\r\n",
      "Requirement already satisfied: numpy>=1.18.0 in /opt/conda/lib/python3.10/site-packages (from gymnasium[accept-rom-license]) (1.24.3)\r\n",
      "Requirement already satisfied: cloudpickle>=1.2.0 in /opt/conda/lib/python3.10/site-packages (from gymnasium[accept-rom-license]) (2.2.1)\r\n",
      "Requirement already satisfied: gymnasium-notices>=0.0.1 in /opt/conda/lib/python3.10/site-packages (from gymnasium[accept-rom-license]) (0.0.1)\r\n",
      "Collecting autorom[accept-rom-license]~=0.4.2 (from gymnasium[accept-rom-license])\r\n",
      "  Downloading AutoROM-0.4.2-py3-none-any.whl (16 kB)\r\n",
      "Requirement already satisfied: click in /opt/conda/lib/python3.10/site-packages (from autorom[accept-rom-license]~=0.4.2->gymnasium[accept-rom-license]) (8.1.7)\r\n",
      "Requirement already satisfied: requests in /opt/conda/lib/python3.10/site-packages (from autorom[accept-rom-license]~=0.4.2->gymnasium[accept-rom-license]) (2.31.0)\r\n",
      "Requirement already satisfied: tqdm in /opt/conda/lib/python3.10/site-packages (from autorom[accept-rom-license]~=0.4.2->gymnasium[accept-rom-license]) (4.66.1)\r\n",
      "Collecting AutoROM.accept-rom-license (from autorom[accept-rom-license]~=0.4.2->gymnasium[accept-rom-license])\r\n",
      "  Downloading AutoROM.accept-rom-license-0.6.1.tar.gz (434 kB)\r\n",
      "\u001b[2K     \u001b[90m━━━━━━━━━━━━━━━━━━━━━━━━━━━━━━━━━━━━━━\u001b[0m \u001b[32m434.7/434.7 kB\u001b[0m \u001b[31m18.4 MB/s\u001b[0m eta \u001b[36m0:00:00\u001b[0m\r\n",
      "\u001b[?25h  Installing build dependencies ... \u001b[?25l-\b \b\\\b \b|\b \b/\b \b-\b \b\\\b \b|\b \b/\b \b-\b \b\\\b \b|\b \bdone\r\n",
      "\u001b[?25h  Getting requirements to build wheel ... \u001b[?25l-\b \bdone\r\n",
      "\u001b[?25h  Preparing metadata (pyproject.toml) ... \u001b[?25l-\b \bdone\r\n",
      "\u001b[?25hRequirement already satisfied: charset-normalizer<4,>=2 in /opt/conda/lib/python3.10/site-packages (from requests->autorom[accept-rom-license]~=0.4.2->gymnasium[accept-rom-license]) (3.2.0)\r\n",
      "Requirement already satisfied: idna<4,>=2.5 in /opt/conda/lib/python3.10/site-packages (from requests->autorom[accept-rom-license]~=0.4.2->gymnasium[accept-rom-license]) (3.4)\r\n",
      "Requirement already satisfied: urllib3<3,>=1.21.1 in /opt/conda/lib/python3.10/site-packages (from requests->autorom[accept-rom-license]~=0.4.2->gymnasium[accept-rom-license]) (1.26.15)\r\n",
      "Requirement already satisfied: certifi>=2017.4.17 in /opt/conda/lib/python3.10/site-packages (from requests->autorom[accept-rom-license]~=0.4.2->gymnasium[accept-rom-license]) (2023.7.22)\r\n",
      "Building wheels for collected packages: AutoROM.accept-rom-license\r\n",
      "  Building wheel for AutoROM.accept-rom-license (pyproject.toml) ... \u001b[?25l-\b \b\\\b \bdone\r\n",
      "\u001b[?25h  Created wheel for AutoROM.accept-rom-license: filename=AutoROM.accept_rom_license-0.6.1-py3-none-any.whl size=446660 sha256=3f21780a29034471888d8ad309883f0dbdb4f0262bd3e281bd29ec38470abd47\r\n",
      "  Stored in directory: /root/.cache/pip/wheels/6b/1b/ef/a43ff1a2f1736d5711faa1ba4c1f61be1131b8899e6a057811\r\n",
      "Successfully built AutoROM.accept-rom-license\r\n",
      "Installing collected packages: AutoROM.accept-rom-license, autorom\r\n",
      "Successfully installed AutoROM.accept-rom-license-0.6.1 autorom-0.4.2\r\n",
      "Requirement already satisfied: gymnasium[atari] in /opt/conda/lib/python3.10/site-packages (0.26.3)\r\n",
      "Requirement already satisfied: numpy>=1.18.0 in /opt/conda/lib/python3.10/site-packages (from gymnasium[atari]) (1.24.3)\r\n",
      "Requirement already satisfied: cloudpickle>=1.2.0 in /opt/conda/lib/python3.10/site-packages (from gymnasium[atari]) (2.2.1)\r\n",
      "Requirement already satisfied: gymnasium-notices>=0.0.1 in /opt/conda/lib/python3.10/site-packages (from gymnasium[atari]) (0.0.1)\r\n",
      "Collecting ale-py~=0.8.0 (from gymnasium[atari])\r\n",
      "  Downloading ale_py-0.8.1-cp310-cp310-manylinux_2_17_x86_64.manylinux2014_x86_64.whl (1.7 MB)\r\n",
      "\u001b[2K     \u001b[90m━━━━━━━━━━━━━━━━━━━━━━━━━━━━━━━━━━━━━━━━\u001b[0m \u001b[32m1.7/1.7 MB\u001b[0m \u001b[31m43.5 MB/s\u001b[0m eta \u001b[36m0:00:00\u001b[0m\r\n",
      "\u001b[?25hRequirement already satisfied: importlib-resources in /opt/conda/lib/python3.10/site-packages (from ale-py~=0.8.0->gymnasium[atari]) (5.13.0)\r\n",
      "Requirement already satisfied: typing-extensions in /opt/conda/lib/python3.10/site-packages (from ale-py~=0.8.0->gymnasium[atari]) (4.5.0)\r\n",
      "Installing collected packages: ale-py\r\n",
      "Successfully installed ale-py-0.8.1\r\n",
      "Requirement already satisfied: torch in /opt/conda/lib/python3.10/site-packages (2.0.0+cpu)\r\n",
      "Requirement already satisfied: filelock in /opt/conda/lib/python3.10/site-packages (from torch) (3.12.2)\r\n",
      "Requirement already satisfied: typing-extensions in /opt/conda/lib/python3.10/site-packages (from torch) (4.5.0)\r\n",
      "Requirement already satisfied: sympy in /opt/conda/lib/python3.10/site-packages (from torch) (1.12)\r\n",
      "Requirement already satisfied: networkx in /opt/conda/lib/python3.10/site-packages (from torch) (3.1)\r\n",
      "Requirement already satisfied: jinja2 in /opt/conda/lib/python3.10/site-packages (from torch) (3.1.2)\r\n",
      "Requirement already satisfied: MarkupSafe>=2.0 in /opt/conda/lib/python3.10/site-packages (from jinja2->torch) (2.1.3)\r\n",
      "Requirement already satisfied: mpmath>=0.19 in /opt/conda/lib/python3.10/site-packages (from sympy->torch) (1.3.0)\r\n",
      "Requirement already satisfied: torchvision in /opt/conda/lib/python3.10/site-packages (0.15.1+cpu)\r\n",
      "Requirement already satisfied: numpy in /opt/conda/lib/python3.10/site-packages (from torchvision) (1.24.3)\r\n",
      "Requirement already satisfied: requests in /opt/conda/lib/python3.10/site-packages (from torchvision) (2.31.0)\r\n",
      "Requirement already satisfied: torch==2.0.0 in /opt/conda/lib/python3.10/site-packages (from torchvision) (2.0.0+cpu)\r\n",
      "Requirement already satisfied: pillow!=8.3.*,>=5.3.0 in /opt/conda/lib/python3.10/site-packages (from torchvision) (10.1.0)\r\n",
      "Requirement already satisfied: filelock in /opt/conda/lib/python3.10/site-packages (from torch==2.0.0->torchvision) (3.12.2)\r\n",
      "Requirement already satisfied: typing-extensions in /opt/conda/lib/python3.10/site-packages (from torch==2.0.0->torchvision) (4.5.0)\r\n",
      "Requirement already satisfied: sympy in /opt/conda/lib/python3.10/site-packages (from torch==2.0.0->torchvision) (1.12)\r\n",
      "Requirement already satisfied: networkx in /opt/conda/lib/python3.10/site-packages (from torch==2.0.0->torchvision) (3.1)\r\n",
      "Requirement already satisfied: jinja2 in /opt/conda/lib/python3.10/site-packages (from torch==2.0.0->torchvision) (3.1.2)\r\n",
      "Requirement already satisfied: charset-normalizer<4,>=2 in /opt/conda/lib/python3.10/site-packages (from requests->torchvision) (3.2.0)\r\n",
      "Requirement already satisfied: idna<4,>=2.5 in /opt/conda/lib/python3.10/site-packages (from requests->torchvision) (3.4)\r\n",
      "Requirement already satisfied: urllib3<3,>=1.21.1 in /opt/conda/lib/python3.10/site-packages (from requests->torchvision) (1.26.15)\r\n",
      "Requirement already satisfied: certifi>=2017.4.17 in /opt/conda/lib/python3.10/site-packages (from requests->torchvision) (2023.7.22)\r\n",
      "Requirement already satisfied: MarkupSafe>=2.0 in /opt/conda/lib/python3.10/site-packages (from jinja2->torch==2.0.0->torchvision) (2.1.3)\r\n",
      "Requirement already satisfied: mpmath>=0.19 in /opt/conda/lib/python3.10/site-packages (from sympy->torch==2.0.0->torchvision) (1.3.0)\r\n"
     ]
    }
   ],
   "source": [
    "! pip install gymnasium[\"accept-rom-license\"]\n",
    "! pip install gymnasium[\"atari\"]\n",
    "! pip install torch\n",
    "! pip install torchvision\n",
    "! mkdir models\n",
    "! mkdir img"
   ]
  },
  {
   "cell_type": "markdown",
   "id": "1c8c4bce",
   "metadata": {
    "id": "R6RsUvhwom-z",
    "papermill": {
     "duration": 0.011206,
     "end_time": "2023-12-02T19:01:30.768107",
     "exception": false,
     "start_time": "2023-12-02T19:01:30.756901",
     "status": "completed"
    },
    "tags": []
   },
   "source": [
    "### <font color=\"#007700\">Présentation globale du projet</font>"
   ]
  },
  {
   "cell_type": "markdown",
   "id": "3f215030",
   "metadata": {
    "id": "NJtQe-8OO2_1",
    "papermill": {
     "duration": 0.011229,
     "end_time": "2023-12-02T19:01:30.790763",
     "exception": false,
     "start_time": "2023-12-02T19:01:30.779534",
     "status": "completed"
    },
    "tags": []
   },
   "source": [
    "### Objectifs du projet\n",
    "Après avoir étudié dans un cas simple (Jeu du Taxi) la notion de $Q_{value}$ essentielle dans le Reinforcement Learning nous allons mettre en place un algorithme d'apprentissage par renforcement basé sur les réseaux de neurones capable de jouer au Casse Brique d'Atari en maximisant ses gains. Deux réseaux de neurones seront implémentés et un comparatif de leurs performances sera réalisé."
   ]
  },
  {
   "cell_type": "markdown",
   "id": "57706270",
   "metadata": {
    "id": "mdognuOSOxDy",
    "papermill": {
     "duration": 0.011306,
     "end_time": "2023-12-02T19:01:30.813391",
     "exception": false,
     "start_time": "2023-12-02T19:01:30.802085",
     "status": "completed"
    },
    "tags": []
   },
   "source": [
    "### Algorithme principal"
   ]
  },
  {
   "cell_type": "markdown",
   "id": "5a558039",
   "metadata": {
    "id": "Zs_C95Ewndez",
    "papermill": {
     "duration": 0.011613,
     "end_time": "2023-12-02T19:01:30.836932",
     "exception": false,
     "start_time": "2023-12-02T19:01:30.825319",
     "status": "completed"
    },
    "tags": []
   },
   "source": [
    "L'algorithme de l'agent va être quelque peu différent de ceux vus dans les tavaux précédents (Sarsa, Qlearning). Plusieurs éléments vont compléxifier la tâche:\n",
    "- Les états sont sous formes de sucession d'images de taille $(210,160,3)$ et non plus sous forme numérique.\n",
    "- La fonction $Q(s,a)$ va faire intervenir un réseaux de neurones $\\theta$ qui devra être entraîné.\n",
    "- Les anciennes expériences devront être stockées dans le but de donner une vérité terrain pour l'entrainement du réseau."
   ]
  },
  {
   "cell_type": "markdown",
   "id": "ee950962",
   "metadata": {
    "id": "QTVHA36NPEcA",
    "papermill": {
     "duration": 0.011279,
     "end_time": "2023-12-02T19:01:30.860028",
     "exception": false,
     "start_time": "2023-12-02T19:01:30.848749",
     "status": "completed"
    },
    "tags": []
   },
   "source": [
    "#### Pseudo code de l'algorithme"
   ]
  },
  {
   "cell_type": "markdown",
   "id": "f862ec7d",
   "metadata": {
    "id": "mgyJ9MDNo04q",
    "papermill": {
     "duration": 0.011566,
     "end_time": "2023-12-02T19:01:30.883049",
     "exception": false,
     "start_time": "2023-12-02T19:01:30.871483",
     "status": "completed"
    },
    "tags": []
   },
   "source": [
    "Le pseudo-code de l'algorithme ci-dessous provient de la publication"
   ]
  },
  {
   "cell_type": "markdown",
   "id": "63ca1b66",
   "metadata": {
    "id": "QX8se4unQDDr",
    "papermill": {
     "duration": 0.011738,
     "end_time": "2023-12-02T19:01:30.906819",
     "exception": false,
     "start_time": "2023-12-02T19:01:30.895081",
     "status": "completed"
    },
    "tags": []
   },
   "source": [
    "\n",
    "$\\text{Algorithme de Q-Leearning profond avec répétition d'expérience}$\n",
    "1. **Initialisation:**\n",
    "   - Initialiser le réseau de neurones $Q$ avec des poids aléatoires.\n",
    "   - Initialiser la mémoire de relecture $D$ avec capacité maximale $N$.\n",
    "   - Initialiser aléatoirement les paramètres d'apprentissage.\n",
    "   - Initialiser la fonction $Q$ avec des $\\theta$ aléatoire.\n",
    "   - Initialiser $\\hat{Q}$ avec $\\theta^⁻ = \\theta$.\n",
    "\n",
    "2. **Pour chaque épisode:**\n",
    "   - Initialiser l'environnement et l'état initial $s_1=\\{x_1\\}$\n",
    "   - Appliquer le prétraitement $\\phi_1 = \\phi(s_1)$\n",
    "   \n",
    "   3. **Pour chaque étape $t$ de l'épisode:**\n",
    "      - Choisir l'action $a_t$ avec la politique $\\varepsilon$-greedy\n",
    "        - $\\mathbb{P}(a_t = argmax_a(Q(s_t,a;\\theta)) = 1 - \\varepsilon$\n",
    "        - $\\mathbb{P}(a_t = \\text{random\\_sample(}A)) = \\varepsilon$\n",
    "      - Exécuter l'action $a_t$, observer la récompense $r_t$ et l'état suivant $s_{t+1}$\n",
    "      - Stocker la transition $(s_t, a_t, r_{t}, s_{t+1})$ dans la mémoire de relecture $D$\n",
    "      - Affecter $s_{t+1}=s_t,a_t,x_{t+1}$\n",
    "      - Prétraitement de $s_{t+1}$ : $\\phi_{t+1}=\\phi(s_{t+1})$\n",
    "      - Échantillonner un lot aléatoire de transitions $(s_i, a_i, r_i, s_{i+1})$ de $D$\n",
    "      - Calculer la vérité terrain $y_i$ pour chaque transition $(s_i, a_i, r_i, s_{i+1})$ en utilisant le réseau $\\hat{Q}$ aux paramètre $\\theta^-$\n",
    "      - Cloner $Q$ dans $\\hat{Q}$ toutes les $C$ étapes\n",
    "      \n"
   ]
  },
  {
   "cell_type": "markdown",
   "id": "6f7b3cb8",
   "metadata": {
    "id": "9Se6OPbaO_cU",
    "papermill": {
     "duration": 0.012135,
     "end_time": "2023-12-02T19:01:30.930477",
     "exception": false,
     "start_time": "2023-12-02T19:01:30.918342",
     "status": "completed"
    },
    "tags": []
   },
   "source": [
    "#### Détails des variables\n",
    "- $Q$ : Fonction de qualité qui pour un couple état-action évalue à quel point une action dans un état donné est favorable.\n",
    "- $C$ : Nombre d'étapes à laquelle $\\hat{Q}$ se met à jour sur $Q$.\n",
    "- $\\hat{Q}$ : Target Network , il correspond à une version ancienne de $Q$ avec des paramètres $\\theta^-$ sur les $C$ dernières étapes.\n",
    "- $\\theta$ : Correspond aux paramètres du réseau de neurones.\n",
    "- ${A}$ : L'ensemble des actions possibles.\n",
    "- $a_t$ : L'action faite par l'agent à l'étape $t$.\n",
    "- $x_t$ : Correspond à l'image brut du jeu à l'étape $t$.\n",
    "- $s_t$ : Correspond à une séquence de couples action-image $\\{a_i \\times x_i\\}_{i\\lt t}$ .\n",
    "- $\\phi_t$ : Correspond au pré-traitement de l'état $s_t$ (Plus de détails dans la suite du notebook).\n",
    "- $\\varepsilon \\in [0,1]$ : Probabilité de choisir une action aléatoire.\n",
    "- $r_t$ : Récompense obtenue par la réalisation de l'action $a_t$ à l'instant $s_t$\n",
    "- $D$ : Mémoire de relecture.\n",
    "- $N$ : Nombre de simulations."
   ]
  },
  {
   "cell_type": "markdown",
   "id": "2f942497",
   "metadata": {
    "id": "mWhORuoko1v4",
    "papermill": {
     "duration": 0.011029,
     "end_time": "2023-12-02T19:01:30.952976",
     "exception": false,
     "start_time": "2023-12-02T19:01:30.941947",
     "status": "completed"
    },
    "tags": []
   },
   "source": [
    "### <font color=\"#007700\">Démarche de recherche et implémentation</font>"
   ]
  },
  {
   "cell_type": "markdown",
   "id": "6fd1b4fc",
   "metadata": {
    "papermill": {
     "duration": 0.01131,
     "end_time": "2023-12-02T19:01:31.032540",
     "exception": false,
     "start_time": "2023-12-02T19:01:31.021230",
     "status": "completed"
    },
    "tags": []
   },
   "source": [
    "La démarche est la suivante: \n",
    "\n",
    "- Gestion du traitement des états.\n",
    "- Elaboration des modèles.\n",
    "- Gestion du stockage des expériences réalisés.\n",
    "- Implémentation de l'agent\n",
    "- Entrainement de l'agent\n",
    "- Observation et Interprétation des résultats."
   ]
  },
  {
   "cell_type": "code",
   "execution_count": 2,
   "id": "fbca39de",
   "metadata": {
    "execution": {
     "iopub.execute_input": "2023-12-02T19:01:31.058085Z",
     "iopub.status.busy": "2023-12-02T19:01:31.057345Z",
     "iopub.status.idle": "2023-12-02T19:01:31.830196Z",
     "shell.execute_reply": "2023-12-02T19:01:31.829160Z"
    },
    "papermill": {
     "duration": 0.789304,
     "end_time": "2023-12-02T19:01:31.833324",
     "exception": false,
     "start_time": "2023-12-02T19:01:31.044020",
     "status": "completed"
    },
    "tags": []
   },
   "outputs": [],
   "source": [
    "import gymnasium\n",
    "if gymnasium.envs.registration.registry.get('ALE/Breakout-v5') is None:\n",
    "    import gym\n",
    "else:\n",
    "    import gymnasium as gym"
   ]
  },
  {
   "cell_type": "code",
   "execution_count": 3,
   "id": "46928a2c",
   "metadata": {
    "execution": {
     "iopub.execute_input": "2023-12-02T19:01:31.859580Z",
     "iopub.status.busy": "2023-12-02T19:01:31.859230Z",
     "iopub.status.idle": "2023-12-02T19:01:35.978865Z",
     "shell.execute_reply": "2023-12-02T19:01:35.977890Z"
    },
    "id": "6MpkCLnpoSIw",
    "outputId": "ec7dcbf7-c456-4383-85d5-6949e51f5109",
    "papermill": {
     "duration": 4.135567,
     "end_time": "2023-12-02T19:01:35.981395",
     "exception": false,
     "start_time": "2023-12-02T19:01:31.845828",
     "status": "completed"
    },
    "tags": []
   },
   "outputs": [],
   "source": [
    "# Importation pour la création des réseaux de neurones\n",
    "from torch import nn\n",
    "import torch\n",
    "import torchvision.transforms as transforms\n",
    "import pandas as pd\n",
    "import matplotlib.pyplot as plt\n",
    "import numpy as np\n",
    "import random\n",
    "import copy\n",
    "import os\n",
    "from time import time\n",
    "from collections import namedtuple\n",
    "# Librairie dédiée à la création des gif finaux\n",
    "from PIL import Image\n",
    "IMG_DIR = 'img'\n",
    "MODEL_DIR = 'models'"
   ]
  },
  {
   "cell_type": "markdown",
   "id": "799129be",
   "metadata": {
    "id": "Q78gPWyCXSAQ",
    "papermill": {
     "duration": 0.011559,
     "end_time": "2023-12-02T19:01:36.006470",
     "exception": false,
     "start_time": "2023-12-02T19:01:35.994911",
     "status": "completed"
    },
    "tags": []
   },
   "source": [
    "### Prétraitement des données"
   ]
  },
  {
   "cell_type": "markdown",
   "id": "135db0d6",
   "metadata": {
    "id": "sXcCJXtob6NO",
    "papermill": {
     "duration": 0.011305,
     "end_time": "2023-12-02T19:01:36.029403",
     "exception": false,
     "start_time": "2023-12-02T19:01:36.018098",
     "status": "completed"
    },
    "tags": []
   },
   "source": [
    "Le prétraitement des données se justifie par le fait que l'entrainement des des réseaux de neurones nécessite d'enregistrer les états précédents. Les états correspondent ici à une séquence d'image du jeux sous frome de tableau de dimension $\\text{(hauteur,largeur,taille de séquence)}$. Afin de réduire le coût en mémoire il faut réduire la taille de chaque état en les prétraitant et en conservant l'information. L'interface du casse-brique d'Atari est très pixelisée et redondante en termes de couleurs, il est donc possible de pouvoir faire une réduction de dimension au niveau de la couleur et de la taille de l'image."
   ]
  },
  {
   "cell_type": "code",
   "execution_count": 4,
   "id": "2babe229",
   "metadata": {
    "execution": {
     "iopub.execute_input": "2023-12-02T19:01:36.054243Z",
     "iopub.status.busy": "2023-12-02T19:01:36.053743Z",
     "iopub.status.idle": "2023-12-02T19:01:36.059213Z",
     "shell.execute_reply": "2023-12-02T19:01:36.058219Z"
    },
    "id": "vvsrhD0sQxqC",
    "papermill": {
     "duration": 0.020248,
     "end_time": "2023-12-02T19:01:36.061290",
     "exception": false,
     "start_time": "2023-12-02T19:01:36.041042",
     "status": "completed"
    },
    "tags": []
   },
   "outputs": [],
   "source": [
    "def preprocess_image(img_array:np.array) -> np.array :\n",
    "  transform = transforms.Compose([\n",
    "      transforms.ToPILImage(),\n",
    "      transforms.Resize((84, 84)),\n",
    "      transforms.Grayscale(num_output_channels=1),\n",
    "      transforms.ToTensor()])\n",
    "  return transform(img_array)\n"
   ]
  },
  {
   "cell_type": "markdown",
   "id": "dae1c4d4",
   "metadata": {
    "id": "I6UE9iZUfVl6",
    "papermill": {
     "duration": 0.011255,
     "end_time": "2023-12-02T19:01:36.084240",
     "exception": false,
     "start_time": "2023-12-02T19:01:36.072985",
     "status": "completed"
    },
    "tags": []
   },
   "source": [
    "Ainsi l'image passera d'une shape $(210,160,3)$ à une shape $(84,84,1)$ réduisant considérablement la taille."
   ]
  },
  {
   "cell_type": "code",
   "execution_count": 5,
   "id": "d51e8aa3",
   "metadata": {
    "execution": {
     "iopub.execute_input": "2023-12-02T19:01:36.108984Z",
     "iopub.status.busy": "2023-12-02T19:01:36.108582Z",
     "iopub.status.idle": "2023-12-02T19:01:36.841769Z",
     "shell.execute_reply": "2023-12-02T19:01:36.840721Z"
    },
    "id": "60aiphhbXCe_",
    "outputId": "09053a52-58b0-4858-f8fc-db3452414bdc",
    "papermill": {
     "duration": 0.748306,
     "end_time": "2023-12-02T19:01:36.844138",
     "exception": false,
     "start_time": "2023-12-02T19:01:36.095832",
     "status": "completed"
    },
    "tags": []
   },
   "outputs": [
    {
     "name": "stderr",
     "output_type": "stream",
     "text": [
      "A.L.E: Arcade Learning Environment (version 0.8.1+53f58b7)\n",
      "[Powered by Stella]\n"
     ]
    },
    {
     "name": "stdout",
     "output_type": "stream",
     "text": [
      "(0.0, False, False, {'lives': 5, 'episode_frame_number': 4, 'frame_number': 4})\n",
      "new_img.size() = torch.Size([1, 84, 84])\n"
     ]
    },
    {
     "name": "stderr",
     "output_type": "stream",
     "text": [
      "/opt/conda/lib/python3.10/site-packages/gym/utils/passive_env_checker.py:233: DeprecationWarning: `np.bool8` is a deprecated alias for `np.bool_`.  (Deprecated NumPy 1.24)\n",
      "  if not isinstance(terminated, (bool, np.bool8)):\n"
     ]
    },
    {
     "data": {
      "text/plain": [
       "<matplotlib.image.AxesImage at 0x7cdf792ad090>"
      ]
     },
     "execution_count": 5,
     "metadata": {},
     "output_type": "execute_result"
    },
    {
     "data": {
      "image/png": "[encoded data removed]",
      "text/plain": [
       "<Figure size 640x480 with 2 Axes>"
      ]
     },
     "metadata": {},
     "output_type": "display_data"
    }
   ],
   "source": [
    "env = gym.make('ALE/Breakout-v5', render_mode=\"rgb_array\")\n",
    "state_img = env.reset()[0]\n",
    "print(env.step(1)[1:])\n",
    "fig,axes = plt.subplots(1,2)\n",
    "fig.suptitle('Images comparison')\n",
    "axes[0].set_title('Original image')\n",
    "axes[0].imshow(state_img)\n",
    "axes[0].axis('off')\n",
    "new_img = preprocess_image(state_img)\n",
    "print(f'{new_img.size() = }')\n",
    "axes[1].axis('off')\n",
    "axes[1].set_title('Preprocessed image')\n",
    "axes[1].imshow(new_img.permute(1,2,0))"
   ]
  },
  {
   "cell_type": "code",
   "execution_count": 6,
   "id": "ad4a267e",
   "metadata": {
    "execution": {
     "iopub.execute_input": "2023-12-02T19:01:36.873179Z",
     "iopub.status.busy": "2023-12-02T19:01:36.871887Z",
     "iopub.status.idle": "2023-12-02T19:01:36.879177Z",
     "shell.execute_reply": "2023-12-02T19:01:36.878263Z"
    },
    "id": "Uj5w4MoD3dxR",
    "papermill": {
     "duration": 0.023764,
     "end_time": "2023-12-02T19:01:36.881197",
     "exception": false,
     "start_time": "2023-12-02T19:01:36.857433",
     "status": "completed"
    },
    "tags": []
   },
   "outputs": [],
   "source": [
    "Input = namedtuple('input', ('height', 'width', 'n_action'))\n",
    "\n",
    "def get_input_shapes(env:gym.Env):\n",
    "  env_tensor = np.zeros(env.observation_space.shape,dtype=np.uint8)\n",
    "  x = preprocess_image(env_tensor)\n",
    "  _,height, width = x.shape\n",
    "  n_action=env.action_space.n\n",
    "  return Input(height,width,n_action)\n"
   ]
  },
  {
   "cell_type": "markdown",
   "id": "3dfaa9a9",
   "metadata": {
    "id": "sotZRDhx4Mc8",
    "papermill": {
     "duration": 0.012465,
     "end_time": "2023-12-02T19:01:36.906777",
     "exception": false,
     "start_time": "2023-12-02T19:01:36.894312",
     "status": "completed"
    },
    "tags": []
   },
   "source": [
    "Il faut ensuite pouvoir faire en sorte que chaque état corresponde à un séquence d'images réduites du jeu. Nous allons donc créer la classe `StateGenerator`"
   ]
  },
  {
   "cell_type": "code",
   "execution_count": 7,
   "id": "55e9caa8",
   "metadata": {
    "execution": {
     "iopub.execute_input": "2023-12-02T19:01:36.934340Z",
     "iopub.status.busy": "2023-12-02T19:01:36.933501Z",
     "iopub.status.idle": "2023-12-02T19:01:36.956887Z",
     "shell.execute_reply": "2023-12-02T19:01:36.955543Z"
    },
    "id": "ecO981RXCLVj",
    "outputId": "5cba5934-921d-4981-f7e2-0ac853487db8",
    "papermill": {
     "duration": 0.040044,
     "end_time": "2023-12-02T19:01:36.959395",
     "exception": false,
     "start_time": "2023-12-02T19:01:36.919351",
     "status": "completed"
    },
    "tags": []
   },
   "outputs": [],
   "source": [
    "Action = int\n",
    "from collections import deque\n",
    "class StateGenerator():\n",
    "  def __init__(self,env_name:str='ALE/Breakout-v5',env:gym.Env=None,seq_len:int=5, save_frames:bool=True):\n",
    "    if env is None:\n",
    "      env = gym.make(env_name, render_mode=\"rgb_array\")\n",
    "    self.env = env\n",
    "    env_tensor = np.zeros(env.observation_space.shape,dtype=np.uint8)\n",
    "    x = preprocess_image(env_tensor)\n",
    "    _,height, width = x.shape\n",
    "    self.height = height\n",
    "    self.width = width\n",
    "    n_action=env.action_space.n\n",
    "    self.seq_len = seq_len\n",
    "    self.stack = torch.zeros(seq_len,height,width)\n",
    "    self.current_frame = np.ndarray(shape=(height,width,1))\n",
    "    self.frames_buffer = []\n",
    "    self.save_frames = save_frames\n",
    "\n",
    "  def init_env(self):\n",
    "    self.current_frame  = self.env.reset()[0]\n",
    "    state = preprocess_image(self.current_frame)\n",
    "    self.reset_stack()\n",
    "    self.stack[:] =state\n",
    "    if self.frames_buffer:\n",
    "      del self.frames_buffer\n",
    "      self.frames_buffer = []\n",
    "    if self.save_frames:\n",
    "      self.frames_buffer = [self.current_frame]\n",
    "    return self.stack, self.current_frame\n",
    "\n",
    "  def make_action(self,action:Action):\n",
    "    next_state,reward,truncated, terminated,info =self.env.step(action)\n",
    "    self.current_frame = next_state\n",
    "    next_state = preprocess_image(next_state)\n",
    "    done = truncated or terminated\n",
    "    self._update_stack(next_state)\n",
    "    if self.save_frames:\n",
    "      self.frames_buffer.append(self.current_frame)\n",
    "    return self.stack,reward, done, info, self.current_frame\n",
    "\n",
    "  def _update_stack(self, new_state: torch.Tensor):\n",
    "        self.stack[:-1] = self.stack[1:].clone()\n",
    "        self.stack[-1] = new_state\n",
    "        \n",
    "  def plot_stack(self):\n",
    "    if self.stack is None:\n",
    "      raise Exception('You must initialize the stack first')\n",
    "    fig,axes = plt.subplots(1,self.seq_len)\n",
    "    fig.suptitle('Stack images')\n",
    "    for i,ax in enumerate(axes):\n",
    "      elem_as_img = self.stack[i].unsqueeze(0).permute(1,2,0).numpy()\n",
    "      ax.imshow(elem_as_img,cmap='gray')\n",
    "      ax.axis('off')\n",
    "\n",
    "  def generat_gif(self,output_file:str):\n",
    "    if not self.save_frames:\n",
    "      raise Exception('You must set save_frames to True to generate a gif')\n",
    "    frames = [Image.fromarray(f, mode='RGB') for f in self.frames_buffer]\n",
    "    frames[0].save(output_file, format='GIF', append_images=frames[1:], save_all=True, duration=10, loop=0)\n",
    "    print(f'Saving {output_file}')\n",
    "    \n",
    "\n",
    "  def reset_stack(self):\n",
    "    self.stack = torch.zeros(self.seq_len, self.height, self.width)\n",
    "  \n",
    "  def reset_frames_buffer(self):\n",
    "    del self.frames_buffer\n",
    "    self.frames_buffer = []\n"
   ]
  },
  {
   "cell_type": "code",
   "execution_count": 8,
   "id": "1023809a",
   "metadata": {
    "execution": {
     "iopub.execute_input": "2023-12-02T19:01:36.987226Z",
     "iopub.status.busy": "2023-12-02T19:01:36.986780Z",
     "iopub.status.idle": "2023-12-02T19:01:39.296575Z",
     "shell.execute_reply": "2023-12-02T19:01:39.295577Z"
    },
    "papermill": {
     "duration": 2.326545,
     "end_time": "2023-12-02T19:01:39.298820",
     "exception": false,
     "start_time": "2023-12-02T19:01:36.972275",
     "status": "completed"
    },
    "tags": []
   },
   "outputs": [
    {
     "name": "stdout",
     "output_type": "stream",
     "text": [
      "Saving img/test.gif\n"
     ]
    }
   ],
   "source": [
    "sg = StateGenerator(seq_len=5)\n",
    "\n",
    "sg.init_env()\n",
    "for i in range(500):\n",
    "    action = env.action_space.sample()\n",
    "    sg.make_action(action)\n",
    "\n",
    "sg.generat_gif(os.path.join(IMG_DIR,'test.gif'))\n",
    "sg.reset_stack()\n",
    "sg.reset_frames_buffer()"
   ]
  },
  {
   "cell_type": "markdown",
   "id": "93517b66",
   "metadata": {
    "papermill": {
     "duration": 0.01246,
     "end_time": "2023-12-02T19:01:39.324183",
     "exception": false,
     "start_time": "2023-12-02T19:01:39.311723",
     "status": "completed"
    },
    "tags": []
   },
   "source": [
    "![gif](./img/test.gif)"
   ]
  },
  {
   "cell_type": "markdown",
   "id": "24ccc598",
   "metadata": {
    "id": "0A1YB793pFc2",
    "papermill": {
     "duration": 0.012563,
     "end_time": "2023-12-02T19:01:39.350012",
     "exception": false,
     "start_time": "2023-12-02T19:01:39.337449",
     "status": "completed"
    },
    "tags": []
   },
   "source": [
    "### <font >Elaboration de modèles de de DQN\n",
    "\n",
    "Ici deux modèles vont être implémentés pour étudier quelle est la stratégie la plus adaptée."
   ]
  },
  {
   "cell_type": "markdown",
   "id": "136d5d43",
   "metadata": {
    "id": "FxrkcKgrgGX5",
    "papermill": {
     "duration": 0.012248,
     "end_time": "2023-12-02T19:01:39.374955",
     "exception": false,
     "start_time": "2023-12-02T19:01:39.362707",
     "status": "completed"
    },
    "tags": []
   },
   "source": [
    "#### DQN simple\n",
    "\n",
    "Le premier dispose de 3 couches de convolutions et d'une couche linaire. Le tenseur de sorti correspond aux Q values de chaque action."
   ]
  },
  {
   "cell_type": "code",
   "execution_count": 9,
   "id": "0d6bc3dd",
   "metadata": {
    "execution": {
     "iopub.execute_input": "2023-12-02T19:01:39.401903Z",
     "iopub.status.busy": "2023-12-02T19:01:39.401222Z",
     "iopub.status.idle": "2023-12-02T19:01:39.412128Z",
     "shell.execute_reply": "2023-12-02T19:01:39.411053Z"
    },
    "id": "G823PH_jIctd",
    "outputId": "f6fc310e-80d7-471a-e819-064b6e0a5ee2",
    "papermill": {
     "duration": 0.026567,
     "end_time": "2023-12-02T19:01:39.414050",
     "exception": false,
     "start_time": "2023-12-02T19:01:39.387483",
     "status": "completed"
    },
    "tags": []
   },
   "outputs": [],
   "source": [
    "class DQN(nn.Module):\n",
    "    def __init__(self, n_action, height, width,seq_len=1 ,linear_size=1024, model_name=None,):\n",
    "        super(DQN, self).__init__()\n",
    "        self.input_dimension = seq_len, height, width\n",
    "        self.conv1 = nn.Conv2d(in_channels=seq_len, out_channels=32, kernel_size=3, stride=1)\n",
    "        self.relu1 = nn.ReLU()\n",
    "        self.conv2 = nn.Conv2d(32, 32, kernel_size=3, stride=1, padding=1)\n",
    "        self.relu2 = nn.ReLU()\n",
    "        self.conv3 = nn.Conv2d(32, 32, kernel_size=3, stride=1, padding=1)\n",
    "        self.relu3 = nn.ReLU()\n",
    "\n",
    "        x0 = torch.zeros(1, seq_len, height, width)\n",
    "        x0 = self.convolute(x0)\n",
    "        x0 = self.flatten(x0)\n",
    "        flatten_dim = x0.shape[1]\n",
    "\n",
    "        self.linear1 = nn.Linear(flatten_dim, linear_size)\n",
    "        self.relu4 = nn.ReLU()\n",
    "        self.linear2 = nn.Linear(linear_size, n_action)\n",
    "\n",
    "    def flatten(self, x):\n",
    "        return x.view(x.shape[0], -1)\n",
    "\n",
    "    def convolute(self,x):\n",
    "      x = self.conv1(x)\n",
    "      x = self.relu1(x)\n",
    "      x = self.conv2(x)\n",
    "      x = self.relu2(x)\n",
    "      x = self.conv3(x)\n",
    "      x = self.relu3(x)\n",
    "      return x\n",
    "\n",
    "    def forward(self, x):\n",
    "      x = self.convolute(x)\n",
    "\n",
    "      x = self.flatten(x)\n",
    "\n",
    "      x = self.linear1(x)\n",
    "      x = self.relu4(x)\n",
    "      return self.linear2(x)"
   ]
  },
  {
   "cell_type": "markdown",
   "id": "cbb7a6a7",
   "metadata": {
    "id": "J8rKs2lx6yG1",
    "papermill": {
     "duration": 0.012323,
     "end_time": "2023-12-02T19:01:39.439593",
     "exception": false,
     "start_time": "2023-12-02T19:01:39.427270",
     "status": "completed"
    },
    "tags": []
   },
   "source": [
    "Le second est un  dueling network, il décompose la valeur d'action en deux parties: la valeur de l'état (à quel point l'état actuel est cool) et l'avantage de l'action (à quel point choisir cette action par rapport aux autres est cool). Cela permet au réseau de mieux comprendre ce qui se passe dans le jeu et d'apprendre de manière plus efficace."
   ]
  },
  {
   "cell_type": "code",
   "execution_count": 10,
   "id": "796901f3",
   "metadata": {
    "execution": {
     "iopub.execute_input": "2023-12-02T19:01:39.467116Z",
     "iopub.status.busy": "2023-12-02T19:01:39.466724Z",
     "iopub.status.idle": "2023-12-02T19:01:39.477445Z",
     "shell.execute_reply": "2023-12-02T19:01:39.476433Z"
    },
    "id": "ST4yINSA3j76",
    "papermill": {
     "duration": 0.027595,
     "end_time": "2023-12-02T19:01:39.479720",
     "exception": false,
     "start_time": "2023-12-02T19:01:39.452125",
     "status": "completed"
    },
    "tags": []
   },
   "outputs": [],
   "source": [
    "\n",
    "\n",
    "class DuellingDQN(nn.Module):\n",
    "    def __init__(self, n_action, height, width, seq_len =1,linear_size=1024, model_name=None):\n",
    "        super(DuellingDQN, self).__init__()\n",
    "        self.input_dimension = seq_len, height, width\n",
    "        self.model_name = model_name\n",
    "        self.conv1 = nn.Conv2d(in_channels=self.input_dimension[0], out_channels=64, kernel_size=3, stride=1)\n",
    "        self.relu1 = nn.ReLU()\n",
    "        self.conv2 = nn.Conv2d(64, 64, kernel_size=3, stride=1, padding=1)\n",
    "        self.relu2 = nn.ReLU()\n",
    "        self.conv3 = nn.Conv2d(64, 64, kernel_size=3, stride=1, padding=1)\n",
    "        self.relu3 = nn.ReLU()\n",
    "\n",
    "        x0 = torch.zeros(1, seq_len, height, width)\n",
    "        x0 = self.convolute(x0)\n",
    "        x0 = self.flatten(x0)\n",
    "        flatten_dim = x0.shape[1]\n",
    "        self.value = nn.Linear(flatten_dim,1)\n",
    "        self.advantage = nn.Linear(flatten_dim,n_action)\n",
    "\n",
    "\n",
    "\n",
    "    def flatten(self, x):\n",
    "        return x.view(x.shape[0], -1)\n",
    "\n",
    "    def convolute(self,x):\n",
    "      x = self.conv1(x)\n",
    "      x = self.relu1(x)\n",
    "      x = self.conv2(x)\n",
    "      x = self.relu2(x)\n",
    "      x = self.conv3(x)\n",
    "      x = self.relu3(x)\n",
    "      return x\n",
    "\n",
    "    def forward(self, x):\n",
    "      x = self.convolute(x)\n",
    "      x = self.flatten(x)\n",
    "      value = self.value(x)\n",
    "      advantage = self.advantage(x)\n",
    "      q_value = value + (advantage - advantage.mean(dim=1,keepdim=True))\n",
    "      return q_value"
   ]
  },
  {
   "cell_type": "markdown",
   "id": "d7778577",
   "metadata": {
    "id": "bfOjRVyt_TRz",
    "papermill": {
     "duration": 0.01286,
     "end_time": "2023-12-02T19:01:39.505822",
     "exception": false,
     "start_time": "2023-12-02T19:01:39.492962",
     "status": "completed"
    },
    "tags": []
   },
   "source": [
    "Vérifions l'homogénéité des shapes d'entrée et de sortie"
   ]
  },
  {
   "cell_type": "code",
   "execution_count": 11,
   "id": "2c11e88b",
   "metadata": {
    "execution": {
     "iopub.execute_input": "2023-12-02T19:01:39.533124Z",
     "iopub.status.busy": "2023-12-02T19:01:39.532732Z",
     "iopub.status.idle": "2023-12-02T19:01:42.451384Z",
     "shell.execute_reply": "2023-12-02T19:01:42.449747Z"
    },
    "id": "bHL5liwk-X3B",
    "outputId": "2c29616f-bf30-46ff-d98c-9987a59c6617",
    "papermill": {
     "duration": 2.934995,
     "end_time": "2023-12-02T19:01:42.453918",
     "exception": false,
     "start_time": "2023-12-02T19:01:39.518923",
     "status": "completed"
    },
    "tags": []
   },
   "outputs": [
    {
     "name": "stdout",
     "output_type": "stream",
     "text": [
      "Input shape: torch.Size([1, 5, 84, 84])\n",
      "Les shapes de sortie du modèle sont cohérentes.\n",
      "torch.Size([1, 4])\n",
      "Input shape: torch.Size([1, 5, 84, 84])\n",
      "Les shapes de sortie du modèle sont cohérentes.\n",
      "torch.Size([1, 4])\n"
     ]
    }
   ],
   "source": [
    "state_generator = StateGenerator(seq_len=5)\n",
    "input_data = get_input_shapes(state_generator.env)\n",
    "seq_len = 5\n",
    "dqn = DQN(input_data.n_action,input_data.height,input_data.width,seq_len=seq_len)\n",
    "duelling_dqn = DuellingDQN(input_data.n_action,input_data.height,input_data.width,seq_len=seq_len)\n",
    "\n",
    "x = state_generator.init_env()[0]\n",
    "x = x.unsqueeze(0)\n",
    "\n",
    "for model in [dqn, duelling_dqn]:\n",
    "  print(f'Input shape: {x.size()}')\n",
    "  output = model(x)\n",
    "  assert output.size(1) == env.action_space.n, print(f'{output.size(1)} != {env.action_space.n}')\n",
    "  print(\"Les shapes de sortie du modèle sont cohérentes.\")\n",
    "  print(f'{output.size()}')"
   ]
  },
  {
   "cell_type": "markdown",
   "id": "5020a70a",
   "metadata": {
    "id": "GkoNo8z40ulV",
    "papermill": {
     "duration": 0.01259,
     "end_time": "2023-12-02T19:01:42.479789",
     "exception": false,
     "start_time": "2023-12-02T19:01:42.467199",
     "status": "completed"
    },
    "tags": []
   },
   "source": [
    "### Gestion de la mémoire des expériences"
   ]
  },
  {
   "cell_type": "markdown",
   "id": "ad967de3",
   "metadata": {
    "id": "y_hG3WCN7nBT",
    "papermill": {
     "duration": 0.012572,
     "end_time": "2023-12-02T19:01:42.505207",
     "exception": false,
     "start_time": "2023-12-02T19:01:42.492635",
     "status": "completed"
    },
    "tags": []
   },
   "source": [
    "Le but est de stocker les états précédents afin de permettre un meilleur apprentissage des Q values. Nous allons donc créer la classe `ExpStack`, qui génèrera des batchs aléatoires. La taille d'une telle structure est plafonnée afin d'éviter que la mémoire ne sature."
   ]
  },
  {
   "cell_type": "code",
   "execution_count": 12,
   "id": "6df46230",
   "metadata": {
    "execution": {
     "iopub.execute_input": "2023-12-02T19:01:42.533140Z",
     "iopub.status.busy": "2023-12-02T19:01:42.532481Z",
     "iopub.status.idle": "2023-12-02T19:01:42.537344Z",
     "shell.execute_reply": "2023-12-02T19:01:42.536657Z"
    },
    "id": "-EEcI22jgs3u",
    "papermill": {
     "duration": 0.021251,
     "end_time": "2023-12-02T19:01:42.539299",
     "exception": false,
     "start_time": "2023-12-02T19:01:42.518048",
     "status": "completed"
    },
    "tags": []
   },
   "outputs": [],
   "source": [
    "GameTransition = namedtuple('game_transition', ('initial_state', 'action', 'reward','next_state', 'done'))"
   ]
  },
  {
   "cell_type": "code",
   "execution_count": 13,
   "id": "27ada904",
   "metadata": {
    "execution": {
     "iopub.execute_input": "2023-12-02T19:01:42.566762Z",
     "iopub.status.busy": "2023-12-02T19:01:42.566154Z",
     "iopub.status.idle": "2023-12-02T19:01:42.576742Z",
     "shell.execute_reply": "2023-12-02T19:01:42.575840Z"
    },
    "id": "tsLFma1J00XQ",
    "outputId": "6fa7d2da-d097-4280-8af8-f1afc78979e4",
    "papermill": {
     "duration": 0.02732,
     "end_time": "2023-12-02T19:01:42.579357",
     "exception": false,
     "start_time": "2023-12-02T19:01:42.552037",
     "status": "completed"
    },
    "tags": []
   },
   "outputs": [],
   "source": [
    "class ExpStack(): # D\n",
    "  def __init__(self, max_size:int, seq_len:int = 4):\n",
    "    self.transitions = []\n",
    "    self.max_size = max_size # N\n",
    "    self.index = 0\n",
    "    self.seq_len = seq_len\n",
    "\n",
    "  def enqueue(self,transition:GameTransition):\n",
    "    if (len(self.transitions) < self.max_size):\n",
    "      self.transitions.append(transition)\n",
    "    else:\n",
    "      self.transitions[self.index] = transition\n",
    "    self.index +=1\n",
    "    self.index = self.index % self.max_size\n",
    "\n",
    "  def get_experiences(self,nb_exp=1):\n",
    "    return random.sample(self.transitions, nb_exp)\n",
    "\n",
    "  def __len__(self):\n",
    "    return len(self.transitions)\n",
    "\n",
    "  def __getitem__(self,index):\n",
    "    return self.transitions[index]\n",
    "\n",
    "  def sample_minibatch(self,batch_size:int=32):\n",
    "    if (batch_size>len(self)):\n",
    "      return self.transitions\n",
    "\n",
    "    return random.sample(self.transitions, batch_size)\n",
    "\n",
    "  def tensor_batch(self,batch_size):\n",
    "    batch = random.sample(self.transitions, batch_size)\n",
    "    batch = GameTransition(*(zip(*batch)))\n",
    "    initial_state = torch.stack(batch.initial_state)\n",
    "\n",
    "    next_state = torch.stack(batch.next_state)\n",
    "\n",
    "    reward = torch.tensor(batch.reward)\n",
    "    reward = reward.unsqueeze(1)\n",
    "\n",
    "    done = torch.tensor(batch.done).float()\n",
    "    done = done.unsqueeze(1)\n",
    "\n",
    "    action = torch.tensor(batch.action)\n",
    "    action = action.unsqueeze(1)\n",
    "\n",
    "    return GameTransition(initial_state,action,reward,next_state,done)\n"
   ]
  },
  {
   "cell_type": "markdown",
   "id": "f377d8d8",
   "metadata": {
    "id": "sYoZhQMapgsH",
    "papermill": {
     "duration": 0.012487,
     "end_time": "2023-12-02T19:01:42.605113",
     "exception": false,
     "start_time": "2023-12-02T19:01:42.592626",
     "status": "completed"
    },
    "tags": []
   },
   "source": [
    "### Lancement du modèle sur l'algorithme **\"deep Q-learning with experience replay.\"** issu de l'article"
   ]
  },
  {
   "cell_type": "markdown",
   "id": "a5004c09",
   "metadata": {
    "id": "8LU2or0X8Isq",
    "papermill": {
     "duration": 0.012402,
     "end_time": "2023-12-02T19:01:42.630263",
     "exception": false,
     "start_time": "2023-12-02T19:01:42.617861",
     "status": "completed"
    },
    "tags": []
   },
   "source": [
    "#### Implémentation de l'Agent\n",
    "\n",
    "Nous allons créer la classe `DQNAgent` qui va pouvoir entraîner un modèle et mettre à jour $\\hat{Q}$."
   ]
  },
  {
   "cell_type": "code",
   "execution_count": 14,
   "id": "3f433ca0",
   "metadata": {
    "execution": {
     "iopub.execute_input": "2023-12-02T19:01:42.657574Z",
     "iopub.status.busy": "2023-12-02T19:01:42.657196Z",
     "iopub.status.idle": "2023-12-02T19:01:42.661415Z",
     "shell.execute_reply": "2023-12-02T19:01:42.660369Z"
    },
    "id": "1kzOr7vmRNwk",
    "papermill": {
     "duration": 0.02075,
     "end_time": "2023-12-02T19:01:42.663686",
     "exception": false,
     "start_time": "2023-12-02T19:01:42.642936",
     "status": "completed"
    },
    "tags": []
   },
   "outputs": [],
   "source": [
    "State = torch.Tensor"
   ]
  },
  {
   "cell_type": "code",
   "execution_count": 15,
   "id": "6f0dd0ac",
   "metadata": {
    "execution": {
     "iopub.execute_input": "2023-12-02T19:01:42.691545Z",
     "iopub.status.busy": "2023-12-02T19:01:42.690952Z",
     "iopub.status.idle": "2023-12-02T19:01:42.707092Z",
     "shell.execute_reply": "2023-12-02T19:01:42.706144Z"
    },
    "id": "uHMulMZustrI",
    "papermill": {
     "duration": 0.032496,
     "end_time": "2023-12-02T19:01:42.709251",
     "exception": false,
     "start_time": "2023-12-02T19:01:42.676755",
     "status": "completed"
    },
    "tags": []
   },
   "outputs": [],
   "source": [
    "class DQNAgent():\n",
    "  epsilon = 0.05\n",
    "  batch_size = 32\n",
    "  gamma = 0.9\n",
    "  max_experiences:int = 2500\n",
    "  def __init__(self, env: gym.Env,\n",
    "\n",
    "               seq_len:int=5,\n",
    "               verbose:bool=True,\n",
    "               model_file:str=None,\n",
    "               model:nn.Module=None,\n",
    "               eps_start:float=1.0,\n",
    "               eps_end:float=0,\n",
    "               eps_decay:int=2e-3):\n",
    "    self.state_gen = StateGenerator(seq_len=seq_len)\n",
    "    self.seq_len = seq_len\n",
    "    self.model = model\n",
    "    self.target_model = copy.deepcopy(self.model)\n",
    "    self.target_model.eval()\n",
    "    self.verbose = verbose\n",
    "    self.epsilon = eps_start\n",
    "    self.eps_end = eps_end\n",
    "    self.eps_decay = eps_decay\n",
    "    self.experiences = ExpStack(max_size=self.max_experiences,seq_len=1)\n",
    "    self.legal_actions = list(range(env.action_space.n))\n",
    "\n",
    "    self.loss_evolution = []\n",
    "    self.optimizer = torch.optim.Adam(self.model.parameters())\n",
    "    self.loss_func = nn.MSELoss()\n",
    "\n",
    "    self.epoch_count = 0\n",
    "    \n",
    "    if (model_file is None):\n",
    "      self.model_file = 'model.pt'\n",
    "    else:\n",
    "      self.model_file = model_file\n",
    "  \n",
    "  def clear_experiences(self):\n",
    "    del self.experiences\n",
    "    self.experiences = ExpStack(self.max_experiences)\n",
    "  \n",
    "  def update_epsilon(self):\n",
    "    self.epsilon = max(self.eps_end, self.epsilon - self.eps_decay)\n",
    "\n",
    "  def train_model(self) -> None:\n",
    "    self.model.train()\n",
    "    self.epoch_count +=1\n",
    "    if (len(self.experiences) >= self.batch_size):\n",
    "      batch = self.experiences.tensor_batch(self.batch_size)\n",
    "      y_target = (1 - batch.done ) * self.target_model(batch.next_state) * self.gamma + batch.reward\n",
    "      \n",
    "      y_target = y_target.max(1)[0].unsqueeze(1)\n",
    "      \n",
    "      y_pred = self.model(batch.initial_state).gather(1,batch.action)\n",
    "      \n",
    "      loss = self.loss_func(y_target,y_pred)\n",
    "      del y_target, y_pred, batch\n",
    "      self.optimizer.zero_grad()\n",
    "      loss.backward()\n",
    "      self.loss_evolution.append(loss.item())\n",
    "      self.optimizer.step()\n",
    "\n",
    "      \n",
    "\n",
    "  def make_action(self, action: Action) -> tuple[State,float, bool,dict,np.array]:\n",
    "    res = self.state_gen.make_action(action)\n",
    "    assert res[0].shape[0] == self.seq_len, f'{res[0].shape} is wrong'\n",
    "    return res\n",
    "\n",
    "\n",
    "  def get_action(self,current_state: State) -> Action:\n",
    "    if(random.random() < self.epsilon):\n",
    "      return random.choice(self.legal_actions)\n",
    "\n",
    "    current_state = current_state.unsqueeze(0)\n",
    "    model_output = self.model(current_state)\n",
    "    action = model_output.argmax().item()\n",
    "    return action\n",
    "\n",
    "  def update_parameters(self) -> None:\n",
    "    self.target_model.load_state_dict(self.model.state_dict())\n",
    "    self.target_model.eval()\n",
    "\n",
    "  def save_model(self,file_name:str=None) -> None:\n",
    "    if (file_name is None):\n",
    "      torch.save(self.model,self.model_file+'.pt')\n",
    "    else:\n",
    "      torch.save(self.model,file_name)\n",
    "  \n",
    "  def reset_state_generator(self) -> None:\n",
    "    del self.state_gen\n",
    "    self.state_gen = StateGenerator(seq_len=self.seq_len)\n",
    "\n",
    "  def generate_gif(self, output_file:str) -> None:\n",
    "\n",
    "    self.state_gen.generat_gif(output_file)"
   ]
  },
  {
   "cell_type": "markdown",
   "id": "608cde30",
   "metadata": {
    "id": "HNsw26Xv8lCy",
    "papermill": {
     "duration": 0.012619,
     "end_time": "2023-12-02T19:01:42.734747",
     "exception": false,
     "start_time": "2023-12-02T19:01:42.722128",
     "status": "completed"
    },
    "tags": []
   },
   "source": [
    "La classe `Trainer` est ensuite définie dans le but de pouvoir entraîner un `DQNAgent`."
   ]
  },
  {
   "cell_type": "code",
   "execution_count": 16,
   "id": "042741dc",
   "metadata": {
    "execution": {
     "iopub.execute_input": "2023-12-02T19:01:42.762032Z",
     "iopub.status.busy": "2023-12-02T19:01:42.761397Z",
     "iopub.status.idle": "2023-12-02T19:01:42.778097Z",
     "shell.execute_reply": "2023-12-02T19:01:42.777134Z"
    },
    "id": "BVCi0zEfNJW5",
    "papermill": {
     "duration": 0.033077,
     "end_time": "2023-12-02T19:01:42.780369",
     "exception": false,
     "start_time": "2023-12-02T19:01:42.747292",
     "status": "completed"
    },
    "tags": []
   },
   "outputs": [],
   "source": [
    "class Trainer:\n",
    "  max_step = int(1e5)\n",
    "  epsilon = 0.05\n",
    "  batch_size = 64\n",
    "  gamma = 0.9\n",
    "  update_frequency = 5\n",
    "  def __init__(self, agent: DQNAgent, verbose:bool=True,time_limit=3600,nb_episodes:int=25000,name:str=None):\n",
    "      self.agent = agent\n",
    "      self.verbose = verbose\n",
    "      self.epochs_count = 0\n",
    "      self.stop = False\n",
    "      self.time_limit = time_limit\n",
    "      self.nb_episodes = nb_episodes\n",
    "      self.rewards = []\n",
    "\n",
    "  def train_agent(self,save_model :bool =True, gif_file:str=None):\n",
    "      episode_index = 0\n",
    "      total_reward = 0\n",
    "      self.reboot_timer()\n",
    "      self.rewards = []\n",
    "      max_reward = 0\n",
    "      while episode_index < self.nb_episodes and not self.stop:\n",
    "          \n",
    "          self.update_time()\n",
    "          reward = self.play()\n",
    "          self.rewards.append(reward)\n",
    "          episode_index += 1\n",
    "          total_reward+=reward\n",
    "          if(reward > max_reward):\n",
    "            max_reward = reward\n",
    "            model_file_path = os.path.join(MODEL_DIR,self.agent.model_file+'.pt')\n",
    "            self.agent.save_model(model_file_path)\n",
    "            self.log(f'Saving model to {model_file_path}')\n",
    "            gif_file_path = os.path.join(IMG_DIR,self.agent.model_file+'.gif')\n",
    "            self.agent.generate_gif(gif_file_path)\n",
    "            self.agent.reset_state_generator()\n",
    "            \n",
    "\n",
    "          self.rewards.append(reward)\n",
    "          self.log(f'Episode {episode_index} is done')\n",
    "          self.log(f'Total reward {reward}')\n",
    "          self.log(7*'-')\n",
    "      if(save_model):\n",
    "        self.agent.save_model(os.path.join(MODEL_DIR,self.agent.model_file+'.pt'))\n",
    "      if(gif_file is not None):\n",
    "        self.agent.generate_gif(gif_file)\n",
    "      return total_reward/episode_index\n",
    "\n",
    "\n",
    "\n",
    "  def log(self, *args,**kwargs):\n",
    "    if(self.verbose):\n",
    "      print(*args,**kwargs)\n",
    "\n",
    "  def reboot_timer(self):\n",
    "    self.begin_time = time()\n",
    "    self.stop = False\n",
    "\n",
    "  def update_time(self):\n",
    "    current_time = int(time())\n",
    "    delta = current_time - self.begin_time\n",
    "    self.stop = delta > self.time_limit\n",
    "    if(self.stop):\n",
    "      self.log(f'TIME OUT: Model stops training after {delta:.2f} seconds, Save model to {self.agent.model_file}.pt')\n",
    "\n",
    "\n",
    "  def play(self, train:bool=True):\n",
    "      done = False\n",
    "      step_index = 0\n",
    "      agent = self.agent\n",
    "      agent.reset_state_generator()\n",
    "      current_state,_ = agent.state_gen.init_env()\n",
    "      \n",
    "\n",
    "      total_reward = 0\n",
    "      self.update_time()\n",
    "      while step_index < self.max_step and not done and (not self.stop or not train):\n",
    "          self.update_time()\n",
    "          a_t = agent.get_action(current_state=current_state)\n",
    "          next_state, reward, done, info, next_state_frame = agent.make_action(a_t)\n",
    "          assert next_state.shape[0] == (agent.seq_len), \"Bad Shapes\"\n",
    "          assert current_state.shape[0] == (agent.seq_len), \"Bad Shapes\"\n",
    "          \n",
    "          total_reward += reward\n",
    "          if(step_index % 1000 == 0):\n",
    "            self.log(f'Step {step_index} is done')\n",
    "            self.log(f'Reward {total_reward}')\n",
    "            self.log(f'{info =}')\n",
    "          if train:\n",
    "              transition = GameTransition(current_state, a_t, reward, next_state, done)\n",
    "              agent.experiences.enqueue(transition)\n",
    "              if step_index % self.update_frequency == 0:\n",
    "                  agent.update_parameters()\n",
    "              \n",
    "          if done:\n",
    "              self.log(f'Game over after {step_index} steps')\n",
    "          agent.update_epsilon()\n",
    "          current_state = next_state\n",
    "          step_index += 1\n",
    "      \n",
    "      return total_reward"
   ]
  },
  {
   "cell_type": "markdown",
   "id": "069261f2",
   "metadata": {
    "id": "G40Gtt_v878L",
    "papermill": {
     "duration": 0.012432,
     "end_time": "2023-12-02T19:01:42.805788",
     "exception": false,
     "start_time": "2023-12-02T19:01:42.793356",
     "status": "completed"
    },
    "tags": []
   },
   "source": [
    "Nous allons donc entraîner les deux agents avec les réseaux `DQN` et `DuellingDQN`"
   ]
  },
  {
   "cell_type": "markdown",
   "id": "52bbe33b",
   "metadata": {
    "papermill": {
     "duration": 0.012435,
     "end_time": "2023-12-02T19:01:42.830767",
     "exception": false,
     "start_time": "2023-12-02T19:01:42.818332",
     "status": "completed"
    },
    "tags": []
   },
   "source": [
    "Le but sera de présenter l'évolution des rewards en fonction du nombre d'episodes réalisés et de faire un comparatif des deux modèles."
   ]
  },
  {
   "cell_type": "code",
   "execution_count": 17,
   "id": "99729be8",
   "metadata": {
    "execution": {
     "iopub.execute_input": "2023-12-02T19:01:42.858192Z",
     "iopub.status.busy": "2023-12-02T19:01:42.857547Z",
     "iopub.status.idle": "2023-12-02T19:01:52.002843Z",
     "shell.execute_reply": "2023-12-02T19:01:52.001319Z"
    },
    "id": "As5XInr-2l7B",
    "papermill": {
     "duration": 9.161787,
     "end_time": "2023-12-02T19:01:52.005202",
     "exception": false,
     "start_time": "2023-12-02T19:01:42.843415",
     "status": "completed"
    },
    "tags": []
   },
   "outputs": [
    {
     "name": "stdout",
     "output_type": "stream",
     "text": [
      "Step 0 is done\n",
      "Reward 0.0\n",
      "info ={'lives': 5, 'episode_frame_number': 4, 'frame_number': 4}\n",
      "TIME OUT: Model stops training after 0.66 seconds, Save model to simple_dqn.pt\n",
      "Episode 1 is done\n",
      "Total reward 0.0\n",
      "-------\n",
      "Step 0 is done\n",
      "Reward 0.0\n",
      "info ={'lives': 5, 'episode_frame_number': 4, 'frame_number': 4}\n",
      "Game over after 133 steps\n",
      "Saving img/simple_dqn_final.gif\n",
      "Step 0 is done\n",
      "Reward 0.0\n",
      "info ={'lives': 5, 'episode_frame_number': 4, 'frame_number': 4}\n",
      "Game over after 130 steps\n",
      "Episode 1 is done\n",
      "Total reward 0.0\n",
      "-------\n",
      "Step 0 is done\n",
      "Reward 0.0\n",
      "info ={'lives': 5, 'episode_frame_number': 4, 'frame_number': 4}\n",
      "TIME OUT: Model stops training after 0.72 seconds, Save model to duelling_dqn.pt\n",
      "Episode 2 is done\n",
      "Total reward 0.0\n",
      "-------\n",
      "Step 0 is done\n",
      "Reward 0.0\n",
      "info ={'lives': 5, 'episode_frame_number': 4, 'frame_number': 4}\n",
      "Game over after 213 steps\n",
      "Saving img/duelling_dqn_final.gif\n"
     ]
    },
    {
     "data": {
      "image/png": "[encoded data removed]",
      "text/plain": [
       "<Figure size 1000x1000 with 2 Axes>"
      ]
     },
     "metadata": {},
     "output_type": "display_data"
    }
   ],
   "source": [
    "seq_len = 16\n",
    "TIME_LIMIT = 0\n",
    "env_name = 'ALE/Breakout-v5'\n",
    "env = gym.make(env_name, render_mode=\"rgb_array\")\n",
    "\n",
    "model_types = ['simple_dqn', 'duelling_dqn']\n",
    "simple_dqn = DQN(input_data.n_action, input_data.height, input_data.width,seq_len=seq_len)\n",
    "duelling_dqn = DuellingDQN(input_data.n_action, input_data.height, input_data.width,seq_len=seq_len)\n",
    "models = [simple_dqn,duelling_dqn]\n",
    "agents = []\n",
    "fig = plt.figure(figsize=(10,10))\n",
    "for model,model_type in zip(models,model_types):\n",
    "  agent = DQNAgent(env,model_file=model_type,model=model,seq_len=seq_len,eps_decay=1e-4,eps_end=0.1)\n",
    "  trainer = Trainer(agent,time_limit=TIME_LIMIT,name=model_type)\n",
    "  mean_reward = trainer.train_agent()\n",
    "  agent.clear_experiences()\n",
    "  agents.append(agent)\n",
    "  trainer.reboot_timer()\n",
    "  trainer.play(train=False)\n",
    "  ax = fig.add_subplot(2,1,models.index(model)+1)\n",
    "  ax.plot(trainer.rewards,label='rewards')\n",
    "  ax.set_title(model_type)\n",
    "  ax.set_xlabel('Episode')\n",
    "  ax.set_ylabel('Reward')\n",
    "  pd.DataFrame(trainer.rewards).to_csv(os.path.join(IMG_DIR,f'{model_type}_rewards.csv'))\n",
    "  agent.generate_gif(os.path.join(IMG_DIR,f'{model_type}_final.gif'))\n",
    "  agent.state_gen.reset_stack()\n",
    "  agent.state_gen.reset_frames_buffer()\n",
    "fig.savefig(os.path.join(IMG_DIR,'rewards.png'))"
   ]
  },
  {
   "cell_type": "markdown",
   "id": "9ed56d29",
   "metadata": {
    "id": "RnO4stmsNzA_",
    "papermill": {
     "duration": 0.013685,
     "end_time": "2023-12-02T19:01:52.033192",
     "exception": false,
     "start_time": "2023-12-02T19:01:52.019507",
     "status": "completed"
    },
    "tags": []
   },
   "source": [
    "[](./simple_dqn.gif)"
   ]
  },
  {
   "cell_type": "markdown",
   "id": "6f09a497",
   "metadata": {
    "papermill": {
     "duration": 0.013799,
     "end_time": "2023-12-02T19:01:52.061098",
     "exception": false,
     "start_time": "2023-12-02T19:01:52.047299",
     "status": "completed"
    },
    "tags": []
   },
   "source": [
    "### Observation et interprétation des résultats"
   ]
  }
 ],
 "metadata": {
  "colab": {
   "include_colab_link": true,
   "provenance": []
  },
  "kaggle": {
   "accelerator": "none",
   "dataSources": [],
   "dockerImageVersionId": 30587,
   "isGpuEnabled": false,
   "isInternetEnabled": true,
   "language": "python",
   "sourceType": "notebook"
  },
  "kernelspec": {
   "display_name": "Python 3",
   "language": "python",
   "name": "python3"
  },
  "language_info": {
   "codemirror_mode": {
    "name": "ipython",
    "version": 3
   },
   "file_extension": ".py",
   "mimetype": "text/x-python",
   "name": "python",
   "nbconvert_exporter": "python",
   "pygments_lexer": "ipython3",
   "version": "3.10.12"
  },
  "papermill": {
   "default_parameters": {},
   "duration": 88.049989,
   "end_time": "2023-12-02T19:01:53.198228",
   "environment_variables": {},
   "exception": null,
   "input_path": "__notebook__.ipynb",
   "output_path": "__notebook__.ipynb",
   "parameters": {},
   "start_time": "2023-12-02T19:00:25.148239",
   "version": "2.4.0"
  }
 },
 "nbformat": 4,
 "nbformat_minor": 5
}
