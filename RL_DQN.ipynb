{
  "nbformat": 4,
  "nbformat_minor": 0,
  "metadata": {
    "colab": {
      "provenance": [],
      "authorship_tag": "ABX9TyNFlE9F8qIbZIJAa7ikJRCP",
      "include_colab_link": true
    },
    "kernelspec": {
      "name": "python3",
      "display_name": "Python 3"
    },
    "language_info": {
      "name": "python"
    }
  },
  "cells": [
    {
      "cell_type": "markdown",
      "metadata": {
        "id": "view-in-github",
        "colab_type": "text"
      },
      "source": [
        "<a href=\"https://colab.research.google.com/github/Bast-94/RL-DQN/blob/dqn-draft/RL_DQN.ipynb\" target=\"_parent\"><img src=\"https://colab.research.google.com/assets/colab-badge.svg\" alt=\"Open In Colab\"/></a>"
      ]
    },
    {
      "cell_type": "markdown",
      "source": [
        "# Projet de Reinforcement Learning : Deep Q-Learning sur le casse-brique d'Atari"
      ],
      "metadata": {
        "id": "IxUx75ISnaC2"
      }
    },
    {
      "cell_type": "code",
      "execution_count": 1,
      "metadata": {
        "id": "IT6J8Qb1nTG4",
        "colab": {
          "base_uri": "https://localhost:8080/"
        },
        "outputId": "1958a0d6-4a00-4d5c-f10e-bf9753afa1ad"
      },
      "outputs": [
        {
          "output_type": "stream",
          "name": "stdout",
          "text": [
            "\u001b[2K     \u001b[90m━━━━━━━━━━━━━━━━━━━━━━━━━━━━━━━━━━━━━━━━\u001b[0m \u001b[32m953.9/953.9 kB\u001b[0m \u001b[31m11.2 MB/s\u001b[0m eta \u001b[36m0:00:00\u001b[0m\n",
            "\u001b[2K     \u001b[90m━━━━━━━━━━━━━━━━━━━━━━━━━━━━━━━━━━━━━━━━\u001b[0m \u001b[32m434.7/434.7 kB\u001b[0m \u001b[31m36.5 MB/s\u001b[0m eta \u001b[36m0:00:00\u001b[0m\n",
            "\u001b[?25h  Installing build dependencies ... \u001b[?25l\u001b[?25hdone\n",
            "  Getting requirements to build wheel ... \u001b[?25l\u001b[?25hdone\n",
            "  Preparing metadata (pyproject.toml) ... \u001b[?25l\u001b[?25hdone\n",
            "\u001b[2K     \u001b[90m━━━━━━━━━━━━━━━━━━━━━━━━━━━━━━━━━━━━━━━━\u001b[0m \u001b[32m1.7/1.7 MB\u001b[0m \u001b[31m64.2 MB/s\u001b[0m eta \u001b[36m0:00:00\u001b[0m\n",
            "\u001b[?25h  Building wheel for AutoROM.accept-rom-license (pyproject.toml) ... \u001b[?25l\u001b[?25hdone\n"
          ]
        }
      ],
      "source": [
        "! pip install -q gymnasium[\"atari\",\"accept-rom-license\"]"
      ]
    },
    {
      "cell_type": "markdown",
      "source": [
        "## Présentation globale du projet"
      ],
      "metadata": {
        "id": "R6RsUvhwom-z"
      }
    },
    {
      "cell_type": "markdown",
      "source": [
        "### Objectifs du projet"
      ],
      "metadata": {
        "id": "NJtQe-8OO2_1"
      }
    },
    {
      "cell_type": "markdown",
      "source": [
        "### Algorithme principal"
      ],
      "metadata": {
        "id": "mdognuOSOxDy"
      }
    },
    {
      "cell_type": "markdown",
      "source": [
        "#### Pseudo code de l'algorithme"
      ],
      "metadata": {
        "id": "QTVHA36NPEcA"
      }
    },
    {
      "cell_type": "markdown",
      "source": [
        "\n",
        "$\\text{Algorithme de Q-Leearning profond avec répétition d'expérience}$\n",
        "1. **Initialisation:**\n",
        "   - Initialiser le réseau de neurones $Q$ avec des poids aléatoires.\n",
        "   - Initialiser la mémoire de relecture $D$ avec capacité maximale $N$.\n",
        "   - Initialiser aléatoirement les paramètres d'apprentissage.\n",
        "   - Initialiser la fonction $Q$ avec des $\\theta$ aléatoire.\n",
        "   - Initialiser $\\hat{Q}$ avec $\\theta^⁻ = \\theta$.\n",
        "\n",
        "2. **Pour chaque épisode:**\n",
        "   - Initialiser l'environnement et l'état initial $s_1=\\{x_1\\}$\n",
        "   - Appliquer le prétraitement $\\phi_1 = \\phi(s_1)$\n",
        "   \n",
        "   3. **Pour chaque étape $t$ de l'épisode:**\n",
        "      - Choisir l'action $a_t$ avec la politique $\\varepsilon$-greedy\n",
        "        - $\\mathbb{P}(a_t = argmax_a(Q(s_t,a;\\theta)) = 1 - \\varepsilon$\n",
        "        - $\\mathbb{P}(a_t = \\text{random\\_sample(}A)) = \\varepsilon$\n",
        "      - Exécuter l'action $a_t$, observer la récompense $r_t$ et l'état suivant $s_{t+1}$\n",
        "      - Stocker la transition $(s_t, a_t, r_{t}, s_{t+1})$ dans la mémoire de relecture $D$\n",
        "      - Affecter $s_{t+1}=s_t,a_t,x_{t+1}$\n",
        "      - Prétraitement de $s_{t+1}$ : $\\phi_{t+1}=\\phi(s_{t+1})$\n",
        "      - Échantillonner un lot aléatoire de transitions $(s_i, a_i, r_i, s_{i+1})$ de $D$\n",
        "      - Calculer la vérité terrain $y_i$ pour chaque transition $(s_i, a_i, r_i, s_{i+1})$ en utilisant le réseau $\\hat{Q}$ aux paramètre $\\theta^-$\n",
        "      - Cloner $Q$ dans $\\hat{Q}$ toutes les $C$ étapes\n",
        "      \n"
      ],
      "metadata": {
        "id": "QX8se4unQDDr"
      }
    },
    {
      "cell_type": "markdown",
      "source": [
        "#### Détails des variables\n",
        "- $Q$ : Fonction de qualité qui pour un couple état-action évalue à quel point une action dans un état donné est favorable.\n",
        "- $C$ : Nombre d'étapes à laquelle $\\hat{Q}$ se met à jour sur $Q$.\n",
        "- $\\hat{Q}$ : Target Network , il correspond à une version ancienne de $Q$ avec des paramètres $\\theta^-$ sur les $C$ dernières étapes.\n",
        "- $\\theta$ : Correspond aux paramètres du réseau de neurones.\n",
        "- ${A}$ : L'ensemble des actions possibles.\n",
        "- $a_t$ : L'action faite par l'agent à l'étape $t$.\n",
        "- $x_t$ : Correspond à l'image brut du jeu à l'étape $t$.\n",
        "- $s_t$ : Correspond à une séquence de couples action-image $\\{a_i \\times x_i\\}_{i\\lt t}$ .\n",
        "- $\\phi_t$ : Correspond au pré-traitement de l'état $s_t$ (Plus de détails dans la suite du notebook).\n",
        "- $\\varepsilon \\in [0,1]$ : Probabilité de choisir une action aléatoire.\n",
        "- $r_t$ : Récompense obtenue par la réalisation de l'action $a_t$ à l'instant $s_t$\n",
        "- $D$ : Mémoire de relecture.\n",
        "- $N$ : Nombre de simulations."
      ],
      "metadata": {
        "id": "9Se6OPbaO_cU"
      }
    },
    {
      "cell_type": "markdown",
      "source": [
        "## Démarche de recherche et implémentation"
      ],
      "metadata": {
        "id": "mWhORuoko1v4"
      }
    },
    {
      "cell_type": "code",
      "source": [
        "from torch import nn\n",
        "import torch\n",
        "import gymnasium as gym\n",
        "import matplotlib.pyplot as plt\n",
        "import numpy as np\n",
        "import random\n",
        "import torchvision.transforms as transforms\n",
        "import copy\n",
        "from time import time\n",
        "from collections import namedtuple"
      ],
      "metadata": {
        "id": "6MpkCLnpoSIw"
      },
      "execution_count": 2,
      "outputs": []
    },
    {
      "cell_type": "markdown",
      "source": [
        "#### Prétraitement des données"
      ],
      "metadata": {
        "id": "Q78gPWyCXSAQ"
      }
    },
    {
      "cell_type": "code",
      "source": [
        "def preprocess_image(img_array:np.array) -> np.array :\n",
        "  transform = transforms.Compose([\n",
        "      transforms.ToPILImage(),\n",
        "      transforms.Resize((84, 84)),\n",
        "      transforms.Grayscale(num_output_channels=1),\n",
        "      transforms.ToTensor()])\n",
        "  return transform(img_array)\n"
      ],
      "metadata": {
        "colab": {
          "base_uri": "https://localhost:8080/"
        },
        "id": "vvsrhD0sQxqC",
        "outputId": "b3895863-321b-49fd-eab8-9ece3928cdb7"
      },
      "execution_count": 3,
      "outputs": [
        {
          "output_type": "stream",
          "name": "stderr",
          "text": [
            "/usr/local/lib/python3.10/dist-packages/ipykernel/ipkernel.py:283: DeprecationWarning: `should_run_async` will not call `transform_cell` automatically in the future. Please pass the result to `transformed_cell` argument and any exception that happen during thetransform in `preprocessing_exc_tuple` in IPython 7.17 and above.\n",
            "  and should_run_async(code)\n"
          ]
        }
      ]
    },
    {
      "cell_type": "code",
      "source": [
        "env = gym.make('ALE/Breakout-v5', render_mode=\"rgb_array\")\n",
        "state_img = env.reset()[0]\n",
        "fig,axes = plt.subplots(1,2)\n",
        "fig.suptitle('Images comparison')\n",
        "axes[0].set_title('Original image')\n",
        "axes[0].imshow(state_img)\n",
        "axes[0].axis('off')\n",
        "new_img = preprocess_image(state_img)\n",
        "print(f'{new_img.size() = }')\n",
        "axes[1].axis('off')\n",
        "axes[1].set_title('Preprocessed image')\n",
        "axes[1].imshow(new_img.permute(1,2,0))"
      ],
      "metadata": {
        "colab": {
          "base_uri": "https://localhost:8080/",
          "height": 452
        },
        "id": "60aiphhbXCe_",
        "outputId": "207cca8e-0a28-4c06-b85d-210d6f225d30"
      },
      "execution_count": 4,
      "outputs": [
        {
          "output_type": "stream",
          "name": "stdout",
          "text": [
            "new_img.size() = torch.Size([1, 84, 84])\n"
          ]
        },
        {
          "output_type": "execute_result",
          "data": {
            "text/plain": [
              "<matplotlib.image.AxesImage at 0x7934a1ddd5a0>"
            ]
          },
          "metadata": {},
          "execution_count": 4
        },
        {
          "output_type": "display_data",
          "data": {
            "text/plain": [
              "<Figure size 640x480 with 2 Axes>"
            ],
            "image/png": "[encoded data removed]"
          },
          "metadata": {}
        }
      ]
    },
    {
      "cell_type": "markdown",
      "source": [
        "### Elaboration d'un modèle de de DQN"
      ],
      "metadata": {
        "id": "0A1YB793pFc2"
      }
    },
    {
      "cell_type": "code",
      "source": [
        "import torch\n",
        "import torch.nn as nn\n",
        "\n",
        "class DQN(nn.Module):\n",
        "    def __init__(self, n_action, height, width, linear_size=1024, model_name=None):\n",
        "        super(DQN, self).__init__()\n",
        "        self.input_dimension = 1, height, width\n",
        "\n",
        "        self.conv1 = nn.Conv2d(in_channels=self.input_dimension[0], out_channels=32, kernel_size=8, stride=4)\n",
        "        self.relu1 = nn.ReLU()\n",
        "        self.conv2 = nn.Conv2d(32, 64, kernel_size=4, stride=2, padding=1)\n",
        "        self.relu2 = nn.ReLU()\n",
        "        self.conv3 = nn.Conv2d(64, 64, kernel_size=3, stride=1, padding=1)\n",
        "        self.relu3 = nn.ReLU()\n",
        "\n",
        "        x0 = torch.zeros(1, 1, height, width)\n",
        "        x0 = self.convolute(x0)\n",
        "        x0 = self.flatten(x0)\n",
        "        flatten_dim = x0.shape[1]\n",
        "\n",
        "        self.linear1 = nn.Linear(flatten_dim, linear_size)\n",
        "        self.relu4 = nn.ReLU()\n",
        "        self.linear2 = nn.Linear(linear_size, n_action)\n",
        "\n",
        "    def flatten(self, x):\n",
        "        return x.view(x.shape[0], -1)\n",
        "\n",
        "    def convolute(self,x):\n",
        "      x = self.conv1(x)\n",
        "      x = self.relu1(x)\n",
        "      x = self.conv2(x)\n",
        "      x = self.relu2(x)\n",
        "      x = self.conv3(x)\n",
        "      x = self.relu3(x)\n",
        "      return x\n",
        "\n",
        "    def forward(self, x):\n",
        "      x = self.convolute(x)\n",
        "\n",
        "      x = self.flatten(x)\n",
        "\n",
        "      x = self.linear1(x)\n",
        "      x = self.relu4(x)\n",
        "      return self.linear2(x)"
      ],
      "metadata": {
        "id": "G823PH_jIctd",
        "colab": {
          "base_uri": "https://localhost:8080/"
        },
        "outputId": "0d440ad5-ebd3-412a-e4d3-6ac7dcdd7655"
      },
      "execution_count": 89,
      "outputs": [
        {
          "output_type": "stream",
          "name": "stderr",
          "text": [
            "/usr/local/lib/python3.10/dist-packages/ipykernel/ipkernel.py:283: DeprecationWarning: `should_run_async` will not call `transform_cell` automatically in the future. Please pass the result to `transformed_cell` argument and any exception that happen during thetransform in `preprocessing_exc_tuple` in IPython 7.17 and above.\n",
            "  and should_run_async(code)\n"
          ]
        }
      ]
    },
    {
      "cell_type": "code",
      "source": [
        "import torch\n",
        "import torch.nn as nn\n",
        "\n",
        "class DuellingDQN(nn.Module):\n",
        "    def __init__(self, n_action, height, width, linear_size=1024, model_name=None):\n",
        "        super(DQN, self).__init__()\n",
        "        self.input_dimension = 1, height, width\n",
        "\n",
        "        self.conv1 = nn.Conv2d(in_channels=self.input_dimension[0], out_channels=32, kernel_size=8, stride=4)\n",
        "        self.relu1 = nn.ReLU()\n",
        "        self.conv2 = nn.Conv2d(32, 64, kernel_size=4, stride=2, padding=1)\n",
        "        self.relu2 = nn.ReLU()\n",
        "        self.conv3 = nn.Conv2d(64, 64, kernel_size=3, stride=1, padding=1)\n",
        "        self.relu3 = nn.ReLU()\n",
        "\n",
        "        x0 = torch.zeros(1, 1, height, width)\n",
        "        x0 = self.convolute(x0)\n",
        "        x0 = self.flatten(x0)\n",
        "        flatten_dim = x0.shape[1]\n",
        "\n",
        "        self.linear1 = nn.Linear(flatten_dim, linear_size)\n",
        "        self.relu4 = nn.ReLU()\n",
        "        self.linear2 = nn.Linear(linear_size, n_action)\n",
        "\n",
        "    def flatten(self, x):\n",
        "        return x.view(x.shape[0], -1)\n",
        "\n",
        "    def convolute(self,x):\n",
        "      x = self.conv1(x)\n",
        "      x = self.relu1(x)\n",
        "      x = self.conv2(x)\n",
        "      x = self.relu2(x)\n",
        "      x = self.conv3(x)\n",
        "      x = self.relu3(x)\n",
        "      return x\n",
        "\n",
        "    def forward(self, x):\n",
        "      x = self.convolute(x)\n",
        "\n",
        "      x = self.flatten(x)\n",
        "\n",
        "      x = self.linear1(x)\n",
        "      x = self.relu4(x)\n",
        "      return self.linear2(x)"
      ],
      "metadata": {
        "id": "ST4yINSA3j76"
      },
      "execution_count": 86,
      "outputs": []
    },
    {
      "cell_type": "code",
      "source": [
        "Input = namedtuple('input', ('height', 'width', 'n_action'))\n",
        "\n",
        "def get_input_shapes(env:gym.Env):\n",
        "  env_tensor = np.zeros(env.observation_space.shape,dtype=np.uint8)\n",
        "  x = preprocess_image(env_tensor)\n",
        "  _,height, width = x.shape\n",
        "  n_action=env.action_space.n\n",
        "  return Input(height,width,n_action)\n"
      ],
      "metadata": {
        "id": "Uj5w4MoD3dxR"
      },
      "execution_count": 87,
      "outputs": []
    },
    {
      "cell_type": "markdown",
      "source": [
        "testons"
      ],
      "metadata": {
        "id": "bfOjRVyt_TRz"
      }
    },
    {
      "cell_type": "code",
      "source": [
        "env = gym.make('ALE/Breakout-v5', render_mode=\"rgb_array\")\n",
        "input_data = get_input_shapes(env)\n",
        "dqn = DQN(input_data.n_action,input_data.height,input_data.width)\n",
        "x = preprocess_image(env.reset()[0])\n",
        "x = x.unsqueeze(0)\n",
        "output = dqn(x)\n",
        "assert output.size(1) == env.action_space.n, print(f'{output.size(1)} != {env.action_space.n}')\n",
        "print(\"Les shapes de sortie du modèle sont cohérentes.\")\n",
        "print(f'{output.size()}')"
      ],
      "metadata": {
        "colab": {
          "base_uri": "https://localhost:8080/"
        },
        "id": "bHL5liwk-X3B",
        "outputId": "d24d48b5-b763-4326-9ab4-16c366c9fcb3"
      },
      "execution_count": 90,
      "outputs": [
        {
          "output_type": "stream",
          "name": "stdout",
          "text": [
            "Les shapes de sortie du modèle sont cohérentes.\n",
            "torch.Size([1, 4])\n"
          ]
        }
      ]
    },
    {
      "cell_type": "markdown",
      "source": [
        "#### Gestion de la mémoire des expériences"
      ],
      "metadata": {
        "id": "GkoNo8z40ulV"
      }
    },
    {
      "cell_type": "code",
      "source": [
        "GameTransition = namedtuple('game_transition', ('initial_state', 'action', 'reward','next_state', 'done'))"
      ],
      "metadata": {
        "id": "-EEcI22jgs3u"
      },
      "execution_count": null,
      "outputs": []
    },
    {
      "cell_type": "code",
      "source": [
        "class ExpStack(): # D\n",
        "  def __init__(self, max_size:int):\n",
        "    self.transitions = []\n",
        "    self.max_size = max_size # N\n",
        "    self.index = 0\n",
        "\n",
        "  def enqueue(self,transition:GameTransition):\n",
        "    if (len(self.transitions) < self.max_size):\n",
        "      self.transitions.append(transition)\n",
        "    else:\n",
        "      self.transitions[self.index] = transition\n",
        "    self.index +=1\n",
        "    self.index = self.index % self.max_size\n",
        "\n",
        "  def get_experiences(self,nb_exp=1):\n",
        "    return random.sample(self.transitions, nb_exp)\n",
        "\n",
        "  def __len__(self):\n",
        "    return len(self.transitions)\n",
        "\n",
        "  def __getitem__(self,index):\n",
        "    return self.transitions[index]\n",
        "\n",
        "  def sample_minibatch(self,batch_size:int=32):\n",
        "    if (batch_size>=len(self)):\n",
        "      return self.transitions\n",
        "\n",
        "    return random.sample(self.transitions, batch_size)\n",
        "\n",
        "  def tensor_batch(self,batch_size):\n",
        "    batch = self.sample_minibatch(batch_size)\n",
        "    batch = GameTransition(*(zip(*batch)))\n",
        "\n",
        "    initial_state = torch.cat(batch.initial_state, dim=0)\n",
        "    initial_state = initial_state.unsqueeze(1)\n",
        "\n",
        "    next_state = torch.cat(batch.next_state, dim=0)\n",
        "    next_state = next_state.unsqueeze(1)\n",
        "\n",
        "    reward = torch.tensor(batch.reward)\n",
        "    reward = reward.unsqueeze(1)\n",
        "\n",
        "    done = torch.tensor(batch.done).float()\n",
        "    done = done.unsqueeze(1)\n",
        "\n",
        "    action = torch.tensor(batch.action)\n",
        "    action = action.unsqueeze(1)\n",
        "\n",
        "    return GameTransition(initial_state,action,reward,next_state,done)"
      ],
      "metadata": {
        "id": "tsLFma1J00XQ"
      },
      "execution_count": null,
      "outputs": []
    },
    {
      "cell_type": "markdown",
      "source": [
        "### Lancement du modèle sur l'algorithme **\"deep Q-learning with experience replay.\"** issu de l'article"
      ],
      "metadata": {
        "id": "sYoZhQMapgsH"
      }
    },
    {
      "cell_type": "code",
      "source": [
        "Action = int\n",
        "State = torch.Tensor"
      ],
      "metadata": {
        "id": "1kzOr7vmRNwk"
      },
      "execution_count": null,
      "outputs": []
    },
    {
      "cell_type": "code",
      "source": [
        "class DQNAgent():\n",
        "  max_step = int(1e5)\n",
        "  epsilon = 0.05\n",
        "  batch_size = 32\n",
        "  gamma = 0.9\n",
        "  time_limit = 3600 * 2\n",
        "  def __init__(self, env: gym.Env, max_experiences:int = int(1e6),update_frequency:int=5, verbose:bool=True, model_file:str=None, model:nn.Module=None):\n",
        "    self.env = env\n",
        "\n",
        "    self.model = model\n",
        "    self.target_model = copy.deepcopy(self.model)\n",
        "    self.target_model.eval()\n",
        "\n",
        "    self.experiences = ExpStack(max_size=max_experiences)\n",
        "\n",
        "    self.verbose = verbose\n",
        "    self.update_frequency = update_frequency\n",
        "    self.legal_actions = list(range(env.action_space.n))\n",
        "\n",
        "    self.loss_evolution = []\n",
        "    self.optimizer = torch.optim.Adam(self.model.parameters())\n",
        "    self.loss_func = nn.MSELoss()\n",
        "    self.begin_time = time()\n",
        "    self.stop = False\n",
        "    self.epoch_count = 0\n",
        "    if (model_file is None):\n",
        "      self.model_file = 'model.pt'\n",
        "    else:\n",
        "      self.model_file = model_file\n",
        "\n",
        "  def train_agent(self,nb_episodes:int):\n",
        "    episode_index = 0\n",
        "    while(episode_index < nb_episodes and not self.stop):\n",
        "      self.make_episode()\n",
        "      episode_index +=1\n",
        "      if(self.verbose and episode_index % 100==0):\n",
        "        print(f'{episode_index}/{nb_episodes} episodes are done')\n",
        "\n",
        "  def make_episode(self):\n",
        "    done = False\n",
        "    step_index = 0\n",
        "    while(step_index <self.max_step and not done and not self.stop):\n",
        "      # Initialize State 1 # TODO\n",
        "      self.update_time()\n",
        "      current_state = preprocess_image(self.env.reset()[0])\n",
        "      done = self.make_step(current_state)\n",
        "      if(step_index % self.update_frequency == 0):\n",
        "        self.update_parameters()\n",
        "      step_index +=1\n",
        "\n",
        "  def make_step(self,current_state: State | None = None):\n",
        "    # Get action a_t\n",
        "    a_t = self.get_action(current_state=current_state)\n",
        "    # Make action and retrieve r_t and x_t\n",
        "    next_state,reward,done,info = self.make_action(a_t)\n",
        "    # Store transition\n",
        "    transition = GameTransition(current_state,a_t,reward,next_state,done)\n",
        "    self.experiences.enqueue(transition)\n",
        "    # Sample minibatch of transitions\n",
        "    mini_batch = self.experiences.tensor_batch(self.batch_size)\n",
        "    self.train_model(mini_batch)\n",
        "    return done\n",
        "\n",
        "\n",
        "\n",
        "  def train_model(self,batch:list[GameTransition]) -> None:\n",
        "    self.model.train()\n",
        "    y_target = (1 - batch.done ) * self.target_model(batch.next_state) * self.gamma + batch.reward\n",
        "    y_target = y_target.max(1)[0].unsqueeze(1)\n",
        "    y_pred = self.model(batch.initial_state).gather(1,batch.action)\n",
        "    self.gradient_descent(y_target,y_pred)\n",
        "\n",
        "  def gradient_descent(self,y_target,y_pred):\n",
        "    loss = self.loss_func(y_target,y_pred)\n",
        "    self.optimizer.zero_grad()\n",
        "    loss.backward()\n",
        "    self.loss_evolution.append(loss.item())\n",
        "    self.optimizer.step()\n",
        "    if(self.verbose and self.epoch_count %100 ==0):\n",
        "      print(f'Epoch {self.epoch_count}: loss = {loss.item()}')\n",
        "    self.epoch_count +=1\n",
        "\n",
        "  def make_action(self, action: Action) -> tuple[State,float, bool,dict]:\n",
        "    state,reward,truncated, terminated,info = self.env.step(action)\n",
        "    next_state = preprocess_image(state)\n",
        "    done = truncated or terminated\n",
        "    return next_state,reward,done,info\n",
        "\n",
        "\n",
        "  def get_action(self,current_state: State) -> Action:\n",
        "    if(random.random() < self.epsilon):\n",
        "      return random.choice(self.legal_actions)\n",
        "\n",
        "    current_state = current_state.unsqueeze(0)\n",
        "    model_output = self.model(current_state)\n",
        "    action = model_output.argmax().item()\n",
        "    return action\n",
        "\n",
        "  def update_parameters(self) -> None:\n",
        "    self.target_model = copy.deepcopy(self.model)\n",
        "    self.target_model.eval()\n",
        "\n",
        "  def reboot_timer(self):\n",
        "    self.begin_time = time()\n",
        "    self.stop = False\n",
        "    self.loss_evolution = []\n",
        "\n",
        "  def update_time(self):\n",
        "    current_time = int(time())\n",
        "    delta = current_time - self.begin_time\n",
        "    self.stop = delta > self.time_limit\n",
        "    if(self.stop):\n",
        "      # Save model\n",
        "      torch.save(self.model,self.model_file+'.pt')\n",
        "      print(f'TIME OUT: Model stops training after {delta:.2f} seconds, Save model to {self.model_file}.pt')\n",
        "      print(f'Epochs {self.epoch_count}')\n"
      ],
      "metadata": {
        "id": "uHMulMZustrI"
      },
      "execution_count": null,
      "outputs": []
    },
    {
      "cell_type": "code",
      "source": [
        "env = gym.make('ALE/Breakout-v5', render_mode=\"rgb_array\")\n",
        "input_data = get_input_shapes(env)\n",
        "dqn = DQN(input_data.n_action,input_data.height,input_data.width)\n",
        "\n",
        "agent = DQNAgent(env,verbose=True,model_file='simple_dqn',model=dqn)\n",
        "agent.time_limit = 1\n",
        "agent.train_agent(25000)"
      ],
      "metadata": {
        "id": "nRWJr4ztF52_"
      },
      "execution_count": null,
      "outputs": []
    },
    {
      "cell_type": "code",
      "source": [
        "import matplotlib.pyplot as plt\n",
        "fig = plt.figure()\n",
        "ax = fig.add_subplot(111)\n",
        "ax.plot(agent.loss_evolution,color='blue')\n",
        "ax.set_title(f'Loss evolution for {agent.model_file}')\n",
        "plt.show()\n",
        "fig.savefig('loss.png')"
      ],
      "metadata": {
        "id": "6FNQdP-cG1QL"
      },
      "execution_count": null,
      "outputs": []
    },
    {
      "cell_type": "code",
      "source": [],
      "metadata": {
        "id": "QfvI1mInlvfY"
      },
      "execution_count": null,
      "outputs": []
    }
  ]
}