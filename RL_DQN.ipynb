{
  "nbformat": 4,
  "nbformat_minor": 0,
  "metadata": {
    "colab": {
      "provenance": [],
      "authorship_tag": "ABX9TyOrCxIij88vC1ilT1hb99X9",
      "include_colab_link": true
    },
    "kernelspec": {
      "name": "python3",
      "display_name": "Python 3"
    },
    "language_info": {
      "name": "python"
    }
  },
  "cells": [
    {
      "cell_type": "markdown",
      "metadata": {
        "id": "view-in-github",
        "colab_type": "text"
      },
      "source": [
        "<a href=\"https://colab.research.google.com/github/Bast-94/RL-DQN/blob/dqn-draft/RL_DQN.ipynb\" target=\"_parent\"><img src=\"https://colab.research.google.com/assets/colab-badge.svg\" alt=\"Open In Colab\"/></a>"
      ]
    },
    {
      "cell_type": "markdown",
      "source": [
        "# Projet de Reinforcement Learning : Deep Q-Learning sur le casse-brique d'Atari"
      ],
      "metadata": {
        "id": "IxUx75ISnaC2"
      }
    },
    {
      "cell_type": "code",
      "execution_count": null,
      "metadata": {
        "colab": {
          "base_uri": "https://localhost:8080/"
        },
        "id": "IT6J8Qb1nTG4",
        "outputId": "e291b04c-286b-4d97-ff1a-f5d3ff9bef6a"
      },
      "outputs": [
        {
          "output_type": "stream",
          "name": "stdout",
          "text": [
            "\u001b[2K     \u001b[90m━━━━━━━━━━━━━━━━━━━━━━━━━━━━━━━━━━━━━━━━\u001b[0m \u001b[32m953.9/953.9 kB\u001b[0m \u001b[31m11.2 MB/s\u001b[0m eta \u001b[36m0:00:00\u001b[0m\n",
            "\u001b[2K     \u001b[90m━━━━━━━━━━━━━━━━━━━━━━━━━━━━━━━━━━━━━━━━\u001b[0m \u001b[32m434.7/434.7 kB\u001b[0m \u001b[31m42.4 MB/s\u001b[0m eta \u001b[36m0:00:00\u001b[0m\n",
            "\u001b[?25h  Installing build dependencies ... \u001b[?25l\u001b[?25hdone\n",
            "  Getting requirements to build wheel ... \u001b[?25l\u001b[?25hdone\n",
            "  Preparing metadata (pyproject.toml) ... \u001b[?25l\u001b[?25hdone\n",
            "\u001b[2K     \u001b[90m━━━━━━━━━━━━━━━━━━━━━━━━━━━━━━━━━━━━━━━━\u001b[0m \u001b[32m1.7/1.7 MB\u001b[0m \u001b[31m59.5 MB/s\u001b[0m eta \u001b[36m0:00:00\u001b[0m\n",
            "\u001b[?25h  Building wheel for AutoROM.accept-rom-license (pyproject.toml) ... \u001b[?25l\u001b[?25hdone\n"
          ]
        }
      ],
      "source": [
        "! pip install -q gymnasium[\"atari\",\"accept-rom-license\"]"
      ]
    },
    {
      "cell_type": "markdown",
      "source": [
        "## Présentation globale du projet"
      ],
      "metadata": {
        "id": "R6RsUvhwom-z"
      }
    },
    {
      "cell_type": "markdown",
      "source": [
        "### Objectifs du projet"
      ],
      "metadata": {
        "id": "NJtQe-8OO2_1"
      }
    },
    {
      "cell_type": "markdown",
      "source": [
        "### Algorithme principal"
      ],
      "metadata": {
        "id": "mdognuOSOxDy"
      }
    },
    {
      "cell_type": "markdown",
      "source": [
        "#### Pseudo code de l'algorithme"
      ],
      "metadata": {
        "id": "QTVHA36NPEcA"
      }
    },
    {
      "cell_type": "markdown",
      "source": [
        "\n",
        "$\\text{Algorithme de Q-Leearning profond avec répétition d'expérience}$\n",
        "1. **Initialisation:**\n",
        "   - Initialiser le réseau de neurones $Q$ avec des poids aléatoires\n",
        "   - Initialiser la mémoire de relecture $D$ avec capacité maximale $N$\n",
        "   - Initialiser les paramètres d'apprentissage\n",
        "   - Initialiser la fonction $Q$ avec des $\\theta$ aléatoire\n",
        "   - Initialiser $\\hat{Q}$ avec $\\theta^⁻ = \\theta$\n",
        "\n",
        "2. **Pour chaque épisode:**\n",
        "   - Initialiser l'environnement et l'état initial $s_1=\\{x_1\\}$\n",
        "   - Appliquer le prétraitement $\\phi_1 = \\phi(s_1)$\n",
        "   \n",
        "   3. **Pour chaque étape $t$ de l'épisode:**\n",
        "      - Choisir l'action $a_t$ avec la politique $\\varepsilon$-greedy\n",
        "        - $\\mathbb{P}(a_t = argmax_a(Q(s_t,a;\\theta)) = 1 - \\varepsilon$\n",
        "        - $\\mathbb{P}(a_t = \\text{random\\_sample(}A)) = \\varepsilon$\n",
        "      - Exécuter l'action $a_t$, observer la récompense $r_t$ et l'état suivant $s_{t+1}$\n",
        "      - Stocker la transition $(s_t, a_t, r_{t}, s_{t+1})$ dans la mémoire de relecture $D$\n",
        "      - Affecter $s_{t+1}=s_t,a_t,x_{t+1}$\n",
        "      - Prétraitement de $s_{t+1}$ : $\\phi_{t+1}=\\phi(s_{t+1})$\n",
        "      - Échantillonner un lot aléatoire de transitions $(s_i, a_i, r_i, s_{i+1})$ de $D$\n",
        "      - Calculer la vérité terrain $y_i$ pour chaque transition $(s_i, a_i, r_i, s_{i+1})$ en utilisant le réseau $\\hat{Q}$ aux paramètre $\\theta^-$\n",
        "      - Cloner $Q$ dans $\\hat{Q}$ toutes les $C$ étapes\n",
        "      \n"
      ],
      "metadata": {
        "id": "QX8se4unQDDr"
      }
    },
    {
      "cell_type": "markdown",
      "source": [
        "#### Détails des variables\n",
        "- $Q$ : Fonction de qualité qui pour un couple état-action évalue à quel point une action dans un état donné est favorable.\n",
        "- $C$ : Nombre d'étapes à laquelle $\\hat{Q}$ se met à jour sur $Q$.\n",
        "- $\\hat{Q}$ : Target Network , il correspond à une version ancienne de $Q$ avec des paramètres $\\theta^-$ sur les $C$ dernières étapes.\n",
        "- $\\theta$ : Correspond aux paramètres du réseau de neurones.\n",
        "- ${A}$ : L'ensemble des actions possibles.\n",
        "- $a_t$ : L'action faite par l'agent à l'étape $t$.\n",
        "- $x_t$ : Correspond à l'image brut du jeu à l'étape $t$.\n",
        "- $s_t$ : Correspond à une séquence de couples action-image $\\{a_i \\times x_i\\}_{i\\lt t}$ .\n",
        "- $\\phi_t$ : Correspond au pré-traitement de l'état $s_t$ (Plus de détails dans la suite du notebook).\n",
        "- $\\varepsilon \\in [0,1]$ : Probabilité de choisir une action aléatoire.\n",
        "- $r_t$ : Récompense obtenue par la réalisation de l'action $a_t$ à l'instant $s_t$\n",
        "- $D$ : Mémoire de relecture.\n",
        "- $N$ : Nombre de simulations."
      ],
      "metadata": {
        "id": "9Se6OPbaO_cU"
      }
    },
    {
      "cell_type": "markdown",
      "source": [
        "## Démarche de recherche"
      ],
      "metadata": {
        "id": "mWhORuoko1v4"
      }
    },
    {
      "cell_type": "code",
      "source": [
        "from torch import nn\n",
        "import gymnasium as gym\n",
        "import matplotlib.pyplot as plt\n",
        "import numpy as np\n",
        "import random"
      ],
      "metadata": {
        "id": "6MpkCLnpoSIw"
      },
      "execution_count": null,
      "outputs": []
    },
    {
      "cell_type": "code",
      "source": [
        "env = gym.make('ALE/Breakout-v5', render_mode=\"rgb_array\")\n",
        "state = env.reset()[0]\n",
        "\n",
        "for i in range(1000):\n",
        "  action = random.randint(0,env.action_space.n-1)\n",
        "  # print(action)\n",
        "  state = env.step(action)[0]\n",
        "plt.imshow(env.render())"
      ],
      "metadata": {
        "colab": {
          "base_uri": "https://localhost:8080/",
          "height": 451
        },
        "id": "N6ZcIBHgs5w6",
        "outputId": "76039d67-ac67-4e8d-999c-160356299a2f"
      },
      "execution_count": null,
      "outputs": [
        {
          "output_type": "execute_result",
          "data": {
            "text/plain": [
              "<matplotlib.image.AxesImage at 0x7bf6cecebd90>"
            ]
          },
          "metadata": {},
          "execution_count": 66
        },
        {
          "output_type": "display_data",
          "data": {
            "text/plain": [
              "<Figure size 640x480 with 1 Axes>"
            ],
            "image/png": "[encoded data removed]"
          },
          "metadata": {}
        }
      ]
    },
    {
      "cell_type": "markdown",
      "source": [
        "### Prétraitement de images"
      ],
      "metadata": {
        "id": "SigMH8V6pAQI"
      }
    },
    {
      "cell_type": "code",
      "source": [],
      "metadata": {
        "id": "PAMFtsQApR-c"
      },
      "execution_count": null,
      "outputs": []
    },
    {
      "cell_type": "markdown",
      "source": [
        "### Elaboration d'un modèle de de DQN"
      ],
      "metadata": {
        "id": "0A1YB793pFc2"
      }
    },
    {
      "cell_type": "code",
      "source": [],
      "metadata": {
        "id": "cnegLX0Cor49"
      },
      "execution_count": null,
      "outputs": []
    },
    {
      "cell_type": "markdown",
      "source": [
        "### Lancement du modèle sur l'algorithme **\"deep Q-learning with experience replay.\"** issu de l'article"
      ],
      "metadata": {
        "id": "sYoZhQMapgsH"
      }
    },
    {
      "cell_type": "code",
      "source": [
        "n_episodes = 100\n",
        "for episode in range(n_episodes):\n",
        "  # Pre process\n",
        "  # Random sample with epsilon\n"
      ],
      "metadata": {
        "id": "uHMulMZustrI"
      },
      "execution_count": null,
      "outputs": []
    }
  ]
}